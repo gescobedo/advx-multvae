{
 "cells": [
  {
   "cell_type": "code",
   "execution_count": 56,
   "id": "ba25bd01",
   "metadata": {},
   "outputs": [],
   "source": [
    "import re\n",
    "import json\n",
    "from copy import deepcopy\n",
    "from ast import literal_eval\n",
    "from collections import defaultdict"
   ]
  },
  {
   "cell_type": "code",
   "execution_count": 28,
   "id": "2ca08386",
   "metadata": {},
   "outputs": [],
   "source": [
    "def pretty_print(d: dict):\n",
    "    print(json.dumps(d, indent=\"  \"))"
   ]
  },
  {
   "cell_type": "code",
   "execution_count": 29,
   "id": "61052ffd",
   "metadata": {},
   "outputs": [],
   "source": [
    "def merge_dicts(first: dict, second: dict):\n",
    "    \"\"\"\n",
    "    Merges two dictionaries and all their subsequent dictionaries.\n",
    "    In case both dictionaries contain the same key, which is not another dictionary, the latter one is used.\n",
    "\n",
    "    This merges in contrast to dict.update() all subdicts and its items\n",
    "    instead of overriding the former with the latter.\n",
    "    \"\"\"\n",
    "    fk = set(first.keys())\n",
    "    sk = set(second.keys())\n",
    "    common_keys = fk.intersection(sk)\n",
    "\n",
    "    z = {}\n",
    "    for k in common_keys:\n",
    "        if isinstance(first[k], dict) and isinstance(second[k], dict):\n",
    "            z[k] = merge_dicts(first[k], second[k])\n",
    "        else:\n",
    "            z[k] = deepcopy(second[k])\n",
    "\n",
    "    for k in fk - common_keys:\n",
    "        z[k] = deepcopy(first[k])\n",
    "\n",
    "    for k in sk - common_keys:\n",
    "        z[k] = deepcopy(second[k])\n",
    "\n",
    "    return z"
   ]
  },
  {
   "cell_type": "code",
   "execution_count": 125,
   "id": "3c6375cd",
   "metadata": {},
   "outputs": [],
   "source": [
    "def nested_dict_set(key: str, value: any, d: dict, sep: str=\".\") -> dict:\n",
    "    \"\"\"\n",
    "    Iterates through the provided nested dictionary and searches for the provided key,\n",
    "    and then sets its value to the one specified. As the dictionary might consist\n",
    "    of other dictionaries, a separator (sep) can be used to access\n",
    "    sub-dictionaries.\n",
    "\n",
    "    Note that as dictionaries are mutable and passed by reference, we modify the dictionary in-place\n",
    "    to make the requested changes. Still, the dict is returned to suit all use-cases.\n",
    "\n",
    "    Args:\n",
    "        key (str): the key to look for in the dictionary\n",
    "        value (any): the value to set the dictionary item to\n",
    "        d (dict): the dictionary for which key values should be replaced\n",
    "        sep (str): the string/char that splits the different levels of the dict keys\n",
    "\n",
    "    Returns:\n",
    "        (dict): the modified dictionary (Note that the dictionary is modified in-place nonetheless.)\n",
    "    \"\"\"\n",
    "\n",
    "    di = d\n",
    "    steps = key.split(sep)\n",
    "\n",
    "    while len(steps) > 0:\n",
    "        step = steps.pop(0)\n",
    "        \n",
    "        # basically validates and searches for list indices\n",
    "        res = re.search(pattern, step)\n",
    "        if res is None:\n",
    "            raise KeyError(f\"format of key '{step}' not supported.\")\n",
    "        _, _, key_for_list, list_idx, key_for_dict = res.groups()\n",
    "        list_idx_provided = list_idx is not None\n",
    "        \n",
    "        print(f\"{key_for_list=}, {list_idx=}, {list_idx_provided=}, {key_for_dict=}\")\n",
    "        \n",
    "        k = key_for_list or key_for_dict\n",
    "        list_idx = int(list_idx) if list_idx_provided else None\n",
    "        \n",
    "        # look up whether key exists in dict\n",
    "        if isinstance(di, dict) and k in di:\n",
    "            \n",
    "            # lists and dicts are all passed by reference, thus we can modify them in-place \n",
    "            element = di[k]\n",
    "            if list_idx_provided:\n",
    "                if not isinstance(element, list):\n",
    "                    raise KeyError(f\"list index provided in key '{k}', but no list found.\")\n",
    "                    \n",
    "            # key found\n",
    "            if len(steps) == 0:\n",
    "                if list_idx_provided:\n",
    "                    element[list_idx] = value\n",
    "                else: \n",
    "                    element = value\n",
    "                return d\n",
    "\n",
    "            # continue search\n",
    "            di = element[list_idx] if list_idx_provided else element\n",
    "\n",
    "        # failed to find key\n",
    "        else:\n",
    "            break\n",
    "\n",
    "    raise KeyError(key)"
   ]
  },
  {
   "cell_type": "code",
   "execution_count": 157,
   "id": "443788bb",
   "metadata": {},
   "outputs": [
    {
     "data": {
      "text/plain": [
       "(['ab22'], None)"
      ]
     },
     "execution_count": 157,
     "metadata": {},
     "output_type": "execute_result"
    }
   ],
   "source": [
    "res = \"ab22\".split(\".\", maxsplit=1)\n",
    "k, rest = res if len(res) == 2 else res, None\n",
    "k, rest"
   ]
  },
  {
   "cell_type": "code",
   "execution_count": 188,
   "id": "eb49f518",
   "metadata": {},
   "outputs": [],
   "source": [
    "def nested_dict_set(key: str, value: any, d: dict, sep: str=\".\") -> dict:\n",
    "    \"\"\"\n",
    "    Iterates through the provided nested dictionary and searches for the provided key,\n",
    "    and then sets its value to the one specified. As the dictionary might consist\n",
    "    of other dictionaries, a separator (sep) can be used to access\n",
    "    sub-dictionaries.\n",
    "\n",
    "    Note that as dictionaries are mutable and passed by reference, we modify the dictionary in-place\n",
    "    to make the requested changes. Still, the dict is returned to suit all use-cases.\n",
    "\n",
    "    Args:\n",
    "        key (str): the key to look for in the dictionary\n",
    "        value (any): the value to set the dictionary item to\n",
    "        d (dict): the dictionary for which key values should be replaced\n",
    "        sep (str): the string/char that splits the different levels of the dict keys\n",
    "\n",
    "    Returns:\n",
    "        (dict): the modified dictionary (Note that the dictionary is modified in-place nonetheless.)\n",
    "    \"\"\"\n",
    "    return _nested_dict_set(key, key, value, d, sep)\n",
    "    \n",
    "    \n",
    "def _split_with_rest(s: str, sep: str, n_splits=1):\n",
    "    \"\"\" \n",
    "    splits the specified string, if string was split less than \"n_splits\" times, \n",
    "    for the remaining splits, None will be returned\n",
    "    \"\"\"\n",
    "    result = s.split(sep, maxsplit=n_splits)\n",
    "    return tuple(list(result) + [None] * (n_splits + 1 - len(result)))\n",
    "\n",
    "\n",
    "def _nested_dict_set(full_key: str, key: str, value: any, d: dict, sep: str=\".\") -> dict:\n",
    "\n",
    "    di = d\n",
    "    k, rest = _split_with_rest(key, sep, n_splits=1)\n",
    "    \n",
    "    # basically validates and searches for list indices\n",
    "    print(f\"searching for pattern {k}\")\n",
    "    res = re.search(pattern, k)\n",
    "    if res is None:\n",
    "        raise KeyError(f\"format of key '{k}' not supported.\")\n",
    "    _, _, key_for_list, list_idx, key_for_dict = res.groups()\n",
    "    list_idx_provided = list_idx is not None\n",
    "    \n",
    "    print(f\"{key_for_list=}, {list_idx=}, {list_idx_provided=}, {key_for_dict=}\")\n",
    "\n",
    "    k = key_for_list or key_for_dict\n",
    "    list_idx = int(list_idx) if list_idx_provided else None\n",
    "\n",
    "    # look up whether key exists in dict\n",
    "    if isinstance(di, dict) and k in di:\n",
    "        if list_idx_provided:\n",
    "            if not isinstance(di[k], list):\n",
    "                raise KeyError(f\"list index provided with key {full_key} but no list found.\")\n",
    "\n",
    "        if rest is None:\n",
    "            if list_idx_provided:\n",
    "                di[k][list_idx] = value\n",
    "            else: \n",
    "                di[k] = value\n",
    "            return di\n",
    "\n",
    "        # continue search\n",
    "        return _nested_dict_set(full_key, rest, value, di[k][list_idx] if list_idx_provided else di[k])\n",
    "    \n",
    "    else: \n",
    "        # failed to find key\n",
    "        raise KeyError(full_key)"
   ]
  },
  {
   "cell_type": "code",
   "execution_count": 189,
   "id": "7cc40a03",
   "metadata": {},
   "outputs": [
    {
     "data": {
      "text/plain": [
       "('ab', 'c', 'd', 'e', None)"
      ]
     },
     "execution_count": 189,
     "metadata": {},
     "output_type": "execute_result"
    }
   ],
   "source": [
    "_split_with_rest(\"ab.c.d.e\", \".\", 4)"
   ]
  },
  {
   "cell_type": "code",
   "execution_count": 190,
   "id": "e3771a41",
   "metadata": {},
   "outputs": [
    {
     "data": {
      "text/plain": [
       "[('optim[1]', 'optim', '1', '')]"
      ]
     },
     "execution_count": 190,
     "metadata": {},
     "output_type": "execute_result"
    }
   ],
   "source": [
    "re.findall(r\"((\\w+)\\[(\\d+)\\])|(\\w+)\", \"optim[1]\")"
   ]
  },
  {
   "cell_type": "code",
   "execution_count": 191,
   "id": "24a7115a",
   "metadata": {},
   "outputs": [
    {
     "data": {
      "text/plain": [
       "('opti[1]', 'opti[1]', 'opti', '1', None)"
      ]
     },
     "metadata": {},
     "output_type": "display_data"
    },
    {
     "data": {
      "text/plain": [
       "1"
      ]
     },
     "execution_count": 191,
     "metadata": {},
     "output_type": "execute_result"
    }
   ],
   "source": [
    "pattern = r\"^((([a-zA-Z]+\\w*)\\[(\\d+)\\])|([a-zA-Z]+\\w*))$\"\n",
    "res = re.search(pattern, \"opti[1]\").groups()\n",
    "display(res)\n",
    "\n",
    "_, _, key_for_list, list_idx, key_for_dict = res\n",
    "int(list_idx)"
   ]
  },
  {
   "cell_type": "code",
   "execution_count": 207,
   "id": "fcbe8a71",
   "metadata": {},
   "outputs": [],
   "source": [
    "a = {\n",
    "    \"optim\": {     \n",
    "        \"lr\": 1e-3,\n",
    "        \"weight_decay\": 1e-4,   \n",
    "    },\n",
    "    \n",
    "    \"adv_groups\": [\n",
    "        { \n",
    "            \"feature\": \"gender\",\n",
    "        },\n",
    "        {\n",
    "            \"grad_scaling\": 1\n",
    "        }\n",
    "    ]\n",
    "}\n",
    "\n",
    "grid_config = {\n",
    "    \"optim.lr\": 1e-3,\n",
    "    \"adv_groups[0]\": \"hannes\",\n",
    "    \"adv_groups[1]\": {\n",
    "        \"a\": 1,\n",
    "        \"b\": 2\n",
    "    },\n",
    "    \"optim\": \"overriden things\"\n",
    "}"
   ]
  },
  {
   "cell_type": "code",
   "execution_count": 208,
   "id": "6a321647",
   "metadata": {},
   "outputs": [
    {
     "name": "stdout",
     "output_type": "stream",
     "text": [
      "Setting '0.001' for nested key 'optim.lr'\n",
      "searching for pattern optim\n",
      "key_for_list=None, list_idx=None, list_idx_provided=False, key_for_dict='optim'\n",
      "searching for pattern lr\n",
      "key_for_list=None, list_idx=None, list_idx_provided=False, key_for_dict='lr'\n",
      "\n",
      "Setting 'hannes' for nested key 'adv_groups[0]'\n",
      "searching for pattern adv_groups[0]\n",
      "key_for_list='adv_groups', list_idx='0', list_idx_provided=True, key_for_dict=None\n",
      "\n",
      "Setting '{'a': 1, 'b': 2}' for nested key 'adv_groups[1]'\n",
      "searching for pattern adv_groups[1]\n",
      "key_for_list='adv_groups', list_idx='1', list_idx_provided=True, key_for_dict=None\n",
      "\n",
      "Setting 'overriden things' for nested key 'optim'\n",
      "searching for pattern optim\n",
      "key_for_list=None, list_idx=None, list_idx_provided=False, key_for_dict='optim'\n",
      "\n",
      "{\n",
      "  \"optim\": \"overriden things\",\n",
      "  \"adv_groups\": [\n",
      "    \"hannes\",\n",
      "    {\n",
      "      \"a\": 1,\n",
      "      \"b\": 2\n",
      "    }\n",
      "  ]\n",
      "}\n"
     ]
    }
   ],
   "source": [
    "b = deepcopy(a)\n",
    "for k, v in grid_config.items():\n",
    "    print(f\"Setting '{v}' for nested key '{k}'\")\n",
    "    nested_dict_set(k, v, b)\n",
    "    print()\n",
    "pretty_print(b)"
   ]
  },
  {
   "cell_type": "code",
   "execution_count": 109,
   "id": "b8abfae3",
   "metadata": {},
   "outputs": [
    {
     "data": {
      "text/plain": [
       "{'optim': {'lr': 0.001, 'weight_decay': 0.0001},\n",
       " 'adv_groups': [{'feature': 2}, {'grad_scaling': 1}]}"
      ]
     },
     "execution_count": 109,
     "metadata": {},
     "output_type": "execute_result"
    }
   ],
   "source": [
    "l = b[\"adv_groups\"][0]\n",
    "l[\"feature\"] = 2\n",
    "b"
   ]
  },
  {
   "cell_type": "code",
   "execution_count": null,
   "id": "b9fa92ee",
   "metadata": {},
   "outputs": [],
   "source": []
  },
  {
   "cell_type": "code",
   "execution_count": null,
   "id": "69d4b296",
   "metadata": {},
   "outputs": [],
   "source": []
  },
  {
   "cell_type": "code",
   "execution_count": 2,
   "id": "423ba926",
   "metadata": {},
   "outputs": [],
   "source": [
    "test_logit_groups = [\n",
    "    [[\"g1_adv1_log1\", \"g1_adv2_log1\", \"g1_adv2_log1\"], [\"g2_adv1_log1\", \"g2_adv2_log1\"], [\"g3_adv1_log1\"]],\n",
    "    [[\"g1_adv1_log2\", \"g1_adv2_log2\", \"g1_adv2_log2\"], [\"g2_adv1_log2\", \"g2_adv2_log2\"], [\"g3_adv1_log2\"]],\n",
    "    [[\"g1_adv1_log3\", \"g1_adv2_log3\", \"g1_adv2_log3\"], [\"g2_adv1_log3\", \"g2_adv2_log3\"], [\"g3_adv1_log3\"]],\n",
    "]"
   ]
  },
  {
   "cell_type": "code",
   "execution_count": 8,
   "id": "4cc8e5e5",
   "metadata": {},
   "outputs": [
    {
     "data": {
      "text/plain": [
       "[[['g1_adv1_log1', 'g1_adv2_log1', 'g1_adv2_log1'],\n",
       "  ['g1_adv1_log2', 'g1_adv2_log2', 'g1_adv2_log2'],\n",
       "  ['g1_adv1_log3', 'g1_adv2_log3', 'g1_adv2_log3']],\n",
       " [['g2_adv1_log1', 'g2_adv2_log1'],\n",
       "  ['g2_adv1_log2', 'g2_adv2_log2'],\n",
       "  ['g2_adv1_log3', 'g2_adv2_log3']],\n",
       " [['g3_adv1_log1'], ['g3_adv1_log2'], ['g3_adv1_log3']]]"
      ]
     },
     "execution_count": 8,
     "metadata": {},
     "output_type": "execute_result"
    }
   ],
   "source": [
    "result = [list(grp) for grp in zip(*test_logit_groups)]\n",
    "result = list(list(grp) for grp in zip(*test_logit_groups))\n",
    "result"
   ]
  },
  {
   "cell_type": "code",
   "execution_count": 7,
   "id": "f89c2b7a",
   "metadata": {},
   "outputs": [
    {
     "data": {
      "text/plain": [
       "[['g1_adv1_log1', 'g1_adv2_log1', 'g1_adv2_log1'],\n",
       " ['g1_adv1_log2', 'g1_adv2_log2', 'g1_adv2_log2'],\n",
       " ['g1_adv1_log3', 'g1_adv2_log3', 'g1_adv2_log3']]"
      ]
     },
     "execution_count": 7,
     "metadata": {},
     "output_type": "execute_result"
    }
   ],
   "source": [
    "result[0]"
   ]
  },
  {
   "cell_type": "code",
   "execution_count": null,
   "id": "59d9d716",
   "metadata": {},
   "outputs": [],
   "source": []
  },
  {
   "cell_type": "code",
   "execution_count": null,
   "id": "70556e77",
   "metadata": {},
   "outputs": [],
   "source": []
  },
  {
   "cell_type": "code",
   "execution_count": 19,
   "id": "0183ddf2",
   "metadata": {},
   "outputs": [
    {
     "data": {
      "text/plain": [
       "['A_0', 'B', 'C_0', 'A_1', 'C_1', 'A_2', 'C_2', 'A_3', 'C_3', 'A_4', 'C_4']"
      ]
     },
     "execution_count": 19,
     "metadata": {},
     "output_type": "execute_result"
    }
   ],
   "source": [
    "from collections import Counter\n",
    "features = [\"A\", \"B\", \"C\", \"A\", \"C\", \"A\", \"C\", \"A\", \"C\", \"A\", \"C\"]\n",
    "\n",
    "feature_counter = Counter(features)\n",
    "non_unique_features = [f for f, c in feature_counter.items() if c >= 2]\n",
    "non_unique_feature_counter = {f: 0 for f in non_unique_features}\n",
    "\n",
    "feature_unique_names = []\n",
    "for f in features:\n",
    "    if f in non_unique_features:\n",
    "        feature_unique_names.append(f\"{f}_{non_unique_feature_counter[f]}\")\n",
    "        non_unique_feature_counter[f] += 1\n",
    "    else:\n",
    "        feature_unique_names.append(f)\n",
    "        \n",
    "feature_unique_names"
   ]
  },
  {
   "cell_type": "code",
   "execution_count": 15,
   "id": "e8294ee7",
   "metadata": {},
   "outputs": [
    {
     "data": {
      "text/plain": [
       "Counter({'A': 2, 'C': 2, 'B': 1})"
      ]
     },
     "execution_count": 15,
     "metadata": {},
     "output_type": "execute_result"
    }
   ],
   "source": [
    "Counter(features)"
   ]
  },
  {
   "cell_type": "code",
   "execution_count": 21,
   "id": "3f016b2f",
   "metadata": {},
   "outputs": [
    {
     "data": {
      "text/plain": [
       "['A_0', 'B', 'C_0', 'A_1', 'C_1', 'A_2', 'C_2', 'A_3', 'C_3', 'A_4', 'C_4']"
      ]
     },
     "execution_count": 21,
     "metadata": {},
     "output_type": "execute_result"
    }
   ],
   "source": [
    "from collections import Counter\n",
    "\n",
    "def create_unique_names(names: list):\n",
    "    counter = Counter(names)\n",
    "    non_unique_names = [n for n, c in counter.items() if c >= 2]\n",
    "    non_unique_counter = {n: 0 for n in non_unique_names}\n",
    "\n",
    "    unique_names = []\n",
    "    for n in names:\n",
    "        if n in non_unique_names:\n",
    "            unique_names.append(f\"{n}_{non_unique_counter[n]}\")\n",
    "            non_unique_counter[n] += 1\n",
    "        else:\n",
    "            unique_names.append(n)\n",
    "\n",
    "    return unique_names\n",
    "\n",
    "\n",
    "features = [\"A\", \"B\", \"C\", \"A\", \"C\", \"A\", \"C\", \"A\", \"C\", \"A\", \"C\"]\n",
    "create_unique_names(features)\n"
   ]
  },
  {
   "cell_type": "code",
   "execution_count": null,
   "id": "a0dbae29",
   "metadata": {},
   "outputs": [],
   "source": []
  }
 ],
 "metadata": {
  "kernelspec": {
   "display_name": "Python 3 (ipykernel)",
   "language": "python",
   "name": "python3"
  },
  "language_info": {
   "codemirror_mode": {
    "name": "ipython",
    "version": 3
   },
   "file_extension": ".py",
   "mimetype": "text/x-python",
   "name": "python",
   "nbconvert_exporter": "python",
   "pygments_lexer": "ipython3",
   "version": "3.9.18"
  }
 },
 "nbformat": 4,
 "nbformat_minor": 5
}
