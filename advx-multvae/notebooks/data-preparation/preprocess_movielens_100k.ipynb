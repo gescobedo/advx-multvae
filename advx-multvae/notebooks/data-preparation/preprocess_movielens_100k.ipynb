{
 "cells": [
  {
   "cell_type": "markdown",
   "id": "a5f93ab9",
   "metadata": {},
   "source": [
    "# Notebook to preprocess the MovieLens100k dataset\n",
    "https://grouplens.org/datasets/movielens/100k/\n",
    "\n",
    "Note that this notebook serves as a good basis for preprocessing datasets where **all demographic information** for all users is available."
   ]
  },
  {
   "cell_type": "code",
   "execution_count": 1,
   "id": "0e0181f5",
   "metadata": {},
   "outputs": [],
   "source": [
    "import os\n",
    "import json\n",
    "import utils\n",
    "import numpy as np\n",
    "import pandas as pd\n",
    "from scipy import sparse as sp"
   ]
  },
  {
   "cell_type": "code",
   "execution_count": 2,
   "id": "edc4c6fa",
   "metadata": {},
   "outputs": [],
   "source": [
    "data_dir = \"/media/data/Datasets/ml-100k\""
   ]
  },
  {
   "cell_type": "code",
   "execution_count": 3,
   "id": "be0dc3d0",
   "metadata": {},
   "outputs": [
    {
     "data": {
      "text/html": [
       "<div>\n",
       "<style scoped>\n",
       "    .dataframe tbody tr th:only-of-type {\n",
       "        vertical-align: middle;\n",
       "    }\n",
       "\n",
       "    .dataframe tbody tr th {\n",
       "        vertical-align: top;\n",
       "    }\n",
       "\n",
       "    .dataframe thead th {\n",
       "        text-align: right;\n",
       "    }\n",
       "</style>\n",
       "<table border=\"1\" class=\"dataframe\">\n",
       "  <thead>\n",
       "    <tr style=\"text-align: right;\">\n",
       "      <th></th>\n",
       "      <th>UserID</th>\n",
       "      <th>ItemID</th>\n",
       "      <th>Rating</th>\n",
       "      <th>Timestamp</th>\n",
       "    </tr>\n",
       "  </thead>\n",
       "  <tbody>\n",
       "    <tr>\n",
       "      <th>0</th>\n",
       "      <td>196</td>\n",
       "      <td>242</td>\n",
       "      <td>3</td>\n",
       "      <td>881250949</td>\n",
       "    </tr>\n",
       "    <tr>\n",
       "      <th>1</th>\n",
       "      <td>186</td>\n",
       "      <td>302</td>\n",
       "      <td>3</td>\n",
       "      <td>891717742</td>\n",
       "    </tr>\n",
       "    <tr>\n",
       "      <th>2</th>\n",
       "      <td>22</td>\n",
       "      <td>377</td>\n",
       "      <td>1</td>\n",
       "      <td>878887116</td>\n",
       "    </tr>\n",
       "    <tr>\n",
       "      <th>3</th>\n",
       "      <td>244</td>\n",
       "      <td>51</td>\n",
       "      <td>2</td>\n",
       "      <td>880606923</td>\n",
       "    </tr>\n",
       "    <tr>\n",
       "      <th>4</th>\n",
       "      <td>166</td>\n",
       "      <td>346</td>\n",
       "      <td>1</td>\n",
       "      <td>886397596</td>\n",
       "    </tr>\n",
       "  </tbody>\n",
       "</table>\n",
       "</div>"
      ],
      "text/plain": [
       "   UserID  ItemID  Rating  Timestamp\n",
       "0     196     242       3  881250949\n",
       "1     186     302       3  891717742\n",
       "2      22     377       1  878887116\n",
       "3     244      51       2  880606923\n",
       "4     166     346       1  886397596"
      ]
     },
     "execution_count": 3,
     "metadata": {},
     "output_type": "execute_result"
    }
   ],
   "source": [
    "df_ratings = pd.read_csv(os.path.join(data_dir, \"u.data\"), \n",
    "                        sep=\"\\t\", engine=\"python\", encoding='latin-1',\n",
    "                        names=[\"UserID\", \"ItemID\", \"Rating\", \"Timestamp\"])\n",
    "df_ratings.head()"
   ]
  },
  {
   "cell_type": "code",
   "execution_count": 4,
   "id": "591d2aa4",
   "metadata": {},
   "outputs": [
    {
     "data": {
      "text/html": [
       "<div>\n",
       "<style scoped>\n",
       "    .dataframe tbody tr th:only-of-type {\n",
       "        vertical-align: middle;\n",
       "    }\n",
       "\n",
       "    .dataframe tbody tr th {\n",
       "        vertical-align: top;\n",
       "    }\n",
       "\n",
       "    .dataframe thead th {\n",
       "        text-align: right;\n",
       "    }\n",
       "</style>\n",
       "<table border=\"1\" class=\"dataframe\">\n",
       "  <thead>\n",
       "    <tr style=\"text-align: right;\">\n",
       "      <th></th>\n",
       "      <th>UserID</th>\n",
       "      <th>Age</th>\n",
       "      <th>Gender</th>\n",
       "      <th>Occupation</th>\n",
       "      <th>Zip-code</th>\n",
       "    </tr>\n",
       "  </thead>\n",
       "  <tbody>\n",
       "    <tr>\n",
       "      <th>0</th>\n",
       "      <td>1</td>\n",
       "      <td>24</td>\n",
       "      <td>M</td>\n",
       "      <td>technician</td>\n",
       "      <td>85711</td>\n",
       "    </tr>\n",
       "    <tr>\n",
       "      <th>1</th>\n",
       "      <td>2</td>\n",
       "      <td>53</td>\n",
       "      <td>F</td>\n",
       "      <td>other</td>\n",
       "      <td>94043</td>\n",
       "    </tr>\n",
       "    <tr>\n",
       "      <th>2</th>\n",
       "      <td>3</td>\n",
       "      <td>23</td>\n",
       "      <td>M</td>\n",
       "      <td>writer</td>\n",
       "      <td>32067</td>\n",
       "    </tr>\n",
       "    <tr>\n",
       "      <th>3</th>\n",
       "      <td>4</td>\n",
       "      <td>24</td>\n",
       "      <td>M</td>\n",
       "      <td>technician</td>\n",
       "      <td>43537</td>\n",
       "    </tr>\n",
       "    <tr>\n",
       "      <th>4</th>\n",
       "      <td>5</td>\n",
       "      <td>33</td>\n",
       "      <td>F</td>\n",
       "      <td>other</td>\n",
       "      <td>15213</td>\n",
       "    </tr>\n",
       "  </tbody>\n",
       "</table>\n",
       "</div>"
      ],
      "text/plain": [
       "   UserID  Age Gender  Occupation Zip-code\n",
       "0       1   24      M  technician    85711\n",
       "1       2   53      F       other    94043\n",
       "2       3   23      M      writer    32067\n",
       "3       4   24      M  technician    43537\n",
       "4       5   33      F       other    15213"
      ]
     },
     "execution_count": 4,
     "metadata": {},
     "output_type": "execute_result"
    }
   ],
   "source": [
    "df_users = pd.read_csv(os.path.join(data_dir, \"u.user\"), \n",
    "                        sep=\"|\", engine=\"python\", encoding='latin-1',\n",
    "                        names=[\"UserID\", \"Age\", \"Gender\", \"Occupation\", \"Zip-code\"])\n",
    "\n",
    "# change gender labels to lower case\n",
    "df_users.assign(Gender=[g.lower() for g in df_users[\"Gender\"]])\n",
    "df_users.head()"
   ]
  },
  {
   "cell_type": "code",
   "execution_count": 5,
   "id": "e32028ca",
   "metadata": {},
   "outputs": [
    {
     "data": {
      "text/plain": [
       "2    299\n",
       "1    218\n",
       "3    182\n",
       "4    138\n",
       "0     54\n",
       "5     52\n",
       "Name: Age, dtype: int64"
      ]
     },
     "execution_count": 5,
     "metadata": {},
     "output_type": "execute_result"
    }
   ],
   "source": [
    "# We group users in age categories to make the data easier to handle\n",
    "age_categories = [18, 25, 35, 45, 55, 100]\n",
    "\n",
    "assigned_age_cat = np.zeros(shape=(len(df_users),) , dtype=int)\n",
    "for cat in age_categories:\n",
    "    assigned_age_cat += (df_users[\"Age\"] > cat).astype(int)\n",
    "\n",
    "assigned_age_cat[df_users[\"Age\"].isna()] = -1\n",
    "df_users[\"Age\"] = assigned_age_cat\n",
    "df_users[\"Age\"].value_counts()"
   ]
  },
  {
   "cell_type": "code",
   "execution_count": 6,
   "id": "7f240ff4",
   "metadata": {},
   "outputs": [],
   "source": [
    "# Extracted the README file\n",
    "attribute_descriptions = {\n",
    "    \"gender\": {\n",
    "        \"m\": \"male\",\n",
    "        \"f\": \"female\"\n",
    "    },\n",
    "    \"age\": {\n",
    "        0:  \"Under 18\",\n",
    "        1:  \"18-24\",\n",
    "        2:  \"25-34\",\n",
    "        3:  \"35-44\",\n",
    "        4:  \"45-54\",\n",
    "        5:  \"55+\"\n",
    "    },\n",
    "    \n",
    "    # just in case scripts require for each attribute to have a description\n",
    "    \"occupation\": {d:d for d in df_users[\"Occupation\"].unique()}\n",
    "}"
   ]
  },
  {
   "cell_type": "code",
   "execution_count": 7,
   "id": "2f4bc156",
   "metadata": {},
   "outputs": [
    {
     "name": "stdout",
     "output_type": "stream",
     "text": [
      "Number of users: 943\n",
      "Number of items: 1682\n",
      "\n",
      "Counts of users per gender:\n",
      "M    670\n",
      "F    273\n",
      "Name: Gender, dtype: int64\n",
      "\n",
      "Number of interactions: 100000\n",
      "Density: 0.0630\n"
     ]
    }
   ],
   "source": [
    "item_ids = df_ratings[\"ItemID\"].unique()\n",
    "\n",
    "n_users = len(df_users)\n",
    "n_items = len(item_ids)\n",
    "n_ratings = len(df_ratings)\n",
    "density = n_ratings / (n_items * n_users)\n",
    "\n",
    "# Show some statistics about the dataset\n",
    "print(\"Number of users:\", n_users)\n",
    "print(\"Number of items:\", n_items)\n",
    "print(\"\\nCounts of users per gender:\")\n",
    "print(df_users[\"Gender\"].value_counts())\n",
    "\n",
    "print(\"\\nNumber of interactions:\", n_ratings)\n",
    "print(f\"Density: {density:.4f}\")"
   ]
  },
  {
   "cell_type": "markdown",
   "id": "a561c00a",
   "metadata": {},
   "source": [
    "### Data preparation\n",
    "For our use-case our end-result should be binary interaction matrix, where ```1``` denotes that a user\n",
    "rated an item, and ```0``` that they did not."
   ]
  },
  {
   "cell_type": "code",
   "execution_count": 8,
   "id": "f6dda256",
   "metadata": {},
   "outputs": [],
   "source": [
    "# some items might be missing, lets therefore adjust / re-enumerate the indices\n",
    "item_rename_dict = {iid: i for i, iid in enumerate(item_ids)}\n",
    "df_ratings[\"ItemID\"] = df_ratings[\"ItemID\"].replace(item_rename_dict)\n",
    "\n",
    "item_ids = list(range(len(item_ids)))"
   ]
  },
  {
   "cell_type": "code",
   "execution_count": 9,
   "id": "bd7fd54c",
   "metadata": {},
   "outputs": [
    {
     "data": {
      "text/plain": [
       "(943, 1682)"
      ]
     },
     "metadata": {},
     "output_type": "display_data"
    },
    {
     "name": "stdout",
     "output_type": "stream",
     "text": [
      "Number of interactions (again): 100000.0\n"
     ]
    }
   ],
   "source": [
    "# get user and item ids from ratings df, -1 as the first user originally received the id 1\n",
    "user_ids = df_ratings[\"UserID\"] - 1\n",
    "item_ids = df_ratings[\"ItemID\"]\n",
    "values = np.ones(len(user_ids))\n",
    "\n",
    "interaction_matrix = sp.csr_matrix((values, (user_ids, item_ids)), shape=(n_users, n_items))\n",
    "display(interaction_matrix.shape)\n",
    "\n",
    "# store results\n",
    "storage_dir = os.path.join(data_dir, \"full\")\n",
    "os.makedirs(storage_dir, exist_ok=True)\n",
    "sp.save_npz(os.path.join(storage_dir, \"interactions.npz\"), interaction_matrix)\n",
    "\n",
    "# check whether all interactions were actually kept\n",
    "print(\"Number of interactions (again):\", interaction_matrix.toarray().sum())"
   ]
  },
  {
   "cell_type": "code",
   "execution_count": 10,
   "id": "79ae39f9",
   "metadata": {},
   "outputs": [],
   "source": [
    "# create new user file for our usage\n",
    "df_user_info = df_users[[\"UserID\", \"Gender\", \"Age\", \"Occupation\"]].copy()\n",
    "df_user_info[\"UserID\"] -= 1 # move start index from 1 to 0\n",
    "df_user_info[\"Gender\"] = df_user_info[\"Gender\"].apply(lambda item: item.lower())\n",
    "\n",
    "# change column names to camel-case\n",
    "rn = {cn: cn[0].lower() + cn[1:] for cn in df_user_info.columns}\n",
    "df_user_info.rename(rn, inplace=True, axis=1)\n",
    "\n",
    "df_user_info.to_csv(os.path.join(storage_dir, \"user_info.csv\"), index=False)\n",
    "df_user_info.head()\n",
    "\n",
    "with open(os.path.join(storage_dir, \"attribute_descriptions.json\"), \"w\") as fh:\n",
    "    json.dump(attribute_descriptions, fh, indent=\"\\t\")"
   ]
  },
  {
   "cell_type": "code",
   "execution_count": 11,
   "id": "579e5f8c",
   "metadata": {},
   "outputs": [
    {
     "name": "stdout",
     "output_type": "stream",
     "text": [
      "Final shape of interactions matrix is (943, 1349)\n",
      "==> 943 users and 1349 items are remaining.\n",
      "\n",
      "Number of interactions is 99287,\n",
      "which leads to a density of 0.0780.\n"
     ]
    }
   ],
   "source": [
    "# filter users & tracks with too less interaction\n",
    "min_interactions_user = 5\n",
    "min_interactions_item = 5\n",
    "\n",
    "im_all, user_info_all = utils.ensure_min_interactions(interaction_matrix, df_user_info, \n",
    "                                                      min_interactions_user, min_interactions_item)\n",
    "\n",
    "utils.print_stats(im_all)\n",
    "\n",
    "# store results\n",
    "storage_dir = os.path.join(data_dir, f\"user_gte_{min_interactions_user}_item_gte_{min_interactions_item}\")\n",
    "utils.store_results(storage_dir, im_all, user_info_all, attribute_descriptions)"
   ]
  },
  {
   "cell_type": "code",
   "execution_count": null,
   "id": "47fc4224",
   "metadata": {},
   "outputs": [],
   "source": []
  }
 ],
 "metadata": {
  "kernelspec": {
   "display_name": "Python 3 (ipykernel)",
   "language": "python",
   "name": "python3"
  },
  "language_info": {
   "codemirror_mode": {
    "name": "ipython",
    "version": 3
   },
   "file_extension": ".py",
   "mimetype": "text/x-python",
   "name": "python",
   "nbconvert_exporter": "python",
   "pygments_lexer": "ipython3",
   "version": "3.9.12"
  }
 },
 "nbformat": 4,
 "nbformat_minor": 5
}
