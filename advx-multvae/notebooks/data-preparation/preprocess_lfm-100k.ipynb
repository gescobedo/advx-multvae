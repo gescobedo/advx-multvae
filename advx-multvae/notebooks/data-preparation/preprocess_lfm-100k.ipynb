{
 "cells": [
  {
   "cell_type": "markdown",
   "id": "a5f93ab9",
   "metadata": {
    "pycharm": {
     "name": "#%% md\n"
    }
   },
   "source": [
    "# Notebook to preprocess the LFM-100k dataset\n"
   ]
  },
  {
   "cell_type": "code",
   "execution_count": 1,
   "id": "0e0181f5",
   "metadata": {
    "pycharm": {
     "name": "#%%\n"
    }
   },
   "outputs": [],
   "source": [
    "import os\n",
    "import csv\n",
    "import json\n",
    "import glob\n",
    "import utils\n",
    "import pickle \n",
    "import numpy as np\n",
    "import pandas as pd\n",
    "import pickle as pkl\n",
    "from tqdm import tqdm\n",
    "from scipy import sparse as sp\n",
    "import matplotlib.pyplot as plt\n",
    "from collections import defaultdict"
   ]
  },
  {
   "cell_type": "code",
   "execution_count": 2,
   "id": "b62d70d0",
   "metadata": {
    "collapsed": false,
    "jupyter": {
     "outputs_hidden": false
    },
    "pycharm": {
     "name": "#%%\n"
    }
   },
   "outputs": [],
   "source": [
    "data_dir = r\"/root/dataset/dir/lfm-100k\""
   ]
  },
  {
   "cell_type": "markdown",
   "id": "bbc485ac",
   "metadata": {
    "pycharm": {
     "name": "#%% md\n"
    }
   },
   "source": [
    "### User data"
   ]
  },
  {
   "cell_type": "code",
   "execution_count": 4,
   "id": "7d23d8f0",
   "metadata": {
    "collapsed": false,
    "jupyter": {
     "outputs_hidden": false
    },
    "pycharm": {
     "name": "#%%\n"
    }
   },
   "outputs": [
    {
     "data": {
      "text/html": [
       "<div>\n",
       "<style scoped>\n",
       "    .dataframe tbody tr th:only-of-type {\n",
       "        vertical-align: middle;\n",
       "    }\n",
       "\n",
       "    .dataframe tbody tr th {\n",
       "        vertical-align: top;\n",
       "    }\n",
       "\n",
       "    .dataframe thead th {\n",
       "        text-align: right;\n",
       "    }\n",
       "</style>\n",
       "<table border=\"1\" class=\"dataframe\">\n",
       "  <thead>\n",
       "    <tr style=\"text-align: right;\">\n",
       "      <th></th>\n",
       "      <th>userID</th>\n",
       "      <th>Country</th>\n",
       "      <th>Age</th>\n",
       "      <th>gender</th>\n",
       "      <th>creation_time</th>\n",
       "    </tr>\n",
       "  </thead>\n",
       "  <tbody>\n",
       "    <tr>\n",
       "      <th>0</th>\n",
       "      <td>0</td>\n",
       "      <td>IT</td>\n",
       "      <td>33</td>\n",
       "      <td>m</td>\n",
       "      <td>2006-06-18 21:07:33</td>\n",
       "    </tr>\n",
       "    <tr>\n",
       "      <th>1</th>\n",
       "      <td>1</td>\n",
       "      <td>RU</td>\n",
       "      <td>25</td>\n",
       "      <td>m</td>\n",
       "      <td>2007-10-12 18:42:00</td>\n",
       "    </tr>\n",
       "    <tr>\n",
       "      <th>2</th>\n",
       "      <td>2</td>\n",
       "      <td>UK</td>\n",
       "      <td>25</td>\n",
       "      <td>m</td>\n",
       "      <td>2005-06-15 22:02:11</td>\n",
       "    </tr>\n",
       "    <tr>\n",
       "      <th>3</th>\n",
       "      <td>3</td>\n",
       "      <td>ES</td>\n",
       "      <td>29</td>\n",
       "      <td>m</td>\n",
       "      <td>2005-09-30 22:38:33</td>\n",
       "    </tr>\n",
       "    <tr>\n",
       "      <th>4</th>\n",
       "      <td>4</td>\n",
       "      <td>FR</td>\n",
       "      <td>30</td>\n",
       "      <td>m</td>\n",
       "      <td>2010-11-03 02:52:17</td>\n",
       "    </tr>\n",
       "    <tr>\n",
       "      <th>...</th>\n",
       "      <td>...</td>\n",
       "      <td>...</td>\n",
       "      <td>...</td>\n",
       "      <td>...</td>\n",
       "      <td>...</td>\n",
       "    </tr>\n",
       "    <tr>\n",
       "      <th>9359</th>\n",
       "      <td>9359</td>\n",
       "      <td>US</td>\n",
       "      <td>24</td>\n",
       "      <td>f</td>\n",
       "      <td>2005-04-15 04:29:35</td>\n",
       "    </tr>\n",
       "    <tr>\n",
       "      <th>9360</th>\n",
       "      <td>9360</td>\n",
       "      <td>RU</td>\n",
       "      <td>20</td>\n",
       "      <td>m</td>\n",
       "      <td>2011-07-29 21:09:24</td>\n",
       "    </tr>\n",
       "    <tr>\n",
       "      <th>9361</th>\n",
       "      <td>9361</td>\n",
       "      <td>DE</td>\n",
       "      <td>18</td>\n",
       "      <td>m</td>\n",
       "      <td>2010-05-14 14:07:05</td>\n",
       "    </tr>\n",
       "    <tr>\n",
       "      <th>9362</th>\n",
       "      <td>9362</td>\n",
       "      <td>UA</td>\n",
       "      <td>25</td>\n",
       "      <td>m</td>\n",
       "      <td>2006-12-05 02:20:59</td>\n",
       "    </tr>\n",
       "    <tr>\n",
       "      <th>9363</th>\n",
       "      <td>9363</td>\n",
       "      <td>IT</td>\n",
       "      <td>25</td>\n",
       "      <td>f</td>\n",
       "      <td>2006-06-25 14:24:39</td>\n",
       "    </tr>\n",
       "  </tbody>\n",
       "</table>\n",
       "<p>9364 rows × 5 columns</p>\n",
       "</div>"
      ],
      "text/plain": [
       "      userID Country  Age gender        creation_time\n",
       "0          0      IT   33      m  2006-06-18 21:07:33\n",
       "1          1      RU   25      m  2007-10-12 18:42:00\n",
       "2          2      UK   25      m  2005-06-15 22:02:11\n",
       "3          3      ES   29      m  2005-09-30 22:38:33\n",
       "4          4      FR   30      m  2010-11-03 02:52:17\n",
       "...      ...     ...  ...    ...                  ...\n",
       "9359    9359      US   24      f  2005-04-15 04:29:35\n",
       "9360    9360      RU   20      m  2011-07-29 21:09:24\n",
       "9361    9361      DE   18      m  2010-05-14 14:07:05\n",
       "9362    9362      UA   25      m  2006-12-05 02:20:59\n",
       "9363    9363      IT   25      f  2006-06-25 14:24:39\n",
       "\n",
       "[9364 rows x 5 columns]"
      ]
     },
     "execution_count": 4,
     "metadata": {},
     "output_type": "execute_result"
    }
   ],
   "source": [
    "# Load user data\n",
    "df_users = pd.read_csv(os.path.join(data_dir, \"user_data.tsv.bz2\"),sep='\\t',names=[\"userID\",\"Country\",\"Age\",\"gender\",\"creation_time\"])\n",
    "df_users"
   ]
  },
  {
   "cell_type": "code",
   "execution_count": 57,
   "id": "a530eb42",
   "metadata": {},
   "outputs": [
    {
     "data": {
      "text/plain": [
       "(128, 87)"
      ]
     },
     "execution_count": 57,
     "metadata": {},
     "output_type": "execute_result"
    }
   ],
   "source": [
    "df_users.Country.nunique(),df_users.Age.nunique()"
   ]
  },
  {
   "cell_type": "code",
   "execution_count": 5,
   "id": "8827eb1f-4cf2-4d54-a3d9-e48b09c0771c",
   "metadata": {},
   "outputs": [
    {
     "data": {
      "text/plain": [
       "m    7580\n",
       "f    1784\n",
       "Name: gender, dtype: int64"
      ]
     },
     "execution_count": 5,
     "metadata": {},
     "output_type": "execute_result"
    }
   ],
   "source": [
    "df_users.gender.value_counts()"
   ]
  },
  {
   "cell_type": "code",
   "execution_count": 60,
   "id": "90282c32",
   "metadata": {
    "collapsed": false,
    "jupyter": {
     "outputs_hidden": false
    },
    "pycharm": {
     "name": "#%%\n"
    }
   },
   "outputs": [
    {
     "data": {
      "text/html": [
       "<div>\n",
       "<style scoped>\n",
       "    .dataframe tbody tr th:only-of-type {\n",
       "        vertical-align: middle;\n",
       "    }\n",
       "\n",
       "    .dataframe tbody tr th {\n",
       "        vertical-align: top;\n",
       "    }\n",
       "\n",
       "    .dataframe thead th {\n",
       "        text-align: right;\n",
       "    }\n",
       "</style>\n",
       "<table border=\"1\" class=\"dataframe\">\n",
       "  <thead>\n",
       "    <tr style=\"text-align: right;\">\n",
       "      <th></th>\n",
       "      <th>itemID</th>\n",
       "      <th>artist</th>\n",
       "      <th>track</th>\n",
       "      <th>gender</th>\n",
       "    </tr>\n",
       "  </thead>\n",
       "  <tbody>\n",
       "    <tr>\n",
       "      <th>0</th>\n",
       "      <td>0</td>\n",
       "      <td>Hans Zimmer</td>\n",
       "      <td>503</td>\n",
       "      <td>m</td>\n",
       "    </tr>\n",
       "    <tr>\n",
       "      <th>1</th>\n",
       "      <td>1</td>\n",
       "      <td>Bear McCreary</td>\n",
       "      <td>A Mass Awakening</td>\n",
       "      <td>m</td>\n",
       "    </tr>\n",
       "    <tr>\n",
       "      <th>2</th>\n",
       "      <td>2</td>\n",
       "      <td>Tom Tykwer</td>\n",
       "      <td>All Boundaries Are Conventions</td>\n",
       "      <td>m</td>\n",
       "    </tr>\n",
       "    <tr>\n",
       "      <th>3</th>\n",
       "      <td>3</td>\n",
       "      <td>Steve Jablonsky</td>\n",
       "      <td>Arrival To Earth</td>\n",
       "      <td>m</td>\n",
       "    </tr>\n",
       "    <tr>\n",
       "      <th>4</th>\n",
       "      <td>4</td>\n",
       "      <td>Rosalía</td>\n",
       "      <td>BAGDAD - Cap.7: Liturgia</td>\n",
       "      <td>f</td>\n",
       "    </tr>\n",
       "    <tr>\n",
       "      <th>...</th>\n",
       "      <td>...</td>\n",
       "      <td>...</td>\n",
       "      <td>...</td>\n",
       "      <td>...</td>\n",
       "    </tr>\n",
       "    <tr>\n",
       "      <th>99968</th>\n",
       "      <td>99968</td>\n",
       "      <td>Brädi</td>\n",
       "      <td>Lämpöö</td>\n",
       "      <td>m</td>\n",
       "    </tr>\n",
       "    <tr>\n",
       "      <th>99969</th>\n",
       "      <td>99969</td>\n",
       "      <td>Milton Nascimento</td>\n",
       "      <td>O Cio Da Terra - Acústico</td>\n",
       "      <td>m</td>\n",
       "    </tr>\n",
       "    <tr>\n",
       "      <th>99970</th>\n",
       "      <td>99970</td>\n",
       "      <td>Adriano Celentano</td>\n",
       "      <td>Prisencolinensinainciusol - Remastered</td>\n",
       "      <td>m</td>\n",
       "    </tr>\n",
       "    <tr>\n",
       "      <th>99971</th>\n",
       "      <td>99971</td>\n",
       "      <td>Ulrik Munther</td>\n",
       "      <td>Say Goodbye</td>\n",
       "      <td>m</td>\n",
       "    </tr>\n",
       "    <tr>\n",
       "      <th>99972</th>\n",
       "      <td>99972</td>\n",
       "      <td>Joe Liggins</td>\n",
       "      <td>Pink Champagne</td>\n",
       "      <td>m</td>\n",
       "    </tr>\n",
       "  </tbody>\n",
       "</table>\n",
       "<p>99973 rows × 4 columns</p>\n",
       "</div>"
      ],
      "text/plain": [
       "       itemID             artist                                   track  \\\n",
       "0           0        Hans Zimmer                                     503   \n",
       "1           1      Bear McCreary                        A Mass Awakening   \n",
       "2           2         Tom Tykwer          All Boundaries Are Conventions   \n",
       "3           3    Steve Jablonsky                        Arrival To Earth   \n",
       "4           4            Rosalía                BAGDAD - Cap.7: Liturgia   \n",
       "...       ...                ...                                     ...   \n",
       "99968   99968              Brädi                                  Lämpöö   \n",
       "99969   99969  Milton Nascimento               O Cio Da Terra - Acústico   \n",
       "99970   99970  Adriano Celentano  Prisencolinensinainciusol - Remastered   \n",
       "99971   99971      Ulrik Munther                             Say Goodbye   \n",
       "99972   99972        Joe Liggins                          Pink Champagne   \n",
       "\n",
       "      gender  \n",
       "0          m  \n",
       "1          m  \n",
       "2          m  \n",
       "3          m  \n",
       "4          f  \n",
       "...      ...  \n",
       "99968      m  \n",
       "99969      m  \n",
       "99970      m  \n",
       "99971      m  \n",
       "99972      m  \n",
       "\n",
       "[99973 rows x 4 columns]"
      ]
     },
     "execution_count": 60,
     "metadata": {},
     "output_type": "execute_result"
    }
   ],
   "source": [
    "df_items = pd.read_csv(os.path.join(data_dir, \"tracks.tsv.bz2\"),sep='\\t',names=[\"artist\",\"track\",\"gender\"] ).reset_index()\n",
    "df_items.columns = [\"itemID\",\"artist\",\"track\",\"gender\"] \n",
    "df_items"
   ]
  },
  {
   "cell_type": "markdown",
   "id": "950fdb59",
   "metadata": {
    "pycharm": {
     "name": "#%% md\n"
    }
   },
   "source": [
    "### Interaction matrix"
   ]
  },
  {
   "cell_type": "markdown",
   "id": "dbb6313c",
   "metadata": {
    "pycharm": {
     "name": "#%% md\n"
    }
   },
   "source": [
    "As there are by any means too much items, we will randomly select some items and put them in a sparse matrix."
   ]
  },
  {
   "cell_type": "code",
   "execution_count": 61,
   "id": "4c3c7a1a",
   "metadata": {},
   "outputs": [
    {
     "data": {
      "text/html": [
       "<div>\n",
       "<style scoped>\n",
       "    .dataframe tbody tr th:only-of-type {\n",
       "        vertical-align: middle;\n",
       "    }\n",
       "\n",
       "    .dataframe tbody tr th {\n",
       "        vertical-align: top;\n",
       "    }\n",
       "\n",
       "    .dataframe thead th {\n",
       "        text-align: right;\n",
       "    }\n",
       "</style>\n",
       "<table border=\"1\" class=\"dataframe\">\n",
       "  <thead>\n",
       "    <tr style=\"text-align: right;\">\n",
       "      <th></th>\n",
       "      <th>userID</th>\n",
       "      <th>itemID</th>\n",
       "      <th>pc</th>\n",
       "    </tr>\n",
       "  </thead>\n",
       "  <tbody>\n",
       "    <tr>\n",
       "      <th>0</th>\n",
       "      <td>0</td>\n",
       "      <td>0</td>\n",
       "      <td>2</td>\n",
       "    </tr>\n",
       "    <tr>\n",
       "      <th>1</th>\n",
       "      <td>0</td>\n",
       "      <td>1</td>\n",
       "      <td>3</td>\n",
       "    </tr>\n",
       "    <tr>\n",
       "      <th>2</th>\n",
       "      <td>0</td>\n",
       "      <td>2</td>\n",
       "      <td>2</td>\n",
       "    </tr>\n",
       "    <tr>\n",
       "      <th>3</th>\n",
       "      <td>0</td>\n",
       "      <td>3</td>\n",
       "      <td>2</td>\n",
       "    </tr>\n",
       "    <tr>\n",
       "      <th>4</th>\n",
       "      <td>0</td>\n",
       "      <td>4</td>\n",
       "      <td>2</td>\n",
       "    </tr>\n",
       "    <tr>\n",
       "      <th>...</th>\n",
       "      <td>...</td>\n",
       "      <td>...</td>\n",
       "      <td>...</td>\n",
       "    </tr>\n",
       "    <tr>\n",
       "      <th>1820895</th>\n",
       "      <td>9363</td>\n",
       "      <td>3962</td>\n",
       "      <td>17</td>\n",
       "    </tr>\n",
       "    <tr>\n",
       "      <th>1820896</th>\n",
       "      <td>9363</td>\n",
       "      <td>30269</td>\n",
       "      <td>13</td>\n",
       "    </tr>\n",
       "    <tr>\n",
       "      <th>1820897</th>\n",
       "      <td>9363</td>\n",
       "      <td>30297</td>\n",
       "      <td>17</td>\n",
       "    </tr>\n",
       "    <tr>\n",
       "      <th>1820898</th>\n",
       "      <td>9363</td>\n",
       "      <td>4039</td>\n",
       "      <td>14</td>\n",
       "    </tr>\n",
       "    <tr>\n",
       "      <th>1820899</th>\n",
       "      <td>9363</td>\n",
       "      <td>30311</td>\n",
       "      <td>13</td>\n",
       "    </tr>\n",
       "  </tbody>\n",
       "</table>\n",
       "<p>1820900 rows × 3 columns</p>\n",
       "</div>"
      ],
      "text/plain": [
       "         userID  itemID  pc\n",
       "0             0       0   2\n",
       "1             0       1   3\n",
       "2             0       2   2\n",
       "3             0       3   2\n",
       "4             0       4   2\n",
       "...         ...     ...  ..\n",
       "1820895    9363    3962  17\n",
       "1820896    9363   30269  13\n",
       "1820897    9363   30297  17\n",
       "1820898    9363    4039  14\n",
       "1820899    9363   30311  13\n",
       "\n",
       "[1820900 rows x 3 columns]"
      ]
     },
     "execution_count": 61,
     "metadata": {},
     "output_type": "execute_result"
    }
   ],
   "source": [
    "import pickle \n",
    "from pathlib import Path\n",
    "path_data_dir = Path(data_dir)\n",
    "interactions = pd.read_csv(path_data_dir/\"inter.tsv.bz2\",sep=\"\\t\" , names =[\"userID\",\"itemID\",\"pc\"])\n",
    "#user_features = pickle.load(open(path_data_dir/ \"\",\"rb\") )\n",
    "interactions\n"
   ]
  },
  {
   "cell_type": "code",
   "execution_count": 62,
   "id": "3a0fdf37",
   "metadata": {},
   "outputs": [
    {
     "name": "stdout",
     "output_type": "stream",
     "text": [
      "n_items: 99973\n"
     ]
    }
   ],
   "source": [
    "unique_items = interactions[\"itemID\"].unique()\n",
    "print(f\"n_items: {len(unique_items)}\")\n",
    "\n",
    "item2token = pd.Series(unique_items)\n",
    "token2item = pd.Series(data=item2token.index, index=item2token.values)\n"
   ]
  },
  {
   "cell_type": "code",
   "execution_count": 63,
   "id": "d4f64582",
   "metadata": {},
   "outputs": [],
   "source": [
    "\n",
    "\n",
    "uids_iids_array = interactions.values\n",
    "n_users,n_items = interactions.userID.nunique(),len(unique_items) \n",
    "data = np.ones(uids_iids_array.shape[0],dtype=np.int8)\n",
    "uids,iids = uids_iids_array[:,0],uids_iids_array[:,1]\n",
    "interaction_matrix = sp.csr_matrix((data, (uids, iids)), \n",
    "                                       (n_users, n_items))"
   ]
  },
  {
   "cell_type": "code",
   "execution_count": 64,
   "id": "31a478ec",
   "metadata": {},
   "outputs": [],
   "source": [
    "sp.save_npz(os.path.join(data_dir, \"interaction_matrix.npz\"),interaction_matrix)"
   ]
  },
  {
   "cell_type": "code",
   "execution_count": 65,
   "id": "af9a28dc",
   "metadata": {
    "collapsed": false,
    "jupyter": {
     "outputs_hidden": false
    },
    "pycharm": {
     "name": "#%%\n"
    }
   },
   "outputs": [
    {
     "data": {
      "text/plain": [
       "<9364x99973 sparse matrix of type '<class 'numpy.int8'>'\n",
       "\twith 1820900 stored elements in Compressed Sparse Row format>"
      ]
     },
     "execution_count": 65,
     "metadata": {},
     "output_type": "execute_result"
    }
   ],
   "source": [
    "n_sampled_items = 100_000\n",
    "np.random.seed(42)\n",
    "\n",
    "interaction_matrix = sp.load_npz(os.path.join(data_dir, \"interaction_matrix.npz\"))\n",
    "n_users, n_items = interaction_matrix.shape\n",
    "\n",
    "sampled_items = unique_items #sorted(np.random.choice(np.arange(n_items), n_sampled_items, replace=False))\n",
    "\n",
    "interaction_matrix_sampled = interaction_matrix[:, sampled_items]\n",
    "interaction_matrix_sampled"
   ]
  },
  {
   "cell_type": "markdown",
   "id": "7b22bdf9",
   "metadata": {
    "pycharm": {
     "name": "#%% md\n"
    }
   },
   "source": [
    "### User information"
   ]
  },
  {
   "cell_type": "code",
   "execution_count": 17,
   "id": "e7cbe7b2",
   "metadata": {
    "collapsed": false,
    "jupyter": {
     "outputs_hidden": false
    },
    "pycharm": {
     "name": "#%%\n"
    }
   },
   "outputs": [
    {
     "name": "stdout",
     "output_type": "stream",
     "text": [
      "2899 of 9364 user countries reset to default\n"
     ]
    },
    {
     "data": {
      "text/html": [
       "<div>\n",
       "<style scoped>\n",
       "    .dataframe tbody tr th:only-of-type {\n",
       "        vertical-align: middle;\n",
       "    }\n",
       "\n",
       "    .dataframe tbody tr th {\n",
       "        vertical-align: top;\n",
       "    }\n",
       "\n",
       "    .dataframe thead th {\n",
       "        text-align: right;\n",
       "    }\n",
       "</style>\n",
       "<table border=\"1\" class=\"dataframe\">\n",
       "  <thead>\n",
       "    <tr style=\"text-align: right;\">\n",
       "      <th></th>\n",
       "      <th>userID</th>\n",
       "      <th>Country</th>\n",
       "      <th>Age</th>\n",
       "      <th>gender</th>\n",
       "      <th>creation_time</th>\n",
       "    </tr>\n",
       "  </thead>\n",
       "  <tbody>\n",
       "    <tr>\n",
       "      <th>0</th>\n",
       "      <td>0</td>\n",
       "      <td></td>\n",
       "      <td>33</td>\n",
       "      <td>m</td>\n",
       "      <td>2006-06-18 21:07:33</td>\n",
       "    </tr>\n",
       "    <tr>\n",
       "      <th>1</th>\n",
       "      <td>1</td>\n",
       "      <td>RU</td>\n",
       "      <td>25</td>\n",
       "      <td>m</td>\n",
       "      <td>2007-10-12 18:42:00</td>\n",
       "    </tr>\n",
       "    <tr>\n",
       "      <th>2</th>\n",
       "      <td>2</td>\n",
       "      <td>UK</td>\n",
       "      <td>25</td>\n",
       "      <td>m</td>\n",
       "      <td>2005-06-15 22:02:11</td>\n",
       "    </tr>\n",
       "    <tr>\n",
       "      <th>3</th>\n",
       "      <td>3</td>\n",
       "      <td></td>\n",
       "      <td>29</td>\n",
       "      <td>m</td>\n",
       "      <td>2005-09-30 22:38:33</td>\n",
       "    </tr>\n",
       "    <tr>\n",
       "      <th>4</th>\n",
       "      <td>4</td>\n",
       "      <td>FR</td>\n",
       "      <td>30</td>\n",
       "      <td>m</td>\n",
       "      <td>2010-11-03 02:52:17</td>\n",
       "    </tr>\n",
       "    <tr>\n",
       "      <th>...</th>\n",
       "      <td>...</td>\n",
       "      <td>...</td>\n",
       "      <td>...</td>\n",
       "      <td>...</td>\n",
       "      <td>...</td>\n",
       "    </tr>\n",
       "    <tr>\n",
       "      <th>9359</th>\n",
       "      <td>9359</td>\n",
       "      <td>US</td>\n",
       "      <td>24</td>\n",
       "      <td>f</td>\n",
       "      <td>2005-04-15 04:29:35</td>\n",
       "    </tr>\n",
       "    <tr>\n",
       "      <th>9360</th>\n",
       "      <td>9360</td>\n",
       "      <td>RU</td>\n",
       "      <td>20</td>\n",
       "      <td>m</td>\n",
       "      <td>2011-07-29 21:09:24</td>\n",
       "    </tr>\n",
       "    <tr>\n",
       "      <th>9361</th>\n",
       "      <td>9361</td>\n",
       "      <td>DE</td>\n",
       "      <td>18</td>\n",
       "      <td>m</td>\n",
       "      <td>2010-05-14 14:07:05</td>\n",
       "    </tr>\n",
       "    <tr>\n",
       "      <th>9362</th>\n",
       "      <td>9362</td>\n",
       "      <td>UA</td>\n",
       "      <td>25</td>\n",
       "      <td>m</td>\n",
       "      <td>2006-12-05 02:20:59</td>\n",
       "    </tr>\n",
       "    <tr>\n",
       "      <th>9363</th>\n",
       "      <td>9363</td>\n",
       "      <td></td>\n",
       "      <td>25</td>\n",
       "      <td>f</td>\n",
       "      <td>2006-06-25 14:24:39</td>\n",
       "    </tr>\n",
       "  </tbody>\n",
       "</table>\n",
       "<p>9364 rows × 5 columns</p>\n",
       "</div>"
      ],
      "text/plain": [
       "      userID Country  Age gender        creation_time\n",
       "0          0           33      m  2006-06-18 21:07:33\n",
       "1          1      RU   25      m  2007-10-12 18:42:00\n",
       "2          2      UK   25      m  2005-06-15 22:02:11\n",
       "3          3           29      m  2005-09-30 22:38:33\n",
       "4          4      FR   30      m  2010-11-03 02:52:17\n",
       "...      ...     ...  ...    ...                  ...\n",
       "9359    9359      US   24      f  2005-04-15 04:29:35\n",
       "9360    9360      RU   20      m  2011-07-29 21:09:24\n",
       "9361    9361      DE   18      m  2010-05-14 14:07:05\n",
       "9362    9362      UA   25      m  2006-12-05 02:20:59\n",
       "9363    9363           25      f  2006-06-25 14:24:39\n",
       "\n",
       "[9364 rows x 5 columns]"
      ]
     },
     "execution_count": 17,
     "metadata": {},
     "output_type": "execute_result"
    }
   ],
   "source": [
    "# Moreover, as the didn't seem to be any input validation in place when collecting the data,\n",
    "# we will set the users' attributes to default if they \n",
    "#    - don't make sense (also in case of additional punctations, etc..),\n",
    "#    - belong to a group with only a few users (for nominal data)\n",
    "\n",
    "min_n_users_per_group = 200\n",
    "bad_location_groups = [k for k, v in df_users[\"Country\"].value_counts().items() if v < min_n_users_per_group]\n",
    "bad_location_groups += [\"\", \",\", np.nan]\n",
    "\n",
    "bad_location_users = df_users[\"Country\"].isin(bad_location_groups)\n",
    "print(f\"{bad_location_users.sum()} of {len(bad_location_users)} user countries reset to default\")\n",
    "\n",
    "df_users.loc[bad_location_users, \"Country\"] = \"\"\n",
    "df_users"
   ]
  },
  {
   "cell_type": "code",
   "execution_count": 18,
   "id": "ecc55472",
   "metadata": {
    "collapsed": false,
    "jupyter": {
     "outputs_hidden": false
    },
    "pycharm": {
     "name": "#%%\n"
    }
   },
   "outputs": [
    {
     "name": "stdout",
     "output_type": "stream",
     "text": [
      "22 of 9364 user ages reset to default\n"
     ]
    },
    {
     "data": {
      "text/html": [
       "<div>\n",
       "<style scoped>\n",
       "    .dataframe tbody tr th:only-of-type {\n",
       "        vertical-align: middle;\n",
       "    }\n",
       "\n",
       "    .dataframe tbody tr th {\n",
       "        vertical-align: top;\n",
       "    }\n",
       "\n",
       "    .dataframe thead th {\n",
       "        text-align: right;\n",
       "    }\n",
       "</style>\n",
       "<table border=\"1\" class=\"dataframe\">\n",
       "  <thead>\n",
       "    <tr style=\"text-align: right;\">\n",
       "      <th></th>\n",
       "      <th>userID</th>\n",
       "      <th>Country</th>\n",
       "      <th>Age</th>\n",
       "      <th>gender</th>\n",
       "      <th>creation_time</th>\n",
       "    </tr>\n",
       "  </thead>\n",
       "  <tbody>\n",
       "    <tr>\n",
       "      <th>0</th>\n",
       "      <td>0</td>\n",
       "      <td></td>\n",
       "      <td>33.0</td>\n",
       "      <td>m</td>\n",
       "      <td>2006-06-18 21:07:33</td>\n",
       "    </tr>\n",
       "    <tr>\n",
       "      <th>1</th>\n",
       "      <td>1</td>\n",
       "      <td>RU</td>\n",
       "      <td>25.0</td>\n",
       "      <td>m</td>\n",
       "      <td>2007-10-12 18:42:00</td>\n",
       "    </tr>\n",
       "    <tr>\n",
       "      <th>2</th>\n",
       "      <td>2</td>\n",
       "      <td>UK</td>\n",
       "      <td>25.0</td>\n",
       "      <td>m</td>\n",
       "      <td>2005-06-15 22:02:11</td>\n",
       "    </tr>\n",
       "    <tr>\n",
       "      <th>3</th>\n",
       "      <td>3</td>\n",
       "      <td></td>\n",
       "      <td>29.0</td>\n",
       "      <td>m</td>\n",
       "      <td>2005-09-30 22:38:33</td>\n",
       "    </tr>\n",
       "    <tr>\n",
       "      <th>4</th>\n",
       "      <td>4</td>\n",
       "      <td>FR</td>\n",
       "      <td>30.0</td>\n",
       "      <td>m</td>\n",
       "      <td>2010-11-03 02:52:17</td>\n",
       "    </tr>\n",
       "    <tr>\n",
       "      <th>...</th>\n",
       "      <td>...</td>\n",
       "      <td>...</td>\n",
       "      <td>...</td>\n",
       "      <td>...</td>\n",
       "      <td>...</td>\n",
       "    </tr>\n",
       "    <tr>\n",
       "      <th>9359</th>\n",
       "      <td>9359</td>\n",
       "      <td>US</td>\n",
       "      <td>24.0</td>\n",
       "      <td>f</td>\n",
       "      <td>2005-04-15 04:29:35</td>\n",
       "    </tr>\n",
       "    <tr>\n",
       "      <th>9360</th>\n",
       "      <td>9360</td>\n",
       "      <td>RU</td>\n",
       "      <td>20.0</td>\n",
       "      <td>m</td>\n",
       "      <td>2011-07-29 21:09:24</td>\n",
       "    </tr>\n",
       "    <tr>\n",
       "      <th>9361</th>\n",
       "      <td>9361</td>\n",
       "      <td>DE</td>\n",
       "      <td>18.0</td>\n",
       "      <td>m</td>\n",
       "      <td>2010-05-14 14:07:05</td>\n",
       "    </tr>\n",
       "    <tr>\n",
       "      <th>9362</th>\n",
       "      <td>9362</td>\n",
       "      <td>UA</td>\n",
       "      <td>25.0</td>\n",
       "      <td>m</td>\n",
       "      <td>2006-12-05 02:20:59</td>\n",
       "    </tr>\n",
       "    <tr>\n",
       "      <th>9363</th>\n",
       "      <td>9363</td>\n",
       "      <td></td>\n",
       "      <td>25.0</td>\n",
       "      <td>f</td>\n",
       "      <td>2006-06-25 14:24:39</td>\n",
       "    </tr>\n",
       "  </tbody>\n",
       "</table>\n",
       "<p>9364 rows × 5 columns</p>\n",
       "</div>"
      ],
      "text/plain": [
       "      userID Country   Age gender        creation_time\n",
       "0          0          33.0      m  2006-06-18 21:07:33\n",
       "1          1      RU  25.0      m  2007-10-12 18:42:00\n",
       "2          2      UK  25.0      m  2005-06-15 22:02:11\n",
       "3          3          29.0      m  2005-09-30 22:38:33\n",
       "4          4      FR  30.0      m  2010-11-03 02:52:17\n",
       "...      ...     ...   ...    ...                  ...\n",
       "9359    9359      US  24.0      f  2005-04-15 04:29:35\n",
       "9360    9360      RU  20.0      m  2011-07-29 21:09:24\n",
       "9361    9361      DE  18.0      m  2010-05-14 14:07:05\n",
       "9362    9362      UA  25.0      m  2006-12-05 02:20:59\n",
       "9363    9363          25.0      f  2006-06-25 14:24:39\n",
       "\n",
       "[9364 rows x 5 columns]"
      ]
     },
     "execution_count": 18,
     "metadata": {},
     "output_type": "execute_result"
    }
   ],
   "source": [
    "min_age = 10\n",
    "max_age = 100\n",
    "bad_age_users = (df_users[\"Age\"] < min_age) | (max_age < df_users[\"Age\"])\n",
    "\n",
    "print(f\"{bad_age_users.sum()} of {len(bad_age_users)} user ages reset to default\")\n",
    "df_users.loc[bad_age_users, \"Age\"] = np.NaN\n",
    "df_users"
   ]
  },
  {
   "cell_type": "code",
   "execution_count": 30,
   "id": "b0b8be2c",
   "metadata": {
    "collapsed": false,
    "jupyter": {
     "outputs_hidden": false
    },
    "pycharm": {
     "name": "#%%\n"
    }
   },
   "outputs": [
    {
     "data": {
      "text/plain": [
       " 1    4962\n",
       " 2    2623\n",
       " 0     985\n",
       " 3     543\n",
       " 4     170\n",
       " 5      59\n",
       "-1      22\n",
       "Name: Age, dtype: int64"
      ]
     },
     "execution_count": 30,
     "metadata": {},
     "output_type": "execute_result"
    }
   ],
   "source": [
    "# We group users in age categories to make the data easier to handle\n",
    "age_categories = [18, 25, 35, 45, 55]\n",
    "\n",
    "assigned_age_cat = np.zeros(shape=(len(df_users),) , dtype=int)\n",
    "for cat in age_categories:\n",
    "    assigned_age_cat += (df_users[\"Age\"] > cat).astype(int)\n",
    "\n",
    "assigned_age_cat[df_users[\"Age\"].isna()] = -1\n",
    "df_users[\"Age\"] = assigned_age_cat\n",
    "df_users[\"Age\"].value_counts()"
   ]
  },
  {
   "cell_type": "code",
   "execution_count": 67,
   "id": "a92304bd",
   "metadata": {
    "collapsed": false,
    "jupyter": {
     "outputs_hidden": false
    },
    "pycharm": {
     "name": "#%%\n"
    }
   },
   "outputs": [],
   "source": [
    "# Extracted the README file\n",
    "attribute_descriptions = {\n",
    "    \"gender\": {\n",
    "        \"m\": \"male\",\n",
    "        \"f\": \"female\"\n",
    "    },\n",
    "    \"age\": {\n",
    "        -1: \"unknown\",\n",
    "        0:  \"Under 18\",\n",
    "        1:  \"18-24\",\n",
    "        2:  \"25-34\",\n",
    "        3:  \"35-44\",\n",
    "        4:  \"45-54\",\n",
    "        5:  \"55+\"\n",
    "    },\n",
    "    # just in case scripts require for each attribute to have a description\n",
    "    \"country\": {d:d for d in df_users[\"Country\"].unique()}\n",
    "}\n",
    "attribute_descriptions[\"country\"][\"\"] = \"undefined\""
   ]
  },
  {
   "cell_type": "code",
   "execution_count": 68,
   "id": "65129c5c",
   "metadata": {
    "collapsed": false,
    "jupyter": {
     "outputs_hidden": false
    },
    "pycharm": {
     "name": "#%%\n"
    }
   },
   "outputs": [
    {
     "name": "stdout",
     "output_type": "stream",
     "text": [
      "Number of users: 9364\n",
      "Number of items: 99973\n",
      "\n",
      "Number of interactions: 1820900\n",
      "Density: 0.001945\n"
     ]
    }
   ],
   "source": [
    "n_interactions = interaction_matrix_sampled.sum()\n",
    "density = n_interactions / (n_items * n_users)\n",
    "\n",
    "# Show some statistics about the dataset\n",
    "print(\"Number of users:\", interaction_matrix_sampled.shape[0])\n",
    "print(\"Number of items:\", interaction_matrix_sampled.shape[1])\n",
    "\n",
    "print(\"\\nNumber of interactions:\", n_interactions)\n",
    "print(f\"Density: {density:.6f}\")"
   ]
  },
  {
   "cell_type": "markdown",
   "id": "bcd6241c",
   "metadata": {
    "pycharm": {
     "name": "#%% md\n"
    }
   },
   "source": [
    "### Data preparation\n",
    "For our use-case our end-result should be binary interaction matrix, where ```1``` denotes that a user\n",
    "interacted with an item, and ```0``` that they did not."
   ]
  },
  {
   "cell_type": "code",
   "execution_count": 69,
   "id": "6b8f5aa0",
   "metadata": {
    "collapsed": false,
    "jupyter": {
     "outputs_hidden": false
    },
    "pycharm": {
     "name": "#%%\n"
    }
   },
   "outputs": [],
   "source": [
    "# some items might be missing, let's therefore adjust / re-enumerate the indices\n",
    "item_ids = df_items[\"itemID\"].unique()\n",
    "item_rename_dict = token2item.to_dict()\n",
    "item_rename_dict_reverse = item2token.to_dict()\n",
    "\n",
    "df_items = df_items[df_items[\"itemID\"].isin(item_ids)]\n",
    "\n",
    "#df_items[\"itemID\"]= token2item.loc[df_items[\"itemID\"].values ]\n",
    "#print(token2item.loc[df_items[\"itemID\"].values]              )\n",
    "\n",
    "df_items[\"itemID_int\"] = token2item.loc[df_items[\"itemID\"]].values\n",
    "df_items.rename(columns={\"itemID\":\"itemID_str\"},inplace=True)\n",
    "df_items.rename(columns={\"itemID_int\":\"itemID\"},inplace=True)\n",
    "item_ids = list(range(len(sampled_items)))\n",
    "df_item_info = df_items[df_items[\"itemID\"].isin(sampled_items)]"
   ]
  },
  {
   "cell_type": "code",
   "execution_count": 70,
   "id": "620e40ad",
   "metadata": {},
   "outputs": [
    {
     "data": {
      "text/html": [
       "<div>\n",
       "<style scoped>\n",
       "    .dataframe tbody tr th:only-of-type {\n",
       "        vertical-align: middle;\n",
       "    }\n",
       "\n",
       "    .dataframe tbody tr th {\n",
       "        vertical-align: top;\n",
       "    }\n",
       "\n",
       "    .dataframe thead th {\n",
       "        text-align: right;\n",
       "    }\n",
       "</style>\n",
       "<table border=\"1\" class=\"dataframe\">\n",
       "  <thead>\n",
       "    <tr style=\"text-align: right;\">\n",
       "      <th></th>\n",
       "      <th>itemID_str</th>\n",
       "      <th>artist</th>\n",
       "      <th>track</th>\n",
       "      <th>gender</th>\n",
       "      <th>itemID</th>\n",
       "    </tr>\n",
       "  </thead>\n",
       "  <tbody>\n",
       "    <tr>\n",
       "      <th>0</th>\n",
       "      <td>0</td>\n",
       "      <td>Hans Zimmer</td>\n",
       "      <td>503</td>\n",
       "      <td>m</td>\n",
       "      <td>0</td>\n",
       "    </tr>\n",
       "    <tr>\n",
       "      <th>1</th>\n",
       "      <td>1</td>\n",
       "      <td>Bear McCreary</td>\n",
       "      <td>A Mass Awakening</td>\n",
       "      <td>m</td>\n",
       "      <td>1</td>\n",
       "    </tr>\n",
       "    <tr>\n",
       "      <th>2</th>\n",
       "      <td>2</td>\n",
       "      <td>Tom Tykwer</td>\n",
       "      <td>All Boundaries Are Conventions</td>\n",
       "      <td>m</td>\n",
       "      <td>2</td>\n",
       "    </tr>\n",
       "    <tr>\n",
       "      <th>3</th>\n",
       "      <td>3</td>\n",
       "      <td>Steve Jablonsky</td>\n",
       "      <td>Arrival To Earth</td>\n",
       "      <td>m</td>\n",
       "      <td>3</td>\n",
       "    </tr>\n",
       "    <tr>\n",
       "      <th>4</th>\n",
       "      <td>4</td>\n",
       "      <td>Rosalía</td>\n",
       "      <td>BAGDAD - Cap.7: Liturgia</td>\n",
       "      <td>f</td>\n",
       "      <td>4</td>\n",
       "    </tr>\n",
       "    <tr>\n",
       "      <th>...</th>\n",
       "      <td>...</td>\n",
       "      <td>...</td>\n",
       "      <td>...</td>\n",
       "      <td>...</td>\n",
       "      <td>...</td>\n",
       "    </tr>\n",
       "    <tr>\n",
       "      <th>99968</th>\n",
       "      <td>99968</td>\n",
       "      <td>Brädi</td>\n",
       "      <td>Lämpöö</td>\n",
       "      <td>m</td>\n",
       "      <td>99968</td>\n",
       "    </tr>\n",
       "    <tr>\n",
       "      <th>99969</th>\n",
       "      <td>99969</td>\n",
       "      <td>Milton Nascimento</td>\n",
       "      <td>O Cio Da Terra - Acústico</td>\n",
       "      <td>m</td>\n",
       "      <td>99969</td>\n",
       "    </tr>\n",
       "    <tr>\n",
       "      <th>99970</th>\n",
       "      <td>99970</td>\n",
       "      <td>Adriano Celentano</td>\n",
       "      <td>Prisencolinensinainciusol - Remastered</td>\n",
       "      <td>m</td>\n",
       "      <td>99970</td>\n",
       "    </tr>\n",
       "    <tr>\n",
       "      <th>99971</th>\n",
       "      <td>99971</td>\n",
       "      <td>Ulrik Munther</td>\n",
       "      <td>Say Goodbye</td>\n",
       "      <td>m</td>\n",
       "      <td>99971</td>\n",
       "    </tr>\n",
       "    <tr>\n",
       "      <th>99972</th>\n",
       "      <td>99972</td>\n",
       "      <td>Joe Liggins</td>\n",
       "      <td>Pink Champagne</td>\n",
       "      <td>m</td>\n",
       "      <td>99972</td>\n",
       "    </tr>\n",
       "  </tbody>\n",
       "</table>\n",
       "<p>99973 rows × 5 columns</p>\n",
       "</div>"
      ],
      "text/plain": [
       "       itemID_str             artist                                   track  \\\n",
       "0               0        Hans Zimmer                                     503   \n",
       "1               1      Bear McCreary                        A Mass Awakening   \n",
       "2               2         Tom Tykwer          All Boundaries Are Conventions   \n",
       "3               3    Steve Jablonsky                        Arrival To Earth   \n",
       "4               4            Rosalía                BAGDAD - Cap.7: Liturgia   \n",
       "...           ...                ...                                     ...   \n",
       "99968       99968              Brädi                                  Lämpöö   \n",
       "99969       99969  Milton Nascimento               O Cio Da Terra - Acústico   \n",
       "99970       99970  Adriano Celentano  Prisencolinensinainciusol - Remastered   \n",
       "99971       99971      Ulrik Munther                             Say Goodbye   \n",
       "99972       99972        Joe Liggins                          Pink Champagne   \n",
       "\n",
       "      gender  itemID  \n",
       "0          m       0  \n",
       "1          m       1  \n",
       "2          m       2  \n",
       "3          m       3  \n",
       "4          f       4  \n",
       "...      ...     ...  \n",
       "99968      m   99968  \n",
       "99969      m   99969  \n",
       "99970      m   99970  \n",
       "99971      m   99971  \n",
       "99972      m   99972  \n",
       "\n",
       "[99973 rows x 5 columns]"
      ]
     },
     "execution_count": 70,
     "metadata": {},
     "output_type": "execute_result"
    }
   ],
   "source": [
    "df_item_info"
   ]
  },
  {
   "cell_type": "code",
   "execution_count": 71,
   "id": "ef7c4b37",
   "metadata": {
    "collapsed": false,
    "jupyter": {
     "outputs_hidden": false
    },
    "pycharm": {
     "name": "#%%\n"
    }
   },
   "outputs": [],
   "source": [
    "# create new user file for our usage\n",
    "df_user_info = df_users.copy()\n",
    "interaction_matrix = interaction_matrix_sampled\n",
    "\n",
    "# change column names to camel-case & drop hyphens\n",
    "rn = {cn: cn[0].lower() + cn[1:].replace(\"-\", \"\") for cn in df_user_info.columns}\n",
    "df_user_info.rename(rn, inplace=True, axis=1)\n",
    "\n",
    "sampled_suffix = f\"_{n_sampled_items}\""
   ]
  },
  {
   "cell_type": "code",
   "execution_count": 72,
   "id": "8dc7b9ba",
   "metadata": {
    "collapsed": false,
    "jupyter": {
     "outputs_hidden": false
    },
    "pycharm": {
     "name": "#%%\n"
    }
   },
   "outputs": [],
   "source": [
    "# store results\n",
    "attribute_descriptions = {}\n",
    "storage_dir = os.path.join(data_dir, f\"full\" + sampled_suffix)\n",
    "utils.store_results(storage_dir, interaction_matrix, df_user_info, attribute_descriptions)"
   ]
  },
  {
   "cell_type": "code",
   "execution_count": 81,
   "id": "92fa6d9c",
   "metadata": {
    "collapsed": false,
    "jupyter": {
     "outputs_hidden": false
    },
    "pycharm": {
     "name": "#%%\n"
    }
   },
   "outputs": [
    {
     "name": "stdout",
     "output_type": "stream",
     "text": [
      "Final shape of interactions matrix is (8663, 47383)\n",
      "==> 8663 users and 47383 items are remaining.\n",
      "\n",
      "Number of interactions is 1476788,\n",
      "which leads to a density of 0.0036.\n"
     ]
    }
   ],
   "source": [
    "# filter users & tracks with too less interaction\n",
    "min_interactions_user = 10\n",
    "min_interactions_item = 10\n",
    "\n",
    "im_all, umap_all, imap_all, uinfo_all, iinfo_all = utils.ensure_min_interactions(interaction_matrix, \n",
    "                                                      min_interactions_user, min_interactions_item,\n",
    "                                                      df_user_info, df_item_info)\n",
    "\n",
    "utils.print_stats(im_all)\n",
    "\n",
    "# account for previous adjustment of item indices\n",
    "#imap_all = imap_all.assign(old=imap_all[\"old\"].replace(item_rename_dict_reverse))\n",
    "imap_all[\"old_new\"] = item2token.loc[imap_all[\"old\"]].values\n",
    "imap_all.rename(columns={\"old\":\"old_prev\"},inplace=True)\n",
    "imap_all.rename(columns={\"old_new\":\"old\"},inplace=True)\n",
    "assert im_all.shape[0] == len(uinfo_all)\n",
    "\n",
    "# store results\n",
    "storage_dir = os.path.join(data_dir, f\"user_gte_{min_interactions_user}_item_gte_{min_interactions_item}\" + sampled_suffix)\n",
    "utils.store_results(storage_dir, im_all, uinfo_all, attribute_descriptions, iinfo_all, umap_all, imap_all)"
   ]
  },
  {
   "cell_type": "code",
   "execution_count": 79,
   "id": "48af40d9-e1d9-4540-bee4-01b4c7bdd152",
   "metadata": {},
   "outputs": [],
   "source": [
    "df_user_info[\"age\"] = (df_user_info[\"age\"] - 0)/ 120"
   ]
  },
  {
   "cell_type": "code",
   "execution_count": 83,
   "id": "8fb0fd4d-3c69-4752-bf5d-0d5a6323de14",
   "metadata": {},
   "outputs": [
    {
     "data": {
      "text/plain": [
       "0"
      ]
     },
     "execution_count": 83,
     "metadata": {},
     "output_type": "execute_result"
    }
   ],
   "source": [
    "uinfo_all[\"age\"].isna().sum()"
   ]
  },
  {
   "cell_type": "code",
   "execution_count": 35,
   "id": "aa7390fc",
   "metadata": {
    "collapsed": false,
    "jupyter": {
     "outputs_hidden": false
    },
    "pycharm": {
     "name": "#%%\n"
    }
   },
   "outputs": [
    {
     "name": "stdout",
     "output_type": "stream",
     "text": [
      "Final shape of interactions matrix is (8663, 47383)\n",
      "==> 8663 users and 47383 items are remaining.\n",
      "\n",
      "Number of interactions is 1476788,\n",
      "which leads to a density of 0.0036.\n"
     ]
    }
   ],
   "source": [
    "# drop all data where no gender info is given\n",
    "mask_gender_given = df_user_info[\"gender\"].isin([\"f\", \"m\"])\n",
    "user_info_gen = df_user_info[mask_gender_given]\n",
    "im_gen = interaction_matrix[mask_gender_given, :]\n",
    "\n",
    "im_gen, umap_gen, imap_gen, uinfo_gen, iinfo_gen = utils.ensure_min_interactions(im_gen, \n",
    "                                                      min_interactions_user, min_interactions_item,\n",
    "                                                      user_info_gen, df_item_info)\n",
    "\n",
    "utils.print_stats(im_gen)\n",
    "\n",
    "# account for previous adjustment of item indices\n",
    "imap_gen = imap_gen.assign(old=imap_gen[\"old\"].replace(item_rename_dict_reverse))\n",
    "\n",
    "assert im_gen.shape[0] == len(uinfo_gen)\n",
    "\n",
    "# store results\n",
    "storage_dir = os.path.join(data_dir, f\"user_gte_{min_interactions_user}_item_gte_{min_interactions_item}_gender\" + sampled_suffix)\n",
    "utils.store_results(storage_dir, im_gen, uinfo_gen, attribute_descriptions, iinfo_gen, umap_gen, imap_gen)"
   ]
  },
  {
   "cell_type": "code",
   "execution_count": 45,
   "id": "e156f73b",
   "metadata": {
    "collapsed": false,
    "jupyter": {
     "outputs_hidden": false
    },
    "pycharm": {
     "name": "#%%\n"
    }
   },
   "outputs": [
    {
     "name": "stdout",
     "output_type": "stream",
     "text": [
      "Final shape of interactions matrix is (5860, 32944)\n",
      "==> 5860 users and 32944 items are remaining.\n",
      "\n",
      "Number of interactions is 925403,\n",
      "which leads to a density of 0.0048.\n"
     ]
    }
   ],
   "source": [
    "# drop all data where no location info is given\n",
    "mask_country_given = df_user_info[\"country\"] != \"\"\n",
    "user_info_country = df_user_info[mask_country_given]\n",
    "im_country = interaction_matrix[mask_country_given, :]\n",
    "\n",
    "im_country, umap_country, imap_country, uinfo_country, iinfo_country = utils.ensure_min_interactions(im_country, \n",
    "                                                      min_interactions_user, min_interactions_item,\n",
    "                                                      user_info_country, df_item_info)\n",
    "\n",
    "utils.print_stats(im_country)\n",
    "\n",
    "# account for previous adjustment of item indices\n",
    "item_rename_dict_reverse = {v: k for k, v in item_rename_dict.items()}\n",
    "imap_country = imap_country.assign(old=imap_country[\"old\"].replace(item_rename_dict_reverse))\n",
    "\n",
    "assert im_country.shape[0] == len(uinfo_country)\n",
    "\n",
    "# store results\n",
    "storage_dir = os.path.join(data_dir, f\"user_gte_{min_interactions_user}_item_gte_{min_interactions_item}_loc\" + sampled_suffix)\n",
    "utils.store_results(storage_dir, im_country, uinfo_country, attribute_descriptions, iinfo_country, umap_country, imap_country)"
   ]
  },
  {
   "cell_type": "code",
   "execution_count": 84,
   "id": "87de86c1",
   "metadata": {
    "collapsed": false,
    "jupyter": {
     "outputs_hidden": false
    },
    "pycharm": {
     "name": "#%%\n"
    }
   },
   "outputs": [
    {
     "name": "stdout",
     "output_type": "stream",
     "text": [
      "Final shape of interactions matrix is (8663, 47383)\n",
      "==> 8663 users and 47383 items are remaining.\n",
      "\n",
      "Number of interactions is 1476788,\n",
      "which leads to a density of 0.0036.\n"
     ]
    }
   ],
   "source": [
    "# drop all data where no age info is given\n",
    "mask_age_given = df_user_info[\"age\"] > 0\n",
    "user_info_age = df_user_info[mask_age_given]\n",
    "im_age = interaction_matrix[mask_age_given, :]\n",
    "\n",
    "im_age, umap_age, imap_age, uinfo_age, iinfo_age = utils.ensure_min_interactions(im_age, \n",
    "                                                      min_interactions_user, min_interactions_item,\n",
    "                                                      user_info_age, df_item_info)\n",
    "\n",
    "utils.print_stats(im_age)\n",
    "\n",
    "# account for previous adjustment of item indices\n",
    "item_rename_dict_reverse = {v: k for k, v in item_rename_dict.items()}\n",
    "imap_age = imap_age.assign(old=imap_age[\"old\"].replace(item_rename_dict_reverse))\n",
    "\n",
    "assert im_age.shape[0] == len(uinfo_age)\n",
    "\n",
    "# store results\n",
    "storage_dir = os.path.join(data_dir, f\"user_gte_{min_interactions_user}_item_gte_{min_interactions_item}_age\" + sampled_suffix)\n",
    "utils.store_results(storage_dir, im_age, uinfo_age, attribute_descriptions, iinfo_age, umap_age, imap_age)"
   ]
  },
  {
   "cell_type": "code",
   "execution_count": 47,
   "id": "72c056a6",
   "metadata": {
    "collapsed": false,
    "jupyter": {
     "outputs_hidden": false
    },
    "pycharm": {
     "name": "#%%\n"
    }
   },
   "outputs": [
    {
     "name": "stdout",
     "output_type": "stream",
     "text": [
      "Final shape of interactions matrix is (5846, 32863)\n",
      "==> 5846 users and 32863 items are remaining.\n",
      "\n",
      "Number of interactions is 922567,\n",
      "which leads to a density of 0.0048.\n"
     ]
    }
   ],
   "source": [
    "# drop all data where either age or loc is not given\n",
    "mask_given = mask_gender_given\n",
    "mask_given &= mask_country_given\n",
    "mask_given &= mask_age_given\n",
    "\n",
    "user_info = df_user_info[mask_given]\n",
    "im = interaction_matrix[mask_given, :]\n",
    "\n",
    "im, umap, imap, uinfo, iinfo = utils.ensure_min_interactions(im, \n",
    "                                                      min_interactions_user, min_interactions_item,\n",
    "                                                      user_info, df_item_info)\n",
    "\n",
    "utils.print_stats(im)\n",
    "\n",
    "# account for previous adjustment of item indices\n",
    "item_rename_dict_reverse = {v: k for k, v in item_rename_dict.items()}\n",
    "imap = imap.assign(old=imap[\"old\"].replace(item_rename_dict_reverse))\n",
    "\n",
    "assert im.shape[0] == len(uinfo)\n",
    "\n",
    "# store results\n",
    "storage_dir = os.path.join(data_dir, f\"user_gte_{min_interactions_user}_item_gte_{min_interactions_item}_gender_age_loc\" + sampled_suffix)\n",
    "utils.store_results(storage_dir, im, uinfo, attribute_descriptions, iinfo, umap, imap)"
   ]
  },
  {
   "cell_type": "code",
   "execution_count": 48,
   "id": "1dbf906c",
   "metadata": {
    "pycharm": {
     "name": "#%%\n"
    }
   },
   "outputs": [
    {
     "name": "stdout",
     "output_type": "stream",
     "text": [
      "Final shape of interactions matrix is (5846, 32863)\n",
      "==> 5846 users and 32863 items are remaining.\n",
      "\n",
      "Number of interactions is 922567,\n",
      "which leads to a density of 0.0048.\n"
     ]
    }
   ],
   "source": [
    "# drop all data where either age or loc is not given\n",
    "mask_given = mask_gender_given\n",
    "mask_given &= mask_country_given\n",
    "mask_given &= mask_age_given\n",
    "\n",
    "user_info = df_user_info[mask_given]\n",
    "im = interaction_matrix[mask_given, :]\n",
    "\n",
    "im, umap, imap, uinfo, iinfo = utils.ensure_min_interactions(im, \n",
    "                                                      min_interactions_user, min_interactions_item,\n",
    "                                                      user_info, df_item_info)\n",
    "\n",
    "utils.print_stats(im)\n",
    "\n",
    "# account for previous adjustment of item indices\n",
    "item_rename_dict_reverse = {v: k for k, v in item_rename_dict.items()}\n",
    "imap = imap.assign(old=imap[\"old\"].replace(item_rename_dict_reverse))\n",
    "\n",
    "assert im.shape[0] == len(uinfo)\n",
    "\n",
    "# store results\n",
    "storage_dir = os.path.join(data_dir, f\"user_gte_{min_interactions_user}_item_gte_{min_interactions_item}_gender_age_loc\" + sampled_suffix)\n",
    "utils.store_results(storage_dir, im, uinfo, attribute_descriptions, iinfo, umap, imap)"
   ]
  }
 ],
 "metadata": {
  "kernelspec": {
   "display_name": "Python 3 (ipykernel)",
   "language": "python",
   "name": "python3"
  },
  "language_info": {
   "codemirror_mode": {
    "name": "ipython",
    "version": 3
   },
   "file_extension": ".py",
   "mimetype": "text/x-python",
   "name": "python",
   "nbconvert_exporter": "python",
   "pygments_lexer": "ipython3",
   "version": "3.8.13"
  }
 },
 "nbformat": 4,
 "nbformat_minor": 5
}
