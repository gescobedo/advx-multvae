{
 "cells": [
  {
   "cell_type": "markdown",
   "id": "a5f93ab9",
   "metadata": {
    "pycharm": {
     "name": "#%% md\n"
    }
   },
   "source": [
    "# Notebook to preprocess the LFM2019 dataset\n",
    "Please run the preceeding notebook, \"filter_lfm2019.ipynb\" before running this notebook."
   ]
  },
  {
   "cell_type": "code",
   "execution_count": 1,
   "id": "0e0181f5",
   "metadata": {
    "pycharm": {
     "name": "#%%\n"
    }
   },
   "outputs": [],
   "source": [
    "import os\n",
    "import csv\n",
    "import json\n",
    "import glob\n",
    "import utils\n",
    "import pickle \n",
    "import numpy as np\n",
    "import pandas as pd\n",
    "import pickle as pkl\n",
    "from tqdm import tqdm\n",
    "from scipy import sparse as sp\n",
    "import matplotlib.pyplot as plt\n",
    "from collections import defaultdict"
   ]
  },
  {
   "cell_type": "code",
   "execution_count": 2,
   "metadata": {
    "collapsed": false,
    "pycharm": {
     "name": "#%%\n"
    }
   },
   "outputs": [],
   "source": [
    "data_dir = \"/media/gustavo/Storage/Datasets/PersonalityBias/data/\"\n",
    "# data_dir = r\"F:\\Temp\\lfm2b data\""
   ]
  },
  {
   "cell_type": "code",
   "execution_count": 3,
   "id": "866c5977",
   "metadata": {},
   "outputs": [
    {
     "name": "stdout",
     "output_type": "stream",
     "text": [
      "total 402804\n",
      "drwxrwxrwx 1 root root       416 Sep 18 13:17 full_100000\n",
      "-rwxrwxrwx 1 root root  17340125 Sep 18 11:43 interaction_matrix_personality.npz\n",
      "-rwxrwxrwx 1 root root 204350131 Apr 16  2020 listening_histories.pkl\n",
      "-rwxrwxrwx 1 root root   4121280 Apr 16  2020 precomputed_profiles_thr.pkl\n",
      "-rwxrwxrwx 1 root root 186593099 Apr 16  2020 spotify_features.csv\n",
      "-rwxrwxrwx 1 root root     57234 Apr 16  2020 users_info.csv\n"
     ]
    }
   ],
   "source": [
    "!ls -l /media/gustavo/Storage/Datasets/PersonalityBias/data/"
   ]
  },
  {
   "cell_type": "markdown",
   "metadata": {
    "collapsed": false,
    "pycharm": {
     "name": "#%% md\n"
    }
   },
   "source": [
    "### User data"
   ]
  },
  {
   "cell_type": "code",
   "execution_count": 4,
   "metadata": {
    "collapsed": false,
    "pycharm": {
     "name": "#%%\n"
    }
   },
   "outputs": [
    {
     "data": {
      "text/html": [
       "<div>\n",
       "<style scoped>\n",
       "    .dataframe tbody tr th:only-of-type {\n",
       "        vertical-align: middle;\n",
       "    }\n",
       "\n",
       "    .dataframe tbody tr th {\n",
       "        vertical-align: top;\n",
       "    }\n",
       "\n",
       "    .dataframe thead th {\n",
       "        text-align: right;\n",
       "    }\n",
       "</style>\n",
       "<table border=\"1\" class=\"dataframe\">\n",
       "  <thead>\n",
       "    <tr style=\"text-align: right;\">\n",
       "      <th></th>\n",
       "      <th>userID</th>\n",
       "      <th>ope</th>\n",
       "      <th>con</th>\n",
       "      <th>ext</th>\n",
       "      <th>agr</th>\n",
       "      <th>neu</th>\n",
       "      <th>n_les</th>\n",
       "      <th>n_tracks</th>\n",
       "    </tr>\n",
       "  </thead>\n",
       "  <tbody>\n",
       "    <tr>\n",
       "      <th>0</th>\n",
       "      <td>0</td>\n",
       "      <td>5.00</td>\n",
       "      <td>1.00</td>\n",
       "      <td>4.75</td>\n",
       "      <td>2.50</td>\n",
       "      <td>4.00</td>\n",
       "      <td>6.0</td>\n",
       "      <td>6</td>\n",
       "    </tr>\n",
       "    <tr>\n",
       "      <th>1</th>\n",
       "      <td>1</td>\n",
       "      <td>4.25</td>\n",
       "      <td>3.75</td>\n",
       "      <td>3.25</td>\n",
       "      <td>3.50</td>\n",
       "      <td>2.00</td>\n",
       "      <td>432905.0</td>\n",
       "      <td>28906</td>\n",
       "    </tr>\n",
       "    <tr>\n",
       "      <th>2</th>\n",
       "      <td>2</td>\n",
       "      <td>4.10</td>\n",
       "      <td>3.05</td>\n",
       "      <td>2.35</td>\n",
       "      <td>3.90</td>\n",
       "      <td>3.05</td>\n",
       "      <td>43108.0</td>\n",
       "      <td>5028</td>\n",
       "    </tr>\n",
       "    <tr>\n",
       "      <th>3</th>\n",
       "      <td>3</td>\n",
       "      <td>4.65</td>\n",
       "      <td>2.85</td>\n",
       "      <td>3.89</td>\n",
       "      <td>3.35</td>\n",
       "      <td>3.35</td>\n",
       "      <td>43474.0</td>\n",
       "      <td>13681</td>\n",
       "    </tr>\n",
       "    <tr>\n",
       "      <th>4</th>\n",
       "      <td>4</td>\n",
       "      <td>4.05</td>\n",
       "      <td>3.10</td>\n",
       "      <td>2.60</td>\n",
       "      <td>3.85</td>\n",
       "      <td>1.80</td>\n",
       "      <td>5928.0</td>\n",
       "      <td>1003</td>\n",
       "    </tr>\n",
       "    <tr>\n",
       "      <th>...</th>\n",
       "      <td>...</td>\n",
       "      <td>...</td>\n",
       "      <td>...</td>\n",
       "      <td>...</td>\n",
       "      <td>...</td>\n",
       "      <td>...</td>\n",
       "      <td>...</td>\n",
       "      <td>...</td>\n",
       "    </tr>\n",
       "    <tr>\n",
       "      <th>1465</th>\n",
       "      <td>1465</td>\n",
       "      <td>4.65</td>\n",
       "      <td>2.80</td>\n",
       "      <td>4.30</td>\n",
       "      <td>3.65</td>\n",
       "      <td>2.25</td>\n",
       "      <td>1822.0</td>\n",
       "      <td>1071</td>\n",
       "    </tr>\n",
       "    <tr>\n",
       "      <th>1466</th>\n",
       "      <td>1466</td>\n",
       "      <td>3.75</td>\n",
       "      <td>2.75</td>\n",
       "      <td>1.35</td>\n",
       "      <td>3.55</td>\n",
       "      <td>4.30</td>\n",
       "      <td>14748.0</td>\n",
       "      <td>7695</td>\n",
       "    </tr>\n",
       "    <tr>\n",
       "      <th>1467</th>\n",
       "      <td>1467</td>\n",
       "      <td>3.95</td>\n",
       "      <td>2.95</td>\n",
       "      <td>1.35</td>\n",
       "      <td>3.30</td>\n",
       "      <td>2.10</td>\n",
       "      <td>70066.0</td>\n",
       "      <td>19371</td>\n",
       "    </tr>\n",
       "    <tr>\n",
       "      <th>1468</th>\n",
       "      <td>1468</td>\n",
       "      <td>4.15</td>\n",
       "      <td>3.60</td>\n",
       "      <td>3.60</td>\n",
       "      <td>3.50</td>\n",
       "      <td>1.95</td>\n",
       "      <td>8736.0</td>\n",
       "      <td>1276</td>\n",
       "    </tr>\n",
       "    <tr>\n",
       "      <th>1469</th>\n",
       "      <td>1469</td>\n",
       "      <td>4.10</td>\n",
       "      <td>3.40</td>\n",
       "      <td>3.85</td>\n",
       "      <td>3.65</td>\n",
       "      <td>2.15</td>\n",
       "      <td>15612.0</td>\n",
       "      <td>5139</td>\n",
       "    </tr>\n",
       "  </tbody>\n",
       "</table>\n",
       "<p>1470 rows × 8 columns</p>\n",
       "</div>"
      ],
      "text/plain": [
       "      userID   ope   con   ext   agr   neu     n_les  n_tracks\n",
       "0          0  5.00  1.00  4.75  2.50  4.00       6.0         6\n",
       "1          1  4.25  3.75  3.25  3.50  2.00  432905.0     28906\n",
       "2          2  4.10  3.05  2.35  3.90  3.05   43108.0      5028\n",
       "3          3  4.65  2.85  3.89  3.35  3.35   43474.0     13681\n",
       "4          4  4.05  3.10  2.60  3.85  1.80    5928.0      1003\n",
       "...      ...   ...   ...   ...   ...   ...       ...       ...\n",
       "1465    1465  4.65  2.80  4.30  3.65  2.25    1822.0      1071\n",
       "1466    1466  3.75  2.75  1.35  3.55  4.30   14748.0      7695\n",
       "1467    1467  3.95  2.95  1.35  3.30  2.10   70066.0     19371\n",
       "1468    1468  4.15  3.60  3.60  3.50  1.95    8736.0      1276\n",
       "1469    1469  4.10  3.40  3.85  3.65  2.15   15612.0      5139\n",
       "\n",
       "[1470 rows x 8 columns]"
      ]
     },
     "execution_count": 4,
     "metadata": {},
     "output_type": "execute_result"
    }
   ],
   "source": [
    "# Load user data\n",
    "df_users = pd.read_csv(os.path.join(data_dir, \"users_info.csv\"), index_col=None)\n",
    "df_users.rename(columns={'label':'userID'},inplace=True)\n",
    "df_users"
   ]
  },
  {
   "cell_type": "code",
   "execution_count": 5,
   "metadata": {
    "collapsed": false,
    "pycharm": {
     "name": "#%%\n"
    }
   },
   "outputs": [
    {
     "data": {
      "text/html": [
       "<div>\n",
       "<style scoped>\n",
       "    .dataframe tbody tr th:only-of-type {\n",
       "        vertical-align: middle;\n",
       "    }\n",
       "\n",
       "    .dataframe tbody tr th {\n",
       "        vertical-align: top;\n",
       "    }\n",
       "\n",
       "    .dataframe thead th {\n",
       "        text-align: right;\n",
       "    }\n",
       "</style>\n",
       "<table border=\"1\" class=\"dataframe\">\n",
       "  <thead>\n",
       "    <tr style=\"text-align: right;\">\n",
       "      <th></th>\n",
       "      <th>itemID</th>\n",
       "      <th>spotify_popularity</th>\n",
       "      <th>acousticness</th>\n",
       "      <th>danceability</th>\n",
       "      <th>duration_ms</th>\n",
       "      <th>energy</th>\n",
       "      <th>instrumentalness</th>\n",
       "      <th>key</th>\n",
       "      <th>liveness</th>\n",
       "      <th>loudness</th>\n",
       "      <th>mode</th>\n",
       "      <th>speechiness</th>\n",
       "      <th>tempo</th>\n",
       "      <th>time_signature</th>\n",
       "      <th>valence</th>\n",
       "    </tr>\n",
       "  </thead>\n",
       "  <tbody>\n",
       "    <tr>\n",
       "      <th>0</th>\n",
       "      <td>7zzxnAzSZM8luJ7IASrnax</td>\n",
       "      <td>33.0</td>\n",
       "      <td>0.000803</td>\n",
       "      <td>0.621</td>\n",
       "      <td>204231.0</td>\n",
       "      <td>0.884</td>\n",
       "      <td>0.000023</td>\n",
       "      <td>6.0</td>\n",
       "      <td>0.2760</td>\n",
       "      <td>-6.292</td>\n",
       "      <td>0.0</td>\n",
       "      <td>0.0344</td>\n",
       "      <td>130.040</td>\n",
       "      <td>4.0</td>\n",
       "      <td>0.0706</td>\n",
       "    </tr>\n",
       "    <tr>\n",
       "      <th>1</th>\n",
       "      <td>7zzwQwN3jNiK46B2M9kL2Q</td>\n",
       "      <td>17.0</td>\n",
       "      <td>0.295000</td>\n",
       "      <td>0.480</td>\n",
       "      <td>153187.0</td>\n",
       "      <td>0.899</td>\n",
       "      <td>0.000676</td>\n",
       "      <td>10.0</td>\n",
       "      <td>0.2280</td>\n",
       "      <td>-6.698</td>\n",
       "      <td>1.0</td>\n",
       "      <td>0.3830</td>\n",
       "      <td>163.955</td>\n",
       "      <td>4.0</td>\n",
       "      <td>0.4660</td>\n",
       "    </tr>\n",
       "    <tr>\n",
       "      <th>2</th>\n",
       "      <td>7zzw3gHoCvn8D4jmsZS9fP</td>\n",
       "      <td>1.0</td>\n",
       "      <td>0.000005</td>\n",
       "      <td>0.402</td>\n",
       "      <td>280840.0</td>\n",
       "      <td>0.918</td>\n",
       "      <td>0.813000</td>\n",
       "      <td>11.0</td>\n",
       "      <td>0.0541</td>\n",
       "      <td>-4.908</td>\n",
       "      <td>0.0</td>\n",
       "      <td>0.0575</td>\n",
       "      <td>100.067</td>\n",
       "      <td>4.0</td>\n",
       "      <td>0.4690</td>\n",
       "    </tr>\n",
       "    <tr>\n",
       "      <th>3</th>\n",
       "      <td>7zzvGaj7wSkF8DbqdW2UJk</td>\n",
       "      <td>0.0</td>\n",
       "      <td>0.868000</td>\n",
       "      <td>0.488</td>\n",
       "      <td>202507.0</td>\n",
       "      <td>0.225</td>\n",
       "      <td>0.000019</td>\n",
       "      <td>0.0</td>\n",
       "      <td>0.1710</td>\n",
       "      <td>-11.019</td>\n",
       "      <td>1.0</td>\n",
       "      <td>0.0292</td>\n",
       "      <td>100.772</td>\n",
       "      <td>4.0</td>\n",
       "      <td>0.3600</td>\n",
       "    </tr>\n",
       "    <tr>\n",
       "      <th>4</th>\n",
       "      <td>7zzrexVQkXFgNs9DszadOo</td>\n",
       "      <td>1.0</td>\n",
       "      <td>0.830000</td>\n",
       "      <td>0.776</td>\n",
       "      <td>299413.0</td>\n",
       "      <td>0.118</td>\n",
       "      <td>0.832000</td>\n",
       "      <td>0.0</td>\n",
       "      <td>0.0804</td>\n",
       "      <td>-20.933</td>\n",
       "      <td>1.0</td>\n",
       "      <td>0.0649</td>\n",
       "      <td>91.026</td>\n",
       "      <td>4.0</td>\n",
       "      <td>0.4880</td>\n",
       "    </tr>\n",
       "    <tr>\n",
       "      <th>...</th>\n",
       "      <td>...</td>\n",
       "      <td>...</td>\n",
       "      <td>...</td>\n",
       "      <td>...</td>\n",
       "      <td>...</td>\n",
       "      <td>...</td>\n",
       "      <td>...</td>\n",
       "      <td>...</td>\n",
       "      <td>...</td>\n",
       "      <td>...</td>\n",
       "      <td>...</td>\n",
       "      <td>...</td>\n",
       "      <td>...</td>\n",
       "      <td>...</td>\n",
       "      <td>...</td>\n",
       "    </tr>\n",
       "    <tr>\n",
       "      <th>1544641</th>\n",
       "      <td>0003gzqa5DjwfTBvxYQ9w1</td>\n",
       "      <td>4.0</td>\n",
       "      <td>0.000798</td>\n",
       "      <td>0.545</td>\n",
       "      <td>190189.0</td>\n",
       "      <td>0.720</td>\n",
       "      <td>0.000000</td>\n",
       "      <td>2.0</td>\n",
       "      <td>0.2090</td>\n",
       "      <td>-8.585</td>\n",
       "      <td>1.0</td>\n",
       "      <td>0.0441</td>\n",
       "      <td>176.048</td>\n",
       "      <td>4.0</td>\n",
       "      <td>0.7950</td>\n",
       "    </tr>\n",
       "    <tr>\n",
       "      <th>1544642</th>\n",
       "      <td>0002QCA9IIaRf3ifnR2LNO</td>\n",
       "      <td>3.0</td>\n",
       "      <td>0.212000</td>\n",
       "      <td>0.587</td>\n",
       "      <td>284840.0</td>\n",
       "      <td>0.735</td>\n",
       "      <td>0.000000</td>\n",
       "      <td>1.0</td>\n",
       "      <td>0.0514</td>\n",
       "      <td>-4.992</td>\n",
       "      <td>1.0</td>\n",
       "      <td>0.0440</td>\n",
       "      <td>134.948</td>\n",
       "      <td>4.0</td>\n",
       "      <td>0.4910</td>\n",
       "    </tr>\n",
       "    <tr>\n",
       "      <th>1544643</th>\n",
       "      <td>0001baInewEqHk38YpW7W2</td>\n",
       "      <td>5.0</td>\n",
       "      <td>0.902000</td>\n",
       "      <td>0.533</td>\n",
       "      <td>204947.0</td>\n",
       "      <td>0.400</td>\n",
       "      <td>0.910000</td>\n",
       "      <td>7.0</td>\n",
       "      <td>0.1110</td>\n",
       "      <td>-12.368</td>\n",
       "      <td>1.0</td>\n",
       "      <td>0.0253</td>\n",
       "      <td>131.729</td>\n",
       "      <td>3.0</td>\n",
       "      <td>0.5880</td>\n",
       "    </tr>\n",
       "    <tr>\n",
       "      <th>1544644</th>\n",
       "      <td>0001KlxKxXdIbexJkKRSDL</td>\n",
       "      <td>0.0</td>\n",
       "      <td>0.045100</td>\n",
       "      <td>0.657</td>\n",
       "      <td>258733.0</td>\n",
       "      <td>0.591</td>\n",
       "      <td>0.589000</td>\n",
       "      <td>6.0</td>\n",
       "      <td>0.1240</td>\n",
       "      <td>-8.501</td>\n",
       "      <td>0.0</td>\n",
       "      <td>0.0563</td>\n",
       "      <td>140.832</td>\n",
       "      <td>4.0</td>\n",
       "      <td>0.1540</td>\n",
       "    </tr>\n",
       "    <tr>\n",
       "      <th>1544645</th>\n",
       "      <td>0000GYcILCgpHw8gP6qicK</td>\n",
       "      <td>5.0</td>\n",
       "      <td>0.212000</td>\n",
       "      <td>0.704</td>\n",
       "      <td>264200.0</td>\n",
       "      <td>0.777</td>\n",
       "      <td>0.009970</td>\n",
       "      <td>3.0</td>\n",
       "      <td>0.1550</td>\n",
       "      <td>-6.458</td>\n",
       "      <td>1.0</td>\n",
       "      <td>0.0245</td>\n",
       "      <td>102.070</td>\n",
       "      <td>4.0</td>\n",
       "      <td>0.6500</td>\n",
       "    </tr>\n",
       "  </tbody>\n",
       "</table>\n",
       "<p>1544646 rows × 15 columns</p>\n",
       "</div>"
      ],
      "text/plain": [
       "                         itemID  spotify_popularity  acousticness  \\\n",
       "0        7zzxnAzSZM8luJ7IASrnax                33.0      0.000803   \n",
       "1        7zzwQwN3jNiK46B2M9kL2Q                17.0      0.295000   \n",
       "2        7zzw3gHoCvn8D4jmsZS9fP                 1.0      0.000005   \n",
       "3        7zzvGaj7wSkF8DbqdW2UJk                 0.0      0.868000   \n",
       "4        7zzrexVQkXFgNs9DszadOo                 1.0      0.830000   \n",
       "...                         ...                 ...           ...   \n",
       "1544641  0003gzqa5DjwfTBvxYQ9w1                 4.0      0.000798   \n",
       "1544642  0002QCA9IIaRf3ifnR2LNO                 3.0      0.212000   \n",
       "1544643  0001baInewEqHk38YpW7W2                 5.0      0.902000   \n",
       "1544644  0001KlxKxXdIbexJkKRSDL                 0.0      0.045100   \n",
       "1544645  0000GYcILCgpHw8gP6qicK                 5.0      0.212000   \n",
       "\n",
       "         danceability  duration_ms  energy  instrumentalness   key  liveness  \\\n",
       "0               0.621     204231.0   0.884          0.000023   6.0    0.2760   \n",
       "1               0.480     153187.0   0.899          0.000676  10.0    0.2280   \n",
       "2               0.402     280840.0   0.918          0.813000  11.0    0.0541   \n",
       "3               0.488     202507.0   0.225          0.000019   0.0    0.1710   \n",
       "4               0.776     299413.0   0.118          0.832000   0.0    0.0804   \n",
       "...               ...          ...     ...               ...   ...       ...   \n",
       "1544641         0.545     190189.0   0.720          0.000000   2.0    0.2090   \n",
       "1544642         0.587     284840.0   0.735          0.000000   1.0    0.0514   \n",
       "1544643         0.533     204947.0   0.400          0.910000   7.0    0.1110   \n",
       "1544644         0.657     258733.0   0.591          0.589000   6.0    0.1240   \n",
       "1544645         0.704     264200.0   0.777          0.009970   3.0    0.1550   \n",
       "\n",
       "         loudness  mode  speechiness    tempo  time_signature  valence  \n",
       "0          -6.292   0.0       0.0344  130.040             4.0   0.0706  \n",
       "1          -6.698   1.0       0.3830  163.955             4.0   0.4660  \n",
       "2          -4.908   0.0       0.0575  100.067             4.0   0.4690  \n",
       "3         -11.019   1.0       0.0292  100.772             4.0   0.3600  \n",
       "4         -20.933   1.0       0.0649   91.026             4.0   0.4880  \n",
       "...           ...   ...          ...      ...             ...      ...  \n",
       "1544641    -8.585   1.0       0.0441  176.048             4.0   0.7950  \n",
       "1544642    -4.992   1.0       0.0440  134.948             4.0   0.4910  \n",
       "1544643   -12.368   1.0       0.0253  131.729             3.0   0.5880  \n",
       "1544644    -8.501   0.0       0.0563  140.832             4.0   0.1540  \n",
       "1544645    -6.458   1.0       0.0245  102.070             4.0   0.6500  \n",
       "\n",
       "[1544646 rows x 15 columns]"
      ]
     },
     "execution_count": 5,
     "metadata": {},
     "output_type": "execute_result"
    }
   ],
   "source": [
    "df_items = pd.read_csv(os.path.join(data_dir, \"spotify_features.csv\"))\n",
    "df_items.columns = [\"itemID\"] +list(df_items.columns[1:])\n",
    "df_items"
   ]
  },
  {
   "cell_type": "markdown",
   "metadata": {
    "collapsed": false,
    "pycharm": {
     "name": "#%% md\n"
    }
   },
   "source": [
    "### Interaction matrix"
   ]
  },
  {
   "cell_type": "markdown",
   "metadata": {
    "collapsed": false,
    "pycharm": {
     "name": "#%% md\n"
    }
   },
   "source": [
    "As there are by any means too much items, we will randomly select some items and put them in a sparse matrix."
   ]
  },
  {
   "cell_type": "code",
   "execution_count": 6,
   "id": "4c3c7a1a",
   "metadata": {},
   "outputs": [],
   "source": [
    "import pickle \n",
    "from pathlib import Path\n",
    "path_data_dir = Path(data_dir)\n",
    "interaction_dict=  pickle.load(open(path_data_dir/\"listening_histories.pkl\",\"rb\") )\n",
    "#user_features = pickle.load(open(path_data_dir/ \"\",\"rb\") )\n"
   ]
  },
  {
   "cell_type": "code",
   "execution_count": 7,
   "id": "3a0fdf37",
   "metadata": {},
   "outputs": [
    {
     "name": "stdout",
     "output_type": "stream",
     "text": [
      "n_items: 1544646\n"
     ]
    }
   ],
   "source": [
    "unique_items = []\n",
    "for val in interaction_dict.values():\n",
    "    unique_items+=val\n",
    "unique_items = list(set(unique_items))\n",
    "print(f\"n_items: {len(unique_items)}\")\n",
    "item2token = pd.Series(unique_items)\n",
    "token2item = pd.Series(data=item2token.index, index=item2token.values)\n"
   ]
  },
  {
   "cell_type": "code",
   "execution_count": 4,
   "id": "d4f64582",
   "metadata": {},
   "outputs": [
    {
     "name": "stdout",
     "output_type": "stream",
     "text": [
      "n_items: 1544646\n"
     ]
    }
   ],
   "source": [
    "\n",
    "\n",
    "iids_dict = {k:token2item.loc[value].values  for k,value in interaction_dict.items()}\n",
    "uids_iids_array = pd.Series(iids_dict).explode().reset_index().to_numpy().astype(np.int32)\n",
    "n_users,n_items = len(interaction_dict.keys()),len(unique_items) \n",
    "data = np.ones(uids_iids_array.shape[0],dtype=np.int8)\n",
    "uids,iids = uids_iids_array[:,0],uids_iids_array[:,1]\n",
    "interaction_matrix = sp.csr_matrix((data, (uids, iids)), \n",
    "                                       (n_users, n_items))"
   ]
  },
  {
   "cell_type": "code",
   "execution_count": 12,
   "id": "31a478ec",
   "metadata": {},
   "outputs": [],
   "source": [
    "sp.save_npz(os.path.join(data_dir, \"interaction_matrix_personality.npz\"),interaction_matrix)"
   ]
  },
  {
   "cell_type": "code",
   "execution_count": 8,
   "id": "af9a28dc",
   "metadata": {
    "collapsed": false,
    "pycharm": {
     "name": "#%%\n"
    }
   },
   "outputs": [
    {
     "data": {
      "text/plain": [
       "<1470x100000 sparse matrix of type '<class 'numpy.int8'>'\n",
       "\twith 410280 stored elements in Compressed Sparse Row format>"
      ]
     },
     "execution_count": 8,
     "metadata": {},
     "output_type": "execute_result"
    }
   ],
   "source": [
    "n_sampled_items = 100_000\n",
    "np.random.seed(42)\n",
    "\n",
    "interaction_matrix = sp.load_npz(os.path.join(data_dir, \"interaction_matrix_personality.npz\"))\n",
    "n_users, n_items = interaction_matrix.shape\n",
    "\n",
    "sampled_items = sorted(np.random.choice(np.arange(n_items), n_sampled_items, replace=False))\n",
    "\n",
    "interaction_matrix_sampled = interaction_matrix[:, sampled_items]\n",
    "interaction_matrix_sampled"
   ]
  },
  {
   "cell_type": "markdown",
   "metadata": {
    "collapsed": false,
    "pycharm": {
     "name": "#%% md\n"
    }
   },
   "source": [
    "### User information"
   ]
  },
  {
   "cell_type": "code",
   "execution_count": null,
   "metadata": {
    "collapsed": false,
    "pycharm": {
     "name": "#%%\n"
    }
   },
   "outputs": [],
   "source": [
    "# Moreover, as the didn't seem to be any input validation in place when collecting the data,\n",
    "# we will set the users' attributes to default if they \n",
    "#    - don't make sense (also in case of additional punctations, etc..),\n",
    "#    - belong to a group with only a few users (for nominal data)\n",
    "\n",
    "min_n_users_per_group = 200\n",
    "bad_location_groups = [k for k, v in df_users[\"Country\"].value_counts().items() if v < min_n_users_per_group]\n",
    "bad_location_groups += [\"\", \",\", np.nan]\n",
    "\n",
    "bad_location_users = df_users[\"Country\"].isin(bad_location_groups)\n",
    "print(f\"{bad_location_users.sum()} of {len(bad_location_users)} user countries reset to default\")\n",
    "\n",
    "df_users.loc[bad_location_users, \"Country\"] = \"\"\n",
    "df_users"
   ]
  },
  {
   "cell_type": "code",
   "execution_count": null,
   "metadata": {
    "collapsed": false,
    "pycharm": {
     "name": "#%%\n"
    }
   },
   "outputs": [],
   "source": [
    "min_age = 10\n",
    "max_age = 100\n",
    "bad_age_users = (df_users[\"Age\"] < min_age) | (max_age < df_users[\"Age\"])\n",
    "\n",
    "print(f\"{bad_age_users.sum()} of {len(bad_age_users)} user ages reset to default\")\n",
    "df_users.loc[bad_age_users, \"Age\"] = np.NaN\n",
    "df_users"
   ]
  },
  {
   "cell_type": "code",
   "execution_count": null,
   "metadata": {
    "collapsed": false,
    "pycharm": {
     "name": "#%%\n"
    }
   },
   "outputs": [],
   "source": [
    "# We group users in age categories to make the data easier to handle\n",
    "age_categories = [18, 25, 35, 45, 55]\n",
    "\n",
    "assigned_age_cat = np.zeros(shape=(len(df_users),) , dtype=int)\n",
    "for cat in age_categories:\n",
    "    assigned_age_cat += (df_users[\"Age\"] > cat).astype(int)\n",
    "\n",
    "assigned_age_cat[df_users[\"Age\"].isna()] = -1\n",
    "df_users[\"Age\"] = assigned_age_cat\n",
    "df_users[\"Age\"].value_counts()"
   ]
  },
  {
   "cell_type": "code",
   "execution_count": null,
   "metadata": {
    "collapsed": false,
    "pycharm": {
     "name": "#%%\n"
    }
   },
   "outputs": [],
   "source": [
    "# Extracted the README file\n",
    "attribute_descriptions = {\n",
    "    \"gender\": {\n",
    "        \"m\": \"male\",\n",
    "        \"f\": \"female\"\n",
    "    },\n",
    "    \"age\": {\n",
    "        -1: \"unknown\",\n",
    "        0:  \"Under 18\",\n",
    "        1:  \"18-24\",\n",
    "        2:  \"25-34\",\n",
    "        3:  \"35-44\",\n",
    "        4:  \"45-54\",\n",
    "        5:  \"55+\"\n",
    "    },\n",
    "    # just in case scripts require for each attribute to have a description\n",
    "    \"country\": {d:d for d in df_users[\"Country\"].unique()}\n",
    "}\n",
    "attribute_descriptions[\"country\"][\"\"] = \"undefined\""
   ]
  },
  {
   "cell_type": "code",
   "execution_count": 9,
   "metadata": {
    "collapsed": false,
    "pycharm": {
     "name": "#%%\n"
    }
   },
   "outputs": [
    {
     "name": "stdout",
     "output_type": "stream",
     "text": [
      "Number of users: 1470\n",
      "Number of items: 100000\n",
      "\n",
      "Number of interactions: 2023227\n",
      "Density: 0.000891\n"
     ]
    }
   ],
   "source": [
    "n_interactions = interaction_matrix_sampled.sum()\n",
    "density = n_interactions / (n_items * n_users)\n",
    "\n",
    "# Show some statistics about the dataset\n",
    "print(\"Number of users:\", interaction_matrix_sampled.shape[0])\n",
    "print(\"Number of items:\", interaction_matrix_sampled.shape[1])\n",
    "\n",
    "print(\"\\nNumber of interactions:\", n_interactions)\n",
    "print(f\"Density: {density:.6f}\")"
   ]
  },
  {
   "cell_type": "markdown",
   "metadata": {
    "collapsed": false,
    "pycharm": {
     "name": "#%% md\n"
    }
   },
   "source": [
    "### Data preparation\n",
    "For our use-case our end-result should be binary interaction matrix, where ```1``` denotes that a user\n",
    "interacted with an item, and ```0``` that they did not."
   ]
  },
  {
   "cell_type": "code",
   "execution_count": 10,
   "metadata": {
    "collapsed": false,
    "pycharm": {
     "name": "#%%\n"
    }
   },
   "outputs": [],
   "source": [
    "# some items might be missing, let's therefore adjust / re-enumerate the indices\n",
    "item_ids = df_items[\"itemID\"].unique()\n",
    "item_rename_dict = token2item.to_dict()\n",
    "item_rename_dict_reverse = item2token.to_dict()\n",
    "\n",
    "df_items = df_items[df_items[\"itemID\"].isin(item_ids)]\n",
    "\n",
    "#df_items[\"itemID\"]= token2item.loc[df_items[\"itemID\"].values ]\n",
    "#print(token2item.loc[df_items[\"itemID\"].values]              )\n",
    "\n",
    "df_items[\"itemID_int\"] = token2item.loc[df_items[\"itemID\"]].values\n",
    "df_items.rename(columns={\"itemID\":\"itemID_str\"},inplace=True)\n",
    "df_items.rename(columns={\"itemID_int\":\"itemID\"},inplace=True)\n",
    "item_ids = list(range(len(sampled_items)))\n",
    "df_item_info = df_items[df_items[\"itemID\"].isin(sampled_items)]"
   ]
  },
  {
   "cell_type": "code",
   "execution_count": 11,
   "id": "620e40ad",
   "metadata": {},
   "outputs": [
    {
     "data": {
      "text/html": [
       "<div>\n",
       "<style scoped>\n",
       "    .dataframe tbody tr th:only-of-type {\n",
       "        vertical-align: middle;\n",
       "    }\n",
       "\n",
       "    .dataframe tbody tr th {\n",
       "        vertical-align: top;\n",
       "    }\n",
       "\n",
       "    .dataframe thead th {\n",
       "        text-align: right;\n",
       "    }\n",
       "</style>\n",
       "<table border=\"1\" class=\"dataframe\">\n",
       "  <thead>\n",
       "    <tr style=\"text-align: right;\">\n",
       "      <th></th>\n",
       "      <th>itemID_str</th>\n",
       "      <th>spotify_popularity</th>\n",
       "      <th>acousticness</th>\n",
       "      <th>danceability</th>\n",
       "      <th>duration_ms</th>\n",
       "      <th>energy</th>\n",
       "      <th>instrumentalness</th>\n",
       "      <th>key</th>\n",
       "      <th>liveness</th>\n",
       "      <th>loudness</th>\n",
       "      <th>mode</th>\n",
       "      <th>speechiness</th>\n",
       "      <th>tempo</th>\n",
       "      <th>time_signature</th>\n",
       "      <th>valence</th>\n",
       "      <th>itemID</th>\n",
       "    </tr>\n",
       "  </thead>\n",
       "  <tbody>\n",
       "    <tr>\n",
       "      <th>15</th>\n",
       "      <td>7zzbPkvxJ6iANIxcSz60rm</td>\n",
       "      <td>20.0</td>\n",
       "      <td>0.864000</td>\n",
       "      <td>0.638</td>\n",
       "      <td>161560.0</td>\n",
       "      <td>0.156</td>\n",
       "      <td>0.000000</td>\n",
       "      <td>8.0</td>\n",
       "      <td>0.1830</td>\n",
       "      <td>-17.372</td>\n",
       "      <td>1.0</td>\n",
       "      <td>0.0741</td>\n",
       "      <td>103.905</td>\n",
       "      <td>4.0</td>\n",
       "      <td>0.4430</td>\n",
       "      <td>1179763</td>\n",
       "    </tr>\n",
       "    <tr>\n",
       "      <th>20</th>\n",
       "      <td>7zzUVdPXpDr0o7Y2SzgWO8</td>\n",
       "      <td>25.0</td>\n",
       "      <td>0.007410</td>\n",
       "      <td>0.720</td>\n",
       "      <td>282000.0</td>\n",
       "      <td>0.494</td>\n",
       "      <td>0.836000</td>\n",
       "      <td>1.0</td>\n",
       "      <td>0.0786</td>\n",
       "      <td>-9.957</td>\n",
       "      <td>1.0</td>\n",
       "      <td>0.1590</td>\n",
       "      <td>176.955</td>\n",
       "      <td>4.0</td>\n",
       "      <td>0.9020</td>\n",
       "      <td>404914</td>\n",
       "    </tr>\n",
       "    <tr>\n",
       "      <th>35</th>\n",
       "      <td>7zzD8MpgOd9qd3i3fspKlf</td>\n",
       "      <td>8.0</td>\n",
       "      <td>0.037800</td>\n",
       "      <td>0.497</td>\n",
       "      <td>298878.0</td>\n",
       "      <td>0.580</td>\n",
       "      <td>0.000000</td>\n",
       "      <td>9.0</td>\n",
       "      <td>0.0943</td>\n",
       "      <td>-8.671</td>\n",
       "      <td>1.0</td>\n",
       "      <td>0.0287</td>\n",
       "      <td>147.024</td>\n",
       "      <td>4.0</td>\n",
       "      <td>0.3520</td>\n",
       "      <td>81011</td>\n",
       "    </tr>\n",
       "    <tr>\n",
       "      <th>37</th>\n",
       "      <td>7zzAU4EIuTPTUjiMUpmLbN</td>\n",
       "      <td>26.0</td>\n",
       "      <td>0.022500</td>\n",
       "      <td>0.572</td>\n",
       "      <td>158640.0</td>\n",
       "      <td>0.994</td>\n",
       "      <td>0.915000</td>\n",
       "      <td>5.0</td>\n",
       "      <td>0.1090</td>\n",
       "      <td>-5.855</td>\n",
       "      <td>0.0</td>\n",
       "      <td>0.0418</td>\n",
       "      <td>119.535</td>\n",
       "      <td>4.0</td>\n",
       "      <td>0.1270</td>\n",
       "      <td>350401</td>\n",
       "    </tr>\n",
       "    <tr>\n",
       "      <th>49</th>\n",
       "      <td>7zylvC67zTFvKLxSecOInv</td>\n",
       "      <td>20.0</td>\n",
       "      <td>0.002640</td>\n",
       "      <td>0.192</td>\n",
       "      <td>231360.0</td>\n",
       "      <td>0.936</td>\n",
       "      <td>0.054000</td>\n",
       "      <td>6.0</td>\n",
       "      <td>0.3080</td>\n",
       "      <td>-4.484</td>\n",
       "      <td>0.0</td>\n",
       "      <td>0.0749</td>\n",
       "      <td>167.153</td>\n",
       "      <td>4.0</td>\n",
       "      <td>0.4590</td>\n",
       "      <td>474268</td>\n",
       "    </tr>\n",
       "    <tr>\n",
       "      <th>...</th>\n",
       "      <td>...</td>\n",
       "      <td>...</td>\n",
       "      <td>...</td>\n",
       "      <td>...</td>\n",
       "      <td>...</td>\n",
       "      <td>...</td>\n",
       "      <td>...</td>\n",
       "      <td>...</td>\n",
       "      <td>...</td>\n",
       "      <td>...</td>\n",
       "      <td>...</td>\n",
       "      <td>...</td>\n",
       "      <td>...</td>\n",
       "      <td>...</td>\n",
       "      <td>...</td>\n",
       "      <td>...</td>\n",
       "    </tr>\n",
       "    <tr>\n",
       "      <th>1544594</th>\n",
       "      <td>0012gcMTLOeEr2UfflyGgh</td>\n",
       "      <td>9.0</td>\n",
       "      <td>0.133000</td>\n",
       "      <td>0.613</td>\n",
       "      <td>210733.0</td>\n",
       "      <td>0.487</td>\n",
       "      <td>0.811000</td>\n",
       "      <td>0.0</td>\n",
       "      <td>0.0711</td>\n",
       "      <td>-9.202</td>\n",
       "      <td>0.0</td>\n",
       "      <td>0.0603</td>\n",
       "      <td>76.519</td>\n",
       "      <td>4.0</td>\n",
       "      <td>0.1080</td>\n",
       "      <td>287007</td>\n",
       "    </tr>\n",
       "    <tr>\n",
       "      <th>1544603</th>\n",
       "      <td>000rdOe90OF65lgFIwPGHm</td>\n",
       "      <td>0.0</td>\n",
       "      <td>0.324000</td>\n",
       "      <td>0.481</td>\n",
       "      <td>203333.0</td>\n",
       "      <td>0.552</td>\n",
       "      <td>0.000399</td>\n",
       "      <td>9.0</td>\n",
       "      <td>0.1170</td>\n",
       "      <td>-6.874</td>\n",
       "      <td>1.0</td>\n",
       "      <td>0.0338</td>\n",
       "      <td>145.629</td>\n",
       "      <td>4.0</td>\n",
       "      <td>0.2460</td>\n",
       "      <td>1278576</td>\n",
       "    </tr>\n",
       "    <tr>\n",
       "      <th>1544611</th>\n",
       "      <td>000cAxMxUfuDlvPYIVrrZ4</td>\n",
       "      <td>28.0</td>\n",
       "      <td>0.000147</td>\n",
       "      <td>0.474</td>\n",
       "      <td>181345.0</td>\n",
       "      <td>0.966</td>\n",
       "      <td>0.000000</td>\n",
       "      <td>8.0</td>\n",
       "      <td>0.3740</td>\n",
       "      <td>-2.957</td>\n",
       "      <td>1.0</td>\n",
       "      <td>0.0931</td>\n",
       "      <td>156.993</td>\n",
       "      <td>4.0</td>\n",
       "      <td>0.6020</td>\n",
       "      <td>75032</td>\n",
       "    </tr>\n",
       "    <tr>\n",
       "      <th>1544616</th>\n",
       "      <td>000V2mp9CgAS1Er4eTzG3C</td>\n",
       "      <td>5.0</td>\n",
       "      <td>0.845000</td>\n",
       "      <td>0.151</td>\n",
       "      <td>286960.0</td>\n",
       "      <td>0.238</td>\n",
       "      <td>0.829000</td>\n",
       "      <td>0.0</td>\n",
       "      <td>0.0922</td>\n",
       "      <td>-13.381</td>\n",
       "      <td>1.0</td>\n",
       "      <td>0.0389</td>\n",
       "      <td>105.631</td>\n",
       "      <td>3.0</td>\n",
       "      <td>0.0286</td>\n",
       "      <td>742785</td>\n",
       "    </tr>\n",
       "    <tr>\n",
       "      <th>1544638</th>\n",
       "      <td>000Bpkj55Qzriw94DCpV1T</td>\n",
       "      <td>36.0</td>\n",
       "      <td>0.105000</td>\n",
       "      <td>0.749</td>\n",
       "      <td>253960.0</td>\n",
       "      <td>0.872</td>\n",
       "      <td>0.000000</td>\n",
       "      <td>10.0</td>\n",
       "      <td>0.1020</td>\n",
       "      <td>-2.985</td>\n",
       "      <td>0.0</td>\n",
       "      <td>0.2540</td>\n",
       "      <td>90.039</td>\n",
       "      <td>4.0</td>\n",
       "      <td>0.8060</td>\n",
       "      <td>1381021</td>\n",
       "    </tr>\n",
       "  </tbody>\n",
       "</table>\n",
       "<p>100000 rows × 16 columns</p>\n",
       "</div>"
      ],
      "text/plain": [
       "                     itemID_str  spotify_popularity  acousticness  \\\n",
       "15       7zzbPkvxJ6iANIxcSz60rm                20.0      0.864000   \n",
       "20       7zzUVdPXpDr0o7Y2SzgWO8                25.0      0.007410   \n",
       "35       7zzD8MpgOd9qd3i3fspKlf                 8.0      0.037800   \n",
       "37       7zzAU4EIuTPTUjiMUpmLbN                26.0      0.022500   \n",
       "49       7zylvC67zTFvKLxSecOInv                20.0      0.002640   \n",
       "...                         ...                 ...           ...   \n",
       "1544594  0012gcMTLOeEr2UfflyGgh                 9.0      0.133000   \n",
       "1544603  000rdOe90OF65lgFIwPGHm                 0.0      0.324000   \n",
       "1544611  000cAxMxUfuDlvPYIVrrZ4                28.0      0.000147   \n",
       "1544616  000V2mp9CgAS1Er4eTzG3C                 5.0      0.845000   \n",
       "1544638  000Bpkj55Qzriw94DCpV1T                36.0      0.105000   \n",
       "\n",
       "         danceability  duration_ms  energy  instrumentalness   key  liveness  \\\n",
       "15              0.638     161560.0   0.156          0.000000   8.0    0.1830   \n",
       "20              0.720     282000.0   0.494          0.836000   1.0    0.0786   \n",
       "35              0.497     298878.0   0.580          0.000000   9.0    0.0943   \n",
       "37              0.572     158640.0   0.994          0.915000   5.0    0.1090   \n",
       "49              0.192     231360.0   0.936          0.054000   6.0    0.3080   \n",
       "...               ...          ...     ...               ...   ...       ...   \n",
       "1544594         0.613     210733.0   0.487          0.811000   0.0    0.0711   \n",
       "1544603         0.481     203333.0   0.552          0.000399   9.0    0.1170   \n",
       "1544611         0.474     181345.0   0.966          0.000000   8.0    0.3740   \n",
       "1544616         0.151     286960.0   0.238          0.829000   0.0    0.0922   \n",
       "1544638         0.749     253960.0   0.872          0.000000  10.0    0.1020   \n",
       "\n",
       "         loudness  mode  speechiness    tempo  time_signature  valence  \\\n",
       "15        -17.372   1.0       0.0741  103.905             4.0   0.4430   \n",
       "20         -9.957   1.0       0.1590  176.955             4.0   0.9020   \n",
       "35         -8.671   1.0       0.0287  147.024             4.0   0.3520   \n",
       "37         -5.855   0.0       0.0418  119.535             4.0   0.1270   \n",
       "49         -4.484   0.0       0.0749  167.153             4.0   0.4590   \n",
       "...           ...   ...          ...      ...             ...      ...   \n",
       "1544594    -9.202   0.0       0.0603   76.519             4.0   0.1080   \n",
       "1544603    -6.874   1.0       0.0338  145.629             4.0   0.2460   \n",
       "1544611    -2.957   1.0       0.0931  156.993             4.0   0.6020   \n",
       "1544616   -13.381   1.0       0.0389  105.631             3.0   0.0286   \n",
       "1544638    -2.985   0.0       0.2540   90.039             4.0   0.8060   \n",
       "\n",
       "          itemID  \n",
       "15       1179763  \n",
       "20        404914  \n",
       "35         81011  \n",
       "37        350401  \n",
       "49        474268  \n",
       "...          ...  \n",
       "1544594   287007  \n",
       "1544603  1278576  \n",
       "1544611    75032  \n",
       "1544616   742785  \n",
       "1544638  1381021  \n",
       "\n",
       "[100000 rows x 16 columns]"
      ]
     },
     "execution_count": 11,
     "metadata": {},
     "output_type": "execute_result"
    }
   ],
   "source": [
    "df_item_info"
   ]
  },
  {
   "cell_type": "code",
   "execution_count": 12,
   "metadata": {
    "collapsed": false,
    "pycharm": {
     "name": "#%%\n"
    }
   },
   "outputs": [],
   "source": [
    "# create new user file for our usage\n",
    "df_user_info = df_users.copy()\n",
    "interaction_matrix = interaction_matrix_sampled\n",
    "\n",
    "# change column names to camel-case & drop hyphens\n",
    "rn = {cn: cn[0].lower() + cn[1:].replace(\"-\", \"\") for cn in df_user_info.columns}\n",
    "df_user_info.rename(rn, inplace=True, axis=1)\n",
    "\n",
    "sampled_suffix = f\"_{n_sampled_items}\""
   ]
  },
  {
   "cell_type": "code",
   "execution_count": 13,
   "metadata": {
    "collapsed": false,
    "pycharm": {
     "name": "#%%\n"
    }
   },
   "outputs": [],
   "source": [
    "# store results\n",
    "attribute_descriptions = {}\n",
    "storage_dir = os.path.join(data_dir, f\"full\" + sampled_suffix)\n",
    "utils.store_results(storage_dir, interaction_matrix, df_user_info, attribute_descriptions)"
   ]
  },
  {
   "cell_type": "code",
   "execution_count": 15,
   "metadata": {
    "collapsed": false,
    "pycharm": {
     "name": "#%%\n"
    }
   },
   "outputs": [
    {
     "name": "stdout",
     "output_type": "stream",
     "text": [
      "Final shape of interactions matrix is (1284, 37929)\n",
      "==> 1284 users and 37929 items are remaining.\n",
      "\n",
      "Number of interactions is 1936313,\n",
      "which leads to a density of 0.0398.\n"
     ]
    }
   ],
   "source": [
    "# filter users & tracks with too less interaction\n",
    "min_interactions_user = 5\n",
    "min_interactions_item = 5\n",
    "\n",
    "im_all, umap_all, imap_all, uinfo_all, iinfo_all = utils.ensure_min_interactions(interaction_matrix, \n",
    "                                                      min_interactions_user, min_interactions_item,\n",
    "                                                      df_user_info, df_item_info)\n",
    "\n",
    "utils.print_stats(im_all)\n",
    "\n",
    "# account for previous adjustment of item indices\n",
    "#imap_all = imap_all.assign(old=imap_all[\"old\"].replace(item_rename_dict_reverse))\n",
    "imap_all[\"old_new\"] = item2token.loc[imap_all[\"old\"]].values\n",
    "imap_all.rename(columns={\"old\":\"old_prev\"},inplace=True)\n",
    "imap_all.rename(columns={\"old_new\":\"old\"},inplace=True)\n",
    "assert im_all.shape[0] == len(uinfo_all)\n",
    "\n",
    "# store results\n",
    "storage_dir = os.path.join(data_dir, f\"user_gte_{min_interactions_user}_item_gte_{min_interactions_item}\" + sampled_suffix)\n",
    "utils.store_results(storage_dir, im_all, uinfo_all, attribute_descriptions, iinfo_all, umap_all, imap_all)"
   ]
  },
  {
   "cell_type": "code",
   "execution_count": null,
   "metadata": {
    "collapsed": false,
    "pycharm": {
     "name": "#%%\n"
    }
   },
   "outputs": [],
   "source": [
    "# drop all data where no gender info is given\n",
    "mask_gender_given = df_user_info[\"gender\"].isin([\"f\", \"m\"])\n",
    "user_info_gen = df_user_info[mask_gender_given]\n",
    "im_gen = interaction_matrix[mask_gender_given, :]\n",
    "\n",
    "im_gen, umap_gen, imap_gen, uinfo_gen, iinfo_gen = utils.ensure_min_interactions(im_gen, \n",
    "                                                      min_interactions_user, min_interactions_item,\n",
    "                                                      user_info_gen, df_item_info)\n",
    "\n",
    "utils.print_stats(im_gen)\n",
    "\n",
    "# account for previous adjustment of item indices\n",
    "imap_gen = imap_gen.assign(old=imap_gen[\"old\"].replace(item_rename_dict_reverse))\n",
    "\n",
    "assert im_gen.shape[0] == len(uinfo_gen)\n",
    "\n",
    "# store results\n",
    "storage_dir = os.path.join(data_dir, f\"user_gte_{min_interactions_user}_item_gte_{min_interactions_item}_gender\" + sampled_suffix)\n",
    "utils.store_results(storage_dir, im_gen, uinfo_gen, attribute_descriptions, iinfo_gen, umap_gen, imap_gen)"
   ]
  },
  {
   "cell_type": "code",
   "execution_count": null,
   "metadata": {
    "collapsed": false,
    "pycharm": {
     "name": "#%%\n"
    }
   },
   "outputs": [],
   "source": [
    "# drop all data where no location info is given\n",
    "mask_country_given = df_user_info[\"country\"] != \"\"\n",
    "user_info_country = df_user_info[mask_country_given]\n",
    "im_country = interaction_matrix[mask_country_given, :]\n",
    "\n",
    "im_country, umap_country, imap_country, uinfo_country, iinfo_country = utils.ensure_min_interactions(im_country, \n",
    "                                                      min_interactions_user, min_interactions_item,\n",
    "                                                      user_info_country, df_item_info)\n",
    "\n",
    "utils.print_stats(im_country)\n",
    "\n",
    "# account for previous adjustment of item indices\n",
    "item_rename_dict_reverse = {v: k for k, v in item_rename_dict.items()}\n",
    "imap_country = imap_country.assign(old=imap_country[\"old\"].replace(item_rename_dict_reverse))\n",
    "\n",
    "assert im_country.shape[0] == len(uinfo_country)\n",
    "\n",
    "# store results\n",
    "storage_dir = os.path.join(data_dir, f\"user_gte_{min_interactions_user}_item_gte_{min_interactions_item}_loc\" + sampled_suffix)\n",
    "utils.store_results(storage_dir, im_country, uinfo_country, attribute_descriptions, iinfo_country, umap_country, imap_country)"
   ]
  },
  {
   "cell_type": "code",
   "execution_count": null,
   "metadata": {
    "collapsed": false,
    "pycharm": {
     "name": "#%%\n"
    }
   },
   "outputs": [],
   "source": [
    "# drop all data where no age info is given\n",
    "mask_age_given = df_user_info[\"age\"] != -1\n",
    "user_info_age = df_user_info[mask_age_given]\n",
    "im_age = interaction_matrix[mask_age_given, :]\n",
    "\n",
    "im_age, umap_age, imap_age, uinfo_age, iinfo_age = utils.ensure_min_interactions(im_age, \n",
    "                                                      min_interactions_user, min_interactions_item,\n",
    "                                                      user_info_age, df_item_info)\n",
    "\n",
    "utils.print_stats(im_age)\n",
    "\n",
    "# account for previous adjustment of item indices\n",
    "item_rename_dict_reverse = {v: k for k, v in item_rename_dict.items()}\n",
    "imap_age = imap_age.assign(old=imap_age[\"old\"].replace(item_rename_dict_reverse))\n",
    "\n",
    "assert im_age.shape[0] == len(uinfo_age)\n",
    "\n",
    "# store results\n",
    "storage_dir = os.path.join(data_dir, f\"user_gte_{min_interactions_user}_item_gte_{min_interactions_item}_age\" + sampled_suffix)\n",
    "utils.store_results(storage_dir, im_age, uinfo_age, attribute_descriptions, iinfo_age, umap_age, imap_age)"
   ]
  },
  {
   "cell_type": "code",
   "execution_count": null,
   "metadata": {
    "collapsed": false,
    "pycharm": {
     "name": "#%%\n"
    }
   },
   "outputs": [],
   "source": [
    "# drop all data where either age or loc is not given\n",
    "mask_given = mask_gender_given\n",
    "mask_given &= mask_country_given\n",
    "mask_given &= mask_age_given\n",
    "\n",
    "user_info = df_user_info[mask_given]\n",
    "im = interaction_matrix[mask_given, :]\n",
    "\n",
    "im, umap, imap, uinfo, iinfo = utils.ensure_min_interactions(im, \n",
    "                                                      min_interactions_user, min_interactions_item,\n",
    "                                                      user_info, df_item_info)\n",
    "\n",
    "utils.print_stats(im)\n",
    "\n",
    "# account for previous adjustment of item indices\n",
    "item_rename_dict_reverse = {v: k for k, v in item_rename_dict.items()}\n",
    "imap = imap.assign(old=imap[\"old\"].replace(item_rename_dict_reverse))\n",
    "\n",
    "assert im.shape[0] == len(uinfo)\n",
    "\n",
    "# store results\n",
    "storage_dir = os.path.join(data_dir, f\"user_gte_{min_interactions_user}_item_gte_{min_interactions_item}_gender_age_loc\" + sampled_suffix)\n",
    "utils.store_results(storage_dir, im, uinfo, attribute_descriptions, iinfo, umap, imap)"
   ]
  },
  {
   "cell_type": "code",
   "execution_count": 18,
   "id": "1dbf906c",
   "metadata": {
    "pycharm": {
     "name": "#%%\n"
    }
   },
   "outputs": [
    {
     "name": "stdout",
     "output_type": "stream",
     "text": [
      "Final shape of interactions matrix is (7603, 62617)\n",
      "==> 7603 users and 62617 items are remaining.\n",
      "\n",
      "Number of interactions is 1845963,\n",
      "which leads to a density of 0.0039.\n"
     ]
    }
   ],
   "source": [
    "# drop all data where either age or loc is not given\n",
    "mask_given = mask_gender_given\n",
    "mask_given &= mask_country_given\n",
    "mask_given &= mask_age_given\n",
    "\n",
    "user_info = df_user_info[mask_given]\n",
    "im = interaction_matrix[mask_given, :]\n",
    "\n",
    "im, umap, imap, uinfo, iinfo = utils.ensure_min_interactions(im, \n",
    "                                                      min_interactions_user, min_interactions_item,\n",
    "                                                      user_info, df_item_info)\n",
    "\n",
    "utils.print_stats(im)\n",
    "\n",
    "# account for previous adjustment of item indices\n",
    "item_rename_dict_reverse = {v: k for k, v in item_rename_dict.items()}\n",
    "imap = imap.assign(old=imap[\"old\"].replace(item_rename_dict_reverse))\n",
    "\n",
    "assert im.shape[0] == len(uinfo)\n",
    "\n",
    "# store results\n",
    "storage_dir = os.path.join(data_dir, f\"user_gte_{min_interactions_user}_item_gte_{min_interactions_item}_gender_age_loc\" + sampled_suffix)\n",
    "utils.store_results(storage_dir, im, uinfo, attribute_descriptions, iinfo, umap, imap)"
   ]
  },
  {
   "cell_type": "code",
   "execution_count": null,
   "id": "05b45120",
   "metadata": {},
   "outputs": [],
   "source": []
  }
 ],
 "metadata": {
  "kernelspec": {
   "display_name": "Python 3 (ipykernel)",
   "language": "python",
   "name": "python3"
  },
  "language_info": {
   "codemirror_mode": {
    "name": "ipython",
    "version": 3
   },
   "file_extension": ".py",
   "mimetype": "text/x-python",
   "name": "python",
   "nbconvert_exporter": "python",
   "pygments_lexer": "ipython3",
   "version": "3.8.13"
  }
 },
 "nbformat": 4,
 "nbformat_minor": 5
}
