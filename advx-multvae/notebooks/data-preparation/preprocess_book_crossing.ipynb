{
 "cells": [
  {
   "cell_type": "markdown",
   "id": "a5f93ab9",
   "metadata": {},
   "source": [
    "# Notebook to preprocess the Book-Crossing dataset\n",
    "http://www2.informatik.uni-freiburg.de/~cziegler/BX/\n",
    "\n",
    "Note that this notebook serves as a good basis for preprocessing datasets where **only partial demographic information** of users is available."
   ]
  },
  {
   "cell_type": "code",
   "execution_count": 1,
   "id": "0e0181f5",
   "metadata": {},
   "outputs": [],
   "source": [
    "import os\n",
    "import json\n",
    "import utils\n",
    "import numpy as np\n",
    "import pandas as pd\n",
    "from scipy import sparse as sp\n",
    "import matplotlib.pyplot as plt"
   ]
  },
  {
   "cell_type": "code",
   "execution_count": 2,
   "id": "edc4c6fa",
   "metadata": {},
   "outputs": [],
   "source": [
    "#data_dir = r\"D:\\data\\datasets\\book-crossing\"\n",
    "data_dir = r\"/media/data/Datasets/book-crossing\""
   ]
  },
  {
   "cell_type": "code",
   "execution_count": 3,
   "id": "be0dc3d0",
   "metadata": {},
   "outputs": [
    {
     "data": {
      "text/html": [
       "<div>\n",
       "<style scoped>\n",
       "    .dataframe tbody tr th:only-of-type {\n",
       "        vertical-align: middle;\n",
       "    }\n",
       "\n",
       "    .dataframe tbody tr th {\n",
       "        vertical-align: top;\n",
       "    }\n",
       "\n",
       "    .dataframe thead th {\n",
       "        text-align: right;\n",
       "    }\n",
       "</style>\n",
       "<table border=\"1\" class=\"dataframe\">\n",
       "  <thead>\n",
       "    <tr style=\"text-align: right;\">\n",
       "      <th></th>\n",
       "      <th>User-ID</th>\n",
       "      <th>ISBN</th>\n",
       "      <th>Book-Rating</th>\n",
       "    </tr>\n",
       "  </thead>\n",
       "  <tbody>\n",
       "    <tr>\n",
       "      <th>0</th>\n",
       "      <td>276725</td>\n",
       "      <td>034545104X</td>\n",
       "      <td>0</td>\n",
       "    </tr>\n",
       "    <tr>\n",
       "      <th>1</th>\n",
       "      <td>276726</td>\n",
       "      <td>0155061224</td>\n",
       "      <td>5</td>\n",
       "    </tr>\n",
       "    <tr>\n",
       "      <th>2</th>\n",
       "      <td>276727</td>\n",
       "      <td>0446520802</td>\n",
       "      <td>0</td>\n",
       "    </tr>\n",
       "    <tr>\n",
       "      <th>3</th>\n",
       "      <td>276729</td>\n",
       "      <td>052165615X</td>\n",
       "      <td>3</td>\n",
       "    </tr>\n",
       "    <tr>\n",
       "      <th>4</th>\n",
       "      <td>276729</td>\n",
       "      <td>0521795028</td>\n",
       "      <td>6</td>\n",
       "    </tr>\n",
       "  </tbody>\n",
       "</table>\n",
       "</div>"
      ],
      "text/plain": [
       "   User-ID        ISBN  Book-Rating\n",
       "0   276725  034545104X            0\n",
       "1   276726  0155061224            5\n",
       "2   276727  0446520802            0\n",
       "3   276729  052165615X            3\n",
       "4   276729  0521795028            6"
      ]
     },
     "execution_count": 3,
     "metadata": {},
     "output_type": "execute_result"
    }
   ],
   "source": [
    "df_ratings = pd.read_csv(os.path.join(data_dir, \"BX-Book-Ratings.csv\"), \n",
    "                        sep=\";\", engine=\"c\", encoding='latin-1')\n",
    "df_ratings.head()"
   ]
  },
  {
   "cell_type": "code",
   "execution_count": 4,
   "id": "c2a13762",
   "metadata": {},
   "outputs": [
    {
     "data": {
      "text/html": [
       "<div>\n",
       "<style scoped>\n",
       "    .dataframe tbody tr th:only-of-type {\n",
       "        vertical-align: middle;\n",
       "    }\n",
       "\n",
       "    .dataframe tbody tr th {\n",
       "        vertical-align: top;\n",
       "    }\n",
       "\n",
       "    .dataframe thead th {\n",
       "        text-align: right;\n",
       "    }\n",
       "</style>\n",
       "<table border=\"1\" class=\"dataframe\">\n",
       "  <thead>\n",
       "    <tr style=\"text-align: right;\">\n",
       "      <th></th>\n",
       "      <th>User-ID</th>\n",
       "      <th>ISBN</th>\n",
       "      <th>Book-Rating</th>\n",
       "      <th>Item-ID</th>\n",
       "    </tr>\n",
       "  </thead>\n",
       "  <tbody>\n",
       "    <tr>\n",
       "      <th>0</th>\n",
       "      <td>276725</td>\n",
       "      <td>034545104X</td>\n",
       "      <td>0</td>\n",
       "      <td>0</td>\n",
       "    </tr>\n",
       "    <tr>\n",
       "      <th>1</th>\n",
       "      <td>276726</td>\n",
       "      <td>0155061224</td>\n",
       "      <td>5</td>\n",
       "      <td>1</td>\n",
       "    </tr>\n",
       "    <tr>\n",
       "      <th>2</th>\n",
       "      <td>276727</td>\n",
       "      <td>0446520802</td>\n",
       "      <td>0</td>\n",
       "      <td>2</td>\n",
       "    </tr>\n",
       "    <tr>\n",
       "      <th>3</th>\n",
       "      <td>276729</td>\n",
       "      <td>052165615X</td>\n",
       "      <td>3</td>\n",
       "      <td>3</td>\n",
       "    </tr>\n",
       "    <tr>\n",
       "      <th>4</th>\n",
       "      <td>276729</td>\n",
       "      <td>0521795028</td>\n",
       "      <td>6</td>\n",
       "      <td>4</td>\n",
       "    </tr>\n",
       "  </tbody>\n",
       "</table>\n",
       "</div>"
      ],
      "text/plain": [
       "   User-ID        ISBN  Book-Rating  Item-ID\n",
       "0   276725  034545104X            0        0\n",
       "1   276726  0155061224            5        1\n",
       "2   276727  0446520802            0        2\n",
       "3   276729  052165615X            3        3\n",
       "4   276729  0521795028            6        4"
      ]
     },
     "execution_count": 4,
     "metadata": {},
     "output_type": "execute_result"
    }
   ],
   "source": [
    "# drop ISBN and replace it with a proper item ID\n",
    "isbns = df_ratings[\"ISBN\"].unique()\n",
    "replacement_dict = {isbn: i for i, isbn in enumerate(isbns)}\n",
    "item_ids = [replacement_dict[isbn]for isbn in df_ratings[\"ISBN\"]]\n",
    "df_ratings[\"Item-ID\"] = item_ids\n",
    "df_ratings.head()"
   ]
  },
  {
   "cell_type": "code",
   "execution_count": 5,
   "id": "fafe1966",
   "metadata": {},
   "outputs": [
    {
     "data": {
      "text/plain": [
       "0     716109\n",
       "8     103736\n",
       "10     78610\n",
       "7      76457\n",
       "9      67541\n",
       "5      50974\n",
       "6      36924\n",
       "4       8904\n",
       "3       5996\n",
       "2       2759\n",
       "1       1770\n",
       "Name: Book-Rating, dtype: int64"
      ]
     },
     "execution_count": 5,
     "metadata": {},
     "output_type": "execute_result"
    }
   ],
   "source": [
    "df_ratings[\"Book-Rating\"].value_counts()"
   ]
  },
  {
   "cell_type": "code",
   "execution_count": 6,
   "id": "591d2aa4",
   "metadata": {},
   "outputs": [
    {
     "data": {
      "text/html": [
       "<div>\n",
       "<style scoped>\n",
       "    .dataframe tbody tr th:only-of-type {\n",
       "        vertical-align: middle;\n",
       "    }\n",
       "\n",
       "    .dataframe tbody tr th {\n",
       "        vertical-align: top;\n",
       "    }\n",
       "\n",
       "    .dataframe thead th {\n",
       "        text-align: right;\n",
       "    }\n",
       "</style>\n",
       "<table border=\"1\" class=\"dataframe\">\n",
       "  <thead>\n",
       "    <tr style=\"text-align: right;\">\n",
       "      <th></th>\n",
       "      <th>User-ID</th>\n",
       "      <th>Location</th>\n",
       "      <th>Age</th>\n",
       "    </tr>\n",
       "  </thead>\n",
       "  <tbody>\n",
       "    <tr>\n",
       "      <th>0</th>\n",
       "      <td>1</td>\n",
       "      <td>nyc, new york, usa</td>\n",
       "      <td>NaN</td>\n",
       "    </tr>\n",
       "    <tr>\n",
       "      <th>1</th>\n",
       "      <td>2</td>\n",
       "      <td>stockton, california, usa</td>\n",
       "      <td>18.0</td>\n",
       "    </tr>\n",
       "    <tr>\n",
       "      <th>2</th>\n",
       "      <td>3</td>\n",
       "      <td>moscow, yukon territory, russia</td>\n",
       "      <td>NaN</td>\n",
       "    </tr>\n",
       "    <tr>\n",
       "      <th>3</th>\n",
       "      <td>4</td>\n",
       "      <td>porto, v.n.gaia, portugal</td>\n",
       "      <td>17.0</td>\n",
       "    </tr>\n",
       "    <tr>\n",
       "      <th>4</th>\n",
       "      <td>5</td>\n",
       "      <td>farnborough, hants, united kingdom</td>\n",
       "      <td>NaN</td>\n",
       "    </tr>\n",
       "  </tbody>\n",
       "</table>\n",
       "</div>"
      ],
      "text/plain": [
       "   User-ID                            Location   Age\n",
       "0        1                  nyc, new york, usa   NaN\n",
       "1        2           stockton, california, usa  18.0\n",
       "2        3     moscow, yukon territory, russia   NaN\n",
       "3        4           porto, v.n.gaia, portugal  17.0\n",
       "4        5  farnborough, hants, united kingdom   NaN"
      ]
     },
     "execution_count": 6,
     "metadata": {},
     "output_type": "execute_result"
    }
   ],
   "source": [
    "df_users = pd.read_csv(os.path.join(data_dir, \"BX-Users.csv\"), \n",
    "                       sep=\";\", engine=\"c\", encoding='latin-1')\n",
    "df_users.head()"
   ]
  },
  {
   "cell_type": "code",
   "execution_count": 7,
   "id": "42e2f513",
   "metadata": {},
   "outputs": [
    {
     "data": {
      "text/plain": [
       "usa               139711\n",
       "canada             21658\n",
       "united kingdom     18538\n",
       "germany            17043\n",
       "spain              13147\n",
       "                   ...  \n",
       "r.o.c.                 1\n",
       "neverland              1\n",
       "the gambia             1\n",
       "montevideo,            1\n",
       "uyo                    1\n",
       "Name: Location, Length: 1152, dtype: int64"
      ]
     },
     "metadata": {},
     "output_type": "display_data"
    },
    {
     "data": {
      "text/html": [
       "<div>\n",
       "<style scoped>\n",
       "    .dataframe tbody tr th:only-of-type {\n",
       "        vertical-align: middle;\n",
       "    }\n",
       "\n",
       "    .dataframe tbody tr th {\n",
       "        vertical-align: top;\n",
       "    }\n",
       "\n",
       "    .dataframe thead th {\n",
       "        text-align: right;\n",
       "    }\n",
       "</style>\n",
       "<table border=\"1\" class=\"dataframe\">\n",
       "  <thead>\n",
       "    <tr style=\"text-align: right;\">\n",
       "      <th></th>\n",
       "      <th>User-ID</th>\n",
       "      <th>Location</th>\n",
       "      <th>Age</th>\n",
       "    </tr>\n",
       "  </thead>\n",
       "  <tbody>\n",
       "    <tr>\n",
       "      <th>0</th>\n",
       "      <td>1</td>\n",
       "      <td>usa</td>\n",
       "      <td>NaN</td>\n",
       "    </tr>\n",
       "    <tr>\n",
       "      <th>1</th>\n",
       "      <td>2</td>\n",
       "      <td>usa</td>\n",
       "      <td>18.0</td>\n",
       "    </tr>\n",
       "    <tr>\n",
       "      <th>2</th>\n",
       "      <td>3</td>\n",
       "      <td>russia</td>\n",
       "      <td>NaN</td>\n",
       "    </tr>\n",
       "    <tr>\n",
       "      <th>3</th>\n",
       "      <td>4</td>\n",
       "      <td>portugal</td>\n",
       "      <td>17.0</td>\n",
       "    </tr>\n",
       "    <tr>\n",
       "      <th>4</th>\n",
       "      <td>5</td>\n",
       "      <td>united kingdom</td>\n",
       "      <td>NaN</td>\n",
       "    </tr>\n",
       "  </tbody>\n",
       "</table>\n",
       "</div>"
      ],
      "text/plain": [
       "   User-ID        Location   Age\n",
       "0        1             usa   NaN\n",
       "1        2             usa  18.0\n",
       "2        3          russia   NaN\n",
       "3        4        portugal  17.0\n",
       "4        5  united kingdom   NaN"
      ]
     },
     "metadata": {},
     "output_type": "display_data"
    }
   ],
   "source": [
    "# Due to the number of possible locations, we will limit ourselves to the country only\n",
    "df_users[\"Location\"] = df_users.apply(lambda x: x.Location.split(\", \")[-1] if x.Location else \"\", axis=1)\n",
    "display(df_users[\"Location\"].value_counts())\n",
    "display(df_users.head())"
   ]
  },
  {
   "cell_type": "code",
   "execution_count": 8,
   "id": "ac6c0e99",
   "metadata": {},
   "outputs": [
    {
     "name": "stdout",
     "output_type": "stream",
     "text": [
      "10689 of 278858 user locations reset to default\n"
     ]
    },
    {
     "data": {
      "text/html": [
       "<div>\n",
       "<style scoped>\n",
       "    .dataframe tbody tr th:only-of-type {\n",
       "        vertical-align: middle;\n",
       "    }\n",
       "\n",
       "    .dataframe tbody tr th {\n",
       "        vertical-align: top;\n",
       "    }\n",
       "\n",
       "    .dataframe thead th {\n",
       "        text-align: right;\n",
       "    }\n",
       "</style>\n",
       "<table border=\"1\" class=\"dataframe\">\n",
       "  <thead>\n",
       "    <tr style=\"text-align: right;\">\n",
       "      <th></th>\n",
       "      <th>User-ID</th>\n",
       "      <th>Location</th>\n",
       "      <th>Age</th>\n",
       "    </tr>\n",
       "  </thead>\n",
       "  <tbody>\n",
       "    <tr>\n",
       "      <th>0</th>\n",
       "      <td>1</td>\n",
       "      <td>usa</td>\n",
       "      <td>NaN</td>\n",
       "    </tr>\n",
       "    <tr>\n",
       "      <th>1</th>\n",
       "      <td>2</td>\n",
       "      <td>usa</td>\n",
       "      <td>18.0</td>\n",
       "    </tr>\n",
       "    <tr>\n",
       "      <th>2</th>\n",
       "      <td>3</td>\n",
       "      <td></td>\n",
       "      <td>NaN</td>\n",
       "    </tr>\n",
       "    <tr>\n",
       "      <th>3</th>\n",
       "      <td>4</td>\n",
       "      <td>portugal</td>\n",
       "      <td>17.0</td>\n",
       "    </tr>\n",
       "    <tr>\n",
       "      <th>4</th>\n",
       "      <td>5</td>\n",
       "      <td>united kingdom</td>\n",
       "      <td>NaN</td>\n",
       "    </tr>\n",
       "    <tr>\n",
       "      <th>...</th>\n",
       "      <td>...</td>\n",
       "      <td>...</td>\n",
       "      <td>...</td>\n",
       "    </tr>\n",
       "    <tr>\n",
       "      <th>278853</th>\n",
       "      <td>278854</td>\n",
       "      <td>usa</td>\n",
       "      <td>NaN</td>\n",
       "    </tr>\n",
       "    <tr>\n",
       "      <th>278854</th>\n",
       "      <td>278855</td>\n",
       "      <td>united kingdom</td>\n",
       "      <td>50.0</td>\n",
       "    </tr>\n",
       "    <tr>\n",
       "      <th>278855</th>\n",
       "      <td>278856</td>\n",
       "      <td>canada</td>\n",
       "      <td>NaN</td>\n",
       "    </tr>\n",
       "    <tr>\n",
       "      <th>278856</th>\n",
       "      <td>278857</td>\n",
       "      <td>usa</td>\n",
       "      <td>NaN</td>\n",
       "    </tr>\n",
       "    <tr>\n",
       "      <th>278857</th>\n",
       "      <td>278858</td>\n",
       "      <td>ireland</td>\n",
       "      <td>NaN</td>\n",
       "    </tr>\n",
       "  </tbody>\n",
       "</table>\n",
       "<p>278858 rows × 3 columns</p>\n",
       "</div>"
      ],
      "text/plain": [
       "        User-ID        Location   Age\n",
       "0             1             usa   NaN\n",
       "1             2             usa  18.0\n",
       "2             3                   NaN\n",
       "3             4        portugal  17.0\n",
       "4             5  united kingdom   NaN\n",
       "...         ...             ...   ...\n",
       "278853   278854             usa   NaN\n",
       "278854   278855  united kingdom  50.0\n",
       "278855   278856          canada   NaN\n",
       "278856   278857             usa   NaN\n",
       "278857   278858         ireland   NaN\n",
       "\n",
       "[278858 rows x 3 columns]"
      ]
     },
     "execution_count": 8,
     "metadata": {},
     "output_type": "execute_result"
    }
   ],
   "source": [
    "# Moreover, as the didn't seem to be any input validation in place when collecting the data,\n",
    "# we will set the users' attributes to default if they \n",
    "#    - don't make sense (also in case of additional punctations, etc..),\n",
    "#    - belong to a group with only a few users (for nominal data)\n",
    "\n",
    "min_n_users_per_group = 200\n",
    "bad_location_groups = [k for k, v in df_users[\"Location\"].value_counts().items() if v < min_n_users_per_group]\n",
    "bad_location_groups += [\"\", \",\"]\n",
    "\n",
    "bad_location_users = df_users[\"Location\"].isin(bad_location_groups)\n",
    "print(f\"{bad_location_users.sum()} of {len(bad_location_users)} user locations reset to default\")\n",
    "\n",
    "df_users.loc[bad_location_users, \"Location\"] = \"\"\n",
    "df_users"
   ]
  },
  {
   "cell_type": "code",
   "execution_count": 9,
   "id": "44456141",
   "metadata": {},
   "outputs": [
    {
     "name": "stdout",
     "output_type": "stream",
     "text": [
      "1435 of 278858 user ages reset to default\n"
     ]
    },
    {
     "data": {
      "text/html": [
       "<div>\n",
       "<style scoped>\n",
       "    .dataframe tbody tr th:only-of-type {\n",
       "        vertical-align: middle;\n",
       "    }\n",
       "\n",
       "    .dataframe tbody tr th {\n",
       "        vertical-align: top;\n",
       "    }\n",
       "\n",
       "    .dataframe thead th {\n",
       "        text-align: right;\n",
       "    }\n",
       "</style>\n",
       "<table border=\"1\" class=\"dataframe\">\n",
       "  <thead>\n",
       "    <tr style=\"text-align: right;\">\n",
       "      <th></th>\n",
       "      <th>User-ID</th>\n",
       "      <th>Location</th>\n",
       "      <th>Age</th>\n",
       "    </tr>\n",
       "  </thead>\n",
       "  <tbody>\n",
       "    <tr>\n",
       "      <th>0</th>\n",
       "      <td>1</td>\n",
       "      <td>usa</td>\n",
       "      <td>NaN</td>\n",
       "    </tr>\n",
       "    <tr>\n",
       "      <th>1</th>\n",
       "      <td>2</td>\n",
       "      <td>usa</td>\n",
       "      <td>18.0</td>\n",
       "    </tr>\n",
       "    <tr>\n",
       "      <th>2</th>\n",
       "      <td>3</td>\n",
       "      <td></td>\n",
       "      <td>NaN</td>\n",
       "    </tr>\n",
       "    <tr>\n",
       "      <th>3</th>\n",
       "      <td>4</td>\n",
       "      <td>portugal</td>\n",
       "      <td>17.0</td>\n",
       "    </tr>\n",
       "    <tr>\n",
       "      <th>4</th>\n",
       "      <td>5</td>\n",
       "      <td>united kingdom</td>\n",
       "      <td>NaN</td>\n",
       "    </tr>\n",
       "    <tr>\n",
       "      <th>...</th>\n",
       "      <td>...</td>\n",
       "      <td>...</td>\n",
       "      <td>...</td>\n",
       "    </tr>\n",
       "    <tr>\n",
       "      <th>278853</th>\n",
       "      <td>278854</td>\n",
       "      <td>usa</td>\n",
       "      <td>NaN</td>\n",
       "    </tr>\n",
       "    <tr>\n",
       "      <th>278854</th>\n",
       "      <td>278855</td>\n",
       "      <td>united kingdom</td>\n",
       "      <td>50.0</td>\n",
       "    </tr>\n",
       "    <tr>\n",
       "      <th>278855</th>\n",
       "      <td>278856</td>\n",
       "      <td>canada</td>\n",
       "      <td>NaN</td>\n",
       "    </tr>\n",
       "    <tr>\n",
       "      <th>278856</th>\n",
       "      <td>278857</td>\n",
       "      <td>usa</td>\n",
       "      <td>NaN</td>\n",
       "    </tr>\n",
       "    <tr>\n",
       "      <th>278857</th>\n",
       "      <td>278858</td>\n",
       "      <td>ireland</td>\n",
       "      <td>NaN</td>\n",
       "    </tr>\n",
       "  </tbody>\n",
       "</table>\n",
       "<p>278858 rows × 3 columns</p>\n",
       "</div>"
      ],
      "text/plain": [
       "        User-ID        Location   Age\n",
       "0             1             usa   NaN\n",
       "1             2             usa  18.0\n",
       "2             3                   NaN\n",
       "3             4        portugal  17.0\n",
       "4             5  united kingdom   NaN\n",
       "...         ...             ...   ...\n",
       "278853   278854             usa   NaN\n",
       "278854   278855  united kingdom  50.0\n",
       "278855   278856          canada   NaN\n",
       "278856   278857             usa   NaN\n",
       "278857   278858         ireland   NaN\n",
       "\n",
       "[278858 rows x 3 columns]"
      ]
     },
     "execution_count": 9,
     "metadata": {},
     "output_type": "execute_result"
    }
   ],
   "source": [
    "min_age = 10\n",
    "max_age = 100\n",
    "bad_age_users = (df_users[\"Age\"] < min_age) | (max_age < df_users[\"Age\"])\n",
    "\n",
    "print(f\"{bad_age_users.sum()} of {len(bad_age_users)} user ages reset to default\")\n",
    "df_users.loc[bad_age_users, \"Age\"] = np.NaN\n",
    "df_users"
   ]
  },
  {
   "cell_type": "code",
   "execution_count": 10,
   "id": "09594617",
   "metadata": {},
   "outputs": [
    {
     "data": {
      "text/plain": [
       "-1    112197\n",
       " 2     49343\n",
       " 1     33919\n",
       " 3     31014\n",
       " 4     22519\n",
       " 0     14944\n",
       " 5     14922\n",
       "Name: Age, dtype: int64"
      ]
     },
     "execution_count": 10,
     "metadata": {},
     "output_type": "execute_result"
    }
   ],
   "source": [
    "# We group users in age categories to make the data easier to handle\n",
    "age_categories = [18, 25, 35, 45, 55, 100]\n",
    "\n",
    "assigned_age_cat = np.zeros(shape=(len(df_users),) , dtype=int)\n",
    "for cat in age_categories:\n",
    "    assigned_age_cat += (df_users[\"Age\"] > cat).astype(int)\n",
    "\n",
    "assigned_age_cat[df_users[\"Age\"].isna()] = -1\n",
    "df_users[\"Age\"] = assigned_age_cat\n",
    "df_users[\"Age\"].value_counts()"
   ]
  },
  {
   "cell_type": "code",
   "execution_count": 11,
   "id": "7f240ff4",
   "metadata": {},
   "outputs": [],
   "source": [
    "# Extracted the README file\n",
    "attribute_descriptions = {\n",
    "    \"age\": {\n",
    "        -1: \"unknown\",\n",
    "        0:  \"Under 18\",\n",
    "        1:  \"18-24\",\n",
    "        2:  \"25-34\",\n",
    "        3:  \"35-44\",\n",
    "        4:  \"45-54\",\n",
    "        5:  \"55+\"\n",
    "    },\n",
    "    # just in case scripts require for each attribute to have a description\n",
    "    \"location\": {d:d for d in df_users[\"Location\"].unique()}\n",
    "}\n",
    "attribute_descriptions[\"location\"][\"\"] = \"undefined\""
   ]
  },
  {
   "cell_type": "code",
   "execution_count": 12,
   "id": "2f4bc156",
   "metadata": {},
   "outputs": [
    {
     "name": "stdout",
     "output_type": "stream",
     "text": [
      "Number of users: 278858\n",
      "Number of items: 340556\n",
      "\n",
      "Number of interactions: 1149780\n",
      "Density: 0.000012\n"
     ]
    }
   ],
   "source": [
    "n_users = len(df_users)\n",
    "n_items = len(df_ratings[\"ISBN\"].unique())\n",
    "n_ratings = len(df_ratings)\n",
    "\n",
    "density = n_ratings / (n_items * n_users)\n",
    "\n",
    "# Show some statistics about the dataset\n",
    "print(\"Number of users:\", n_users)\n",
    "print(\"Number of items:\", n_items)\n",
    "\n",
    "print(\"\\nNumber of interactions:\", n_ratings)\n",
    "print(f\"Density: {density:.6f}\")"
   ]
  },
  {
   "cell_type": "markdown",
   "id": "a561c00a",
   "metadata": {},
   "source": [
    "### Data preparation\n",
    "For our use-case our end-result should be binary interaction matrix, where ```1``` denotes that a user\n",
    "rated an item, and ```0``` that they did not."
   ]
  },
  {
   "cell_type": "code",
   "execution_count": 13,
   "id": "bd7fd54c",
   "metadata": {},
   "outputs": [
    {
     "data": {
      "text/plain": [
       "(278858, 340556)"
      ]
     },
     "metadata": {},
     "output_type": "display_data"
    },
    {
     "name": "stdout",
     "output_type": "stream",
     "text": [
      "Number of interactions (again): 1149780\n"
     ]
    }
   ],
   "source": [
    "# get user and movie ids from ratings df, -1 as the first user originally received the id 1\n",
    "user_ids = df_ratings[\"User-ID\"] - 1\n",
    "item_ids = df_ratings[\"Item-ID\"]\n",
    "values = np.ones(len(user_ids))\n",
    "\n",
    "# create (sparse) interaction matrix\n",
    "interaction_matrix = sp.csr_matrix((values, (user_ids, item_ids)), shape=(n_users, n_items))\n",
    "display(interaction_matrix.shape)\n",
    "\n",
    "# create new user file for our usage\n",
    "df_user_info = df_users[[\"User-ID\", \"Age\", \"Location\"]].copy()\n",
    "df_user_info[\"User-ID\"] -= 1 # move start index from 1 to 0\n",
    "df_user_info[\"Location\"] = df_user_info[\"Location\"].apply(lambda item: item.lower())\n",
    "\n",
    "# change column names to camel-case & drop hyphons\n",
    "rn = {cn: cn[0].lower() + cn[1:].replace(\"-\", \"\") for cn in df_user_info.columns}\n",
    "df_user_info.rename(rn, inplace=True, axis=1)\n",
    "\n",
    "# check whether all interactions were actually kept\n",
    "print(\"Number of interactions (again):\", len(user_ids))"
   ]
  },
  {
   "cell_type": "code",
   "execution_count": 14,
   "id": "2b7e1af2",
   "metadata": {},
   "outputs": [],
   "source": [
    "# store results\n",
    "storage_dir = os.path.join(data_dir, \"full\")\n",
    "utils.store_results(storage_dir, interaction_matrix, df_user_info, attribute_descriptions)"
   ]
  },
  {
   "cell_type": "code",
   "execution_count": 15,
   "id": "08032991",
   "metadata": {},
   "outputs": [
    {
     "name": "stdout",
     "output_type": "stream",
     "text": [
      "Final shape of interactions matrix is (15798, 38093)\n",
      "==> 15798 users and 38093 items are remaining.\n",
      "\n",
      "Number of interactions is 585579,\n",
      "which leads to a density of 0.0010.\n"
     ]
    }
   ],
   "source": [
    "# filter users & tracks with too less interaction\n",
    "min_interactions_user = 5\n",
    "min_interactions_item = 5\n",
    "\n",
    "im_all, user_info_all = utils.ensure_min_interactions(interaction_matrix, df_user_info, \n",
    "                                                      min_interactions_user, min_interactions_item)\n",
    "\n",
    "utils.print_stats(im_all)\n",
    "\n",
    "# store results\n",
    "storage_dir = os.path.join(data_dir, f\"user_gte_{min_interactions_user}_movie_gte_{min_interactions_item}\")\n",
    "utils.store_results(storage_dir, im_all, user_info_all, attribute_descriptions)"
   ]
  },
  {
   "cell_type": "code",
   "execution_count": 16,
   "id": "fdb309b1",
   "metadata": {},
   "outputs": [
    {
     "name": "stdout",
     "output_type": "stream",
     "text": [
      "Final shape of interactions matrix is (14894, 36327)\n",
      "==> 14894 users and 36327 items are remaining.\n",
      "\n",
      "Number of interactions is 553766,\n",
      "which leads to a density of 0.0010.\n"
     ]
    }
   ],
   "source": [
    "# drop all data where no location info is given\n",
    "mask_location_given = df_user_info[\"location\"] != \"\"\n",
    "user_info_loc = df_user_info[mask_location_given]\n",
    "im_loc = interaction_matrix[mask_location_given, :]\n",
    "\n",
    "im_loc, user_info_loc = utils.ensure_min_interactions(im_loc, user_info_loc, \n",
    "                                                      min_interactions_user, min_interactions_item)\n",
    "\n",
    "utils.print_stats(im_loc)\n",
    "\n",
    "# store results\n",
    "storage_dir = os.path.join(data_dir, f\"user_gte_{min_interactions_user}_movie_gte_{min_interactions_item}_loc\")\n",
    "utils.store_results(storage_dir, im_loc, user_info_loc, attribute_descriptions)"
   ]
  },
  {
   "cell_type": "code",
   "execution_count": 17,
   "id": "7d11a09b",
   "metadata": {},
   "outputs": [
    {
     "name": "stdout",
     "output_type": "stream",
     "text": [
      "Final shape of interactions matrix is (10215, 27977)\n",
      "==> 10215 users and 27977 items are remaining.\n",
      "\n",
      "Number of interactions is 396417,\n",
      "which leads to a density of 0.0014.\n"
     ]
    }
   ],
   "source": [
    "# drop all data where no age info is given\n",
    "mask_age_given = df_user_info[\"age\"] != -1\n",
    "user_info_age = df_user_info[mask_age_given]\n",
    "im_age = interaction_matrix[mask_age_given, :]\n",
    "\n",
    "im_age, user_info_age = utils.ensure_min_interactions(im_age, user_info_age, \n",
    "                                                      min_interactions_user, min_interactions_item)\n",
    "\n",
    "utils.print_stats(im_age)\n",
    "\n",
    "# store results\n",
    "storage_dir = os.path.join(data_dir, f\"user_gte_{min_interactions_user}_movie_gte_{min_interactions_item}_age\")\n",
    "utils.store_results(storage_dir, im_age, user_info_age, attribute_descriptions)"
   ]
  },
  {
   "cell_type": "code",
   "execution_count": 18,
   "id": "1dbf906c",
   "metadata": {},
   "outputs": [
    {
     "name": "stdout",
     "output_type": "stream",
     "text": [
      "Final shape of interactions matrix is (9828, 27415)\n",
      "==> 9828 users and 27415 items are remaining.\n",
      "\n",
      "Number of interactions is 386566,\n",
      "which leads to a density of 0.0014.\n"
     ]
    }
   ],
   "source": [
    "# drop all data where either age or loc is not given\n",
    "mask_given = df_user_info[\"age\"] != -1\n",
    "mask_given &= df_user_info[\"location\"] != \"\"\n",
    "\n",
    "user_info = df_user_info[mask_given]\n",
    "im = interaction_matrix[mask_given, :]\n",
    "\n",
    "im, user_info = utils.ensure_min_interactions(im, user_info, \n",
    "                                              min_interactions_user, min_interactions_item)\n",
    "\n",
    "utils.print_stats(im)\n",
    "\n",
    "# store results\n",
    "storage_dir = os.path.join(data_dir, f\"user_gte_{min_interactions_user}_movie_gte_{min_interactions_item}_age_loc\")\n",
    "utils.store_results(storage_dir, im, user_info, attribute_descriptions)"
   ]
  },
  {
   "cell_type": "code",
   "execution_count": null,
   "id": "f847e6be",
   "metadata": {},
   "outputs": [],
   "source": []
  }
 ],
 "metadata": {
  "kernelspec": {
   "display_name": "Python 3 (ipykernel)",
   "language": "python",
   "name": "python3"
  },
  "language_info": {
   "codemirror_mode": {
    "name": "ipython",
    "version": 3
   },
   "file_extension": ".py",
   "mimetype": "text/x-python",
   "name": "python",
   "nbconvert_exporter": "python",
   "pygments_lexer": "ipython3",
   "version": "3.9.7"
  }
 },
 "nbformat": 4,
 "nbformat_minor": 5
}
