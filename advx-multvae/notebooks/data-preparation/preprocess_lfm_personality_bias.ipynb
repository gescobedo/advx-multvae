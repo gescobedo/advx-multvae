{
 "cells": [
  {
   "cell_type": "markdown",
   "id": "a5f93ab9",
   "metadata": {
    "pycharm": {
     "name": "#%% md\n"
    }
   },
   "source": [
    "# Notebook to preprocess the LFM2019 dataset\n",
    "Please run the preceeding notebook, \"filter_lfm2019.ipynb\" before running this notebook."
   ]
  },
  {
   "cell_type": "code",
   "execution_count": 2,
   "id": "0e0181f5",
   "metadata": {
    "pycharm": {
     "name": "#%%\n"
    }
   },
   "outputs": [],
   "source": [
    "import os\n",
    "import csv\n",
    "import json\n",
    "import glob\n",
    "import utils\n",
    "import pickle \n",
    "import numpy as np\n",
    "import pandas as pd\n",
    "import pickle as pkl\n",
    "from tqdm import tqdm\n",
    "from scipy import sparse as sp\n",
    "import matplotlib.pyplot as plt\n",
    "from collections import defaultdict"
   ]
  },
  {
   "cell_type": "code",
   "execution_count": 3,
   "id": "33d2ad44",
   "metadata": {
    "collapsed": false,
    "pycharm": {
     "name": "#%%\n"
    }
   },
   "outputs": [],
   "source": [
    "data_dir = \"/media/gustavo/Storage/Datasets/PersonalityBias/pers-bias-paper/\"\n",
    "# data_dir = r\"F:\\Temp\\lfm2b data\""
   ]
  },
  {
   "cell_type": "code",
   "execution_count": 4,
   "id": "866c5977",
   "metadata": {},
   "outputs": [
    {
     "name": "stdout",
     "output_type": "stream",
     "text": [
      "total 6612\n",
      "-rwxrwxrwx 1 root root 4062706 Aug  6  2020 inter.csv\n",
      "-rwxrwxrwx 1 root root 1863655 Aug  6  2020 pers.csv\n",
      "-rwxrwxrwx 1 root root  841503 Aug  6  2020 track_ids.csv\n"
     ]
    }
   ],
   "source": [
    "!ls -l /media/gustavo/Storage/Datasets/PersonalityBias/pers-bias-paper"
   ]
  },
  {
   "cell_type": "markdown",
   "id": "a17da05e",
   "metadata": {
    "collapsed": false,
    "pycharm": {
     "name": "#%% md\n"
    }
   },
   "source": [
    "### User data"
   ]
  },
  {
   "cell_type": "code",
   "execution_count": 6,
   "id": "e9df1b94",
   "metadata": {
    "collapsed": false,
    "pycharm": {
     "name": "#%%\n"
    }
   },
   "outputs": [
    {
     "data": {
      "text/html": [
       "<div>\n",
       "<style scoped>\n",
       "    .dataframe tbody tr th:only-of-type {\n",
       "        vertical-align: middle;\n",
       "    }\n",
       "\n",
       "    .dataframe tbody tr th {\n",
       "        vertical-align: top;\n",
       "    }\n",
       "\n",
       "    .dataframe thead th {\n",
       "        text-align: right;\n",
       "    }\n",
       "</style>\n",
       "<table border=\"1\" class=\"dataframe\">\n",
       "  <thead>\n",
       "    <tr style=\"text-align: right;\">\n",
       "      <th></th>\n",
       "      <th>userID</th>\n",
       "      <th>agr</th>\n",
       "      <th>con</th>\n",
       "      <th>ext</th>\n",
       "      <th>neu</th>\n",
       "      <th>ope</th>\n",
       "    </tr>\n",
       "  </thead>\n",
       "  <tbody>\n",
       "    <tr>\n",
       "      <th>0</th>\n",
       "      <td>14601</td>\n",
       "      <td>0.029778</td>\n",
       "      <td>0.577021</td>\n",
       "      <td>0.079205</td>\n",
       "      <td>0.030381</td>\n",
       "      <td>0.409037</td>\n",
       "    </tr>\n",
       "    <tr>\n",
       "      <th>1</th>\n",
       "      <td>13400</td>\n",
       "      <td>0.064731</td>\n",
       "      <td>0.044838</td>\n",
       "      <td>0.183774</td>\n",
       "      <td>0.935121</td>\n",
       "      <td>0.408691</td>\n",
       "    </tr>\n",
       "    <tr>\n",
       "      <th>2</th>\n",
       "      <td>5057</td>\n",
       "      <td>0.726240</td>\n",
       "      <td>0.902584</td>\n",
       "      <td>0.958060</td>\n",
       "      <td>0.082035</td>\n",
       "      <td>0.908693</td>\n",
       "    </tr>\n",
       "    <tr>\n",
       "      <th>3</th>\n",
       "      <td>9112</td>\n",
       "      <td>0.104627</td>\n",
       "      <td>0.389257</td>\n",
       "      <td>0.200606</td>\n",
       "      <td>0.534548</td>\n",
       "      <td>0.896833</td>\n",
       "    </tr>\n",
       "    <tr>\n",
       "      <th>4</th>\n",
       "      <td>14388</td>\n",
       "      <td>0.567508</td>\n",
       "      <td>0.075580</td>\n",
       "      <td>0.132370</td>\n",
       "      <td>0.655471</td>\n",
       "      <td>0.318356</td>\n",
       "    </tr>\n",
       "    <tr>\n",
       "      <th>...</th>\n",
       "      <td>...</td>\n",
       "      <td>...</td>\n",
       "      <td>...</td>\n",
       "      <td>...</td>\n",
       "      <td>...</td>\n",
       "      <td>...</td>\n",
       "    </tr>\n",
       "    <tr>\n",
       "      <th>18305</th>\n",
       "      <td>13220</td>\n",
       "      <td>0.335081</td>\n",
       "      <td>0.193584</td>\n",
       "      <td>0.482927</td>\n",
       "      <td>0.376366</td>\n",
       "      <td>0.965331</td>\n",
       "    </tr>\n",
       "    <tr>\n",
       "      <th>18306</th>\n",
       "      <td>10756</td>\n",
       "      <td>0.370308</td>\n",
       "      <td>0.139981</td>\n",
       "      <td>0.158871</td>\n",
       "      <td>0.410347</td>\n",
       "      <td>0.811481</td>\n",
       "    </tr>\n",
       "    <tr>\n",
       "      <th>18307</th>\n",
       "      <td>14411</td>\n",
       "      <td>0.823859</td>\n",
       "      <td>0.573187</td>\n",
       "      <td>0.396910</td>\n",
       "      <td>0.630984</td>\n",
       "      <td>0.317753</td>\n",
       "    </tr>\n",
       "    <tr>\n",
       "      <th>18308</th>\n",
       "      <td>13069</td>\n",
       "      <td>0.309801</td>\n",
       "      <td>0.019558</td>\n",
       "      <td>0.173226</td>\n",
       "      <td>0.791738</td>\n",
       "      <td>0.659325</td>\n",
       "    </tr>\n",
       "    <tr>\n",
       "      <th>18309</th>\n",
       "      <td>16246</td>\n",
       "      <td>0.498703</td>\n",
       "      <td>0.477610</td>\n",
       "      <td>0.524750</td>\n",
       "      <td>0.387086</td>\n",
       "      <td>0.816637</td>\n",
       "    </tr>\n",
       "  </tbody>\n",
       "</table>\n",
       "<p>18310 rows × 6 columns</p>\n",
       "</div>"
      ],
      "text/plain": [
       "       userID       agr       con       ext       neu       ope\n",
       "0       14601  0.029778  0.577021  0.079205  0.030381  0.409037\n",
       "1       13400  0.064731  0.044838  0.183774  0.935121  0.408691\n",
       "2        5057  0.726240  0.902584  0.958060  0.082035  0.908693\n",
       "3        9112  0.104627  0.389257  0.200606  0.534548  0.896833\n",
       "4       14388  0.567508  0.075580  0.132370  0.655471  0.318356\n",
       "...       ...       ...       ...       ...       ...       ...\n",
       "18305   13220  0.335081  0.193584  0.482927  0.376366  0.965331\n",
       "18306   10756  0.370308  0.139981  0.158871  0.410347  0.811481\n",
       "18307   14411  0.823859  0.573187  0.396910  0.630984  0.317753\n",
       "18308   13069  0.309801  0.019558  0.173226  0.791738  0.659325\n",
       "18309   16246  0.498703  0.477610  0.524750  0.387086  0.816637\n",
       "\n",
       "[18310 rows x 6 columns]"
      ]
     },
     "execution_count": 6,
     "metadata": {},
     "output_type": "execute_result"
    }
   ],
   "source": [
    "# Load user data\n",
    "df_users = pd.read_csv(os.path.join(data_dir, \"pers.csv\"), index_col=None)\n",
    "df_users.rename(columns={'user_id':'userID'},inplace=True)\n",
    "df_users"
   ]
  },
  {
   "cell_type": "code",
   "execution_count": 9,
   "id": "180d8a0d",
   "metadata": {
    "collapsed": false,
    "pycharm": {
     "name": "#%%\n"
    }
   },
   "outputs": [
    {
     "data": {
      "text/html": [
       "<div>\n",
       "<style scoped>\n",
       "    .dataframe tbody tr th:only-of-type {\n",
       "        vertical-align: middle;\n",
       "    }\n",
       "\n",
       "    .dataframe tbody tr th {\n",
       "        vertical-align: top;\n",
       "    }\n",
       "\n",
       "    .dataframe thead th {\n",
       "        text-align: right;\n",
       "    }\n",
       "</style>\n",
       "<table border=\"1\" class=\"dataframe\">\n",
       "  <thead>\n",
       "    <tr style=\"text-align: right;\">\n",
       "      <th></th>\n",
       "      <th>itemID</th>\n",
       "      <th>track_artist</th>\n",
       "      <th>artist</th>\n",
       "      <th>track</th>\n",
       "    </tr>\n",
       "  </thead>\n",
       "  <tbody>\n",
       "    <tr>\n",
       "      <th>0</th>\n",
       "      <td>0</td>\n",
       "      <td>DNA.;Kendrick Lamar</td>\n",
       "      <td>Kendrick Lamar</td>\n",
       "      <td>DNA.</td>\n",
       "    </tr>\n",
       "    <tr>\n",
       "      <th>1</th>\n",
       "      <td>1</td>\n",
       "      <td>Coffee;BTS</td>\n",
       "      <td>BTS</td>\n",
       "      <td>Coffee</td>\n",
       "    </tr>\n",
       "    <tr>\n",
       "      <th>2</th>\n",
       "      <td>2</td>\n",
       "      <td>Love You to Death;Type O Negative</td>\n",
       "      <td>Type O Negative</td>\n",
       "      <td>Love You to Death</td>\n",
       "    </tr>\n",
       "    <tr>\n",
       "      <th>3</th>\n",
       "      <td>3</td>\n",
       "      <td>Mask Off;Future</td>\n",
       "      <td>Future</td>\n",
       "      <td>Mask Off</td>\n",
       "    </tr>\n",
       "    <tr>\n",
       "      <th>4</th>\n",
       "      <td>4</td>\n",
       "      <td>Redbone;Childish Gambino</td>\n",
       "      <td>Childish Gambino</td>\n",
       "      <td>Redbone</td>\n",
       "    </tr>\n",
       "    <tr>\n",
       "      <th>...</th>\n",
       "      <td>...</td>\n",
       "      <td>...</td>\n",
       "      <td>...</td>\n",
       "      <td>...</td>\n",
       "    </tr>\n",
       "    <tr>\n",
       "      <th>15748</th>\n",
       "      <td>15748</td>\n",
       "      <td>Evermore;Paris &amp; Simo</td>\n",
       "      <td>Paris &amp; Simo</td>\n",
       "      <td>Evermore</td>\n",
       "    </tr>\n",
       "    <tr>\n",
       "      <th>15749</th>\n",
       "      <td>15749</td>\n",
       "      <td>Pleaser;Wallows</td>\n",
       "      <td>Wallows</td>\n",
       "      <td>Pleaser</td>\n",
       "    </tr>\n",
       "    <tr>\n",
       "      <th>15750</th>\n",
       "      <td>15750</td>\n",
       "      <td>Seize the Block;Migos</td>\n",
       "      <td>Migos</td>\n",
       "      <td>Seize the Block</td>\n",
       "    </tr>\n",
       "    <tr>\n",
       "      <th>15751</th>\n",
       "      <td>15751</td>\n",
       "      <td>Glow Up;Mary J. Blige</td>\n",
       "      <td>Mary J. Blige</td>\n",
       "      <td>Glow Up</td>\n",
       "    </tr>\n",
       "    <tr>\n",
       "      <th>15752</th>\n",
       "      <td>15752</td>\n",
       "      <td>Lettin' the Night Roll;Justin Moore</td>\n",
       "      <td>Justin Moore</td>\n",
       "      <td>Lettin' the Night Roll</td>\n",
       "    </tr>\n",
       "  </tbody>\n",
       "</table>\n",
       "<p>15753 rows × 4 columns</p>\n",
       "</div>"
      ],
      "text/plain": [
       "       itemID                         track_artist            artist  \\\n",
       "0           0                  DNA.;Kendrick Lamar    Kendrick Lamar   \n",
       "1           1                           Coffee;BTS               BTS   \n",
       "2           2    Love You to Death;Type O Negative   Type O Negative   \n",
       "3           3                      Mask Off;Future            Future   \n",
       "4           4             Redbone;Childish Gambino  Childish Gambino   \n",
       "...       ...                                  ...               ...   \n",
       "15748   15748                Evermore;Paris & Simo      Paris & Simo   \n",
       "15749   15749                      Pleaser;Wallows           Wallows   \n",
       "15750   15750                Seize the Block;Migos             Migos   \n",
       "15751   15751                Glow Up;Mary J. Blige     Mary J. Blige   \n",
       "15752   15752  Lettin' the Night Roll;Justin Moore      Justin Moore   \n",
       "\n",
       "                        track  \n",
       "0                        DNA.  \n",
       "1                      Coffee  \n",
       "2           Love You to Death  \n",
       "3                    Mask Off  \n",
       "4                     Redbone  \n",
       "...                       ...  \n",
       "15748                Evermore  \n",
       "15749                 Pleaser  \n",
       "15750         Seize the Block  \n",
       "15751                 Glow Up  \n",
       "15752  Lettin' the Night Roll  \n",
       "\n",
       "[15753 rows x 4 columns]"
      ]
     },
     "execution_count": 9,
     "metadata": {},
     "output_type": "execute_result"
    }
   ],
   "source": [
    "df_items = pd.read_csv(os.path.join(data_dir, \"track_ids.csv\"))\n",
    "df_items.columns = [\"itemID\"] +list(df_items.columns[1:])\n",
    "df_items"
   ]
  },
  {
   "cell_type": "markdown",
   "id": "76970924",
   "metadata": {
    "collapsed": false,
    "pycharm": {
     "name": "#%% md\n"
    }
   },
   "source": [
    "### Interaction matrix"
   ]
  },
  {
   "cell_type": "markdown",
   "id": "c6d1aac2",
   "metadata": {
    "collapsed": false,
    "pycharm": {
     "name": "#%% md\n"
    }
   },
   "source": [
    "As there are by any means too much items, we will randomly select some items and put them in a sparse matrix."
   ]
  },
  {
   "cell_type": "code",
   "execution_count": 14,
   "id": "4c3c7a1a",
   "metadata": {},
   "outputs": [
    {
     "ename": "TypeError",
     "evalue": "read_csv() got an unexpected keyword argument 'columns'",
     "output_type": "error",
     "traceback": [
      "\u001b[0;31m---------------------------------------------------------------------------\u001b[0m",
      "\u001b[0;31mTypeError\u001b[0m                                 Traceback (most recent call last)",
      "\u001b[1;32m/home/gustavo/gitlab/multivae-bias-research/notebooks/data-preparation/preprocess_lfm_personality_bias.ipynb Cell 10\u001b[0m in \u001b[0;36m<cell line: 4>\u001b[0;34m()\u001b[0m\n\u001b[1;32m      <a href='vscode-notebook-cell:/home/gustavo/gitlab/multivae-bias-research/notebooks/data-preparation/preprocess_lfm_personality_bias.ipynb#X12sZmlsZQ%3D%3D?line=1'>2</a>\u001b[0m \u001b[39mfrom\u001b[39;00m \u001b[39mpathlib\u001b[39;00m \u001b[39mimport\u001b[39;00m Path\n\u001b[1;32m      <a href='vscode-notebook-cell:/home/gustavo/gitlab/multivae-bias-research/notebooks/data-preparation/preprocess_lfm_personality_bias.ipynb#X12sZmlsZQ%3D%3D?line=2'>3</a>\u001b[0m path_data_dir \u001b[39m=\u001b[39m Path(data_dir)\n\u001b[0;32m----> <a href='vscode-notebook-cell:/home/gustavo/gitlab/multivae-bias-research/notebooks/data-preparation/preprocess_lfm_personality_bias.ipynb#X12sZmlsZQ%3D%3D?line=3'>4</a>\u001b[0m interactions\u001b[39m=\u001b[39m  pd\u001b[39m.\u001b[39;49mread_csv(path_data_dir\u001b[39m/\u001b[39;49m\u001b[39m\"\u001b[39;49m\u001b[39minter.csv\u001b[39;49m\u001b[39m\"\u001b[39;49m,columns\u001b[39m=\u001b[39;49m[\u001b[39m\"\u001b[39;49m\u001b[39muserID\u001b[39;49m\u001b[39m\"\u001b[39;49m,\u001b[39m\"\u001b[39;49m\u001b[39mitemID\u001b[39;49m\u001b[39m\"\u001b[39;49m] )\n",
      "File \u001b[0;32m~/anaconda3/envs/recbole/lib/python3.8/site-packages/pandas/util/_decorators.py:311\u001b[0m, in \u001b[0;36mdeprecate_nonkeyword_arguments.<locals>.decorate.<locals>.wrapper\u001b[0;34m(*args, **kwargs)\u001b[0m\n\u001b[1;32m    305\u001b[0m \u001b[39mif\u001b[39;00m \u001b[39mlen\u001b[39m(args) \u001b[39m>\u001b[39m num_allow_args:\n\u001b[1;32m    306\u001b[0m     warnings\u001b[39m.\u001b[39mwarn(\n\u001b[1;32m    307\u001b[0m         msg\u001b[39m.\u001b[39mformat(arguments\u001b[39m=\u001b[39marguments),\n\u001b[1;32m    308\u001b[0m         \u001b[39mFutureWarning\u001b[39;00m,\n\u001b[1;32m    309\u001b[0m         stacklevel\u001b[39m=\u001b[39mstacklevel,\n\u001b[1;32m    310\u001b[0m     )\n\u001b[0;32m--> 311\u001b[0m \u001b[39mreturn\u001b[39;00m func(\u001b[39m*\u001b[39;49margs, \u001b[39m*\u001b[39;49m\u001b[39m*\u001b[39;49mkwargs)\n",
      "\u001b[0;31mTypeError\u001b[0m: read_csv() got an unexpected keyword argument 'columns'"
     ]
    }
   ],
   "source": [
    "import pickle \n",
    "from pathlib import Path\n",
    "path_data_dir = Path(data_dir)\n",
    "interactions=  pd.read_csv(path_data_dir/\"inter.csv\", names=[\"userID\",\"itemID\"] )\n",
    "#user_features = pickle.load(open(path_data_dir/ \"\",\"rb\") )\n"
   ]
  },
  {
   "cell_type": "code",
   "execution_count": 15,
   "id": "d132b0b9",
   "metadata": {},
   "outputs": [
    {
     "data": {
      "text/html": [
       "<div>\n",
       "<style scoped>\n",
       "    .dataframe tbody tr th:only-of-type {\n",
       "        vertical-align: middle;\n",
       "    }\n",
       "\n",
       "    .dataframe tbody tr th {\n",
       "        vertical-align: top;\n",
       "    }\n",
       "\n",
       "    .dataframe thead th {\n",
       "        text-align: right;\n",
       "    }\n",
       "</style>\n",
       "<table border=\"1\" class=\"dataframe\">\n",
       "  <thead>\n",
       "    <tr style=\"text-align: right;\">\n",
       "      <th></th>\n",
       "      <th>user_id</th>\n",
       "      <th>track_id</th>\n",
       "    </tr>\n",
       "  </thead>\n",
       "  <tbody>\n",
       "    <tr>\n",
       "      <th>0</th>\n",
       "      <td>0</td>\n",
       "      <td>0</td>\n",
       "    </tr>\n",
       "    <tr>\n",
       "      <th>1</th>\n",
       "      <td>22</td>\n",
       "      <td>0</td>\n",
       "    </tr>\n",
       "    <tr>\n",
       "      <th>2</th>\n",
       "      <td>47</td>\n",
       "      <td>0</td>\n",
       "    </tr>\n",
       "    <tr>\n",
       "      <th>3</th>\n",
       "      <td>64</td>\n",
       "      <td>0</td>\n",
       "    </tr>\n",
       "    <tr>\n",
       "      <th>4</th>\n",
       "      <td>64</td>\n",
       "      <td>0</td>\n",
       "    </tr>\n",
       "    <tr>\n",
       "      <th>...</th>\n",
       "      <td>...</td>\n",
       "      <td>...</td>\n",
       "    </tr>\n",
       "    <tr>\n",
       "      <th>395051</th>\n",
       "      <td>16184</td>\n",
       "      <td>15480</td>\n",
       "    </tr>\n",
       "    <tr>\n",
       "      <th>395052</th>\n",
       "      <td>16414</td>\n",
       "      <td>15480</td>\n",
       "    </tr>\n",
       "    <tr>\n",
       "      <th>395053</th>\n",
       "      <td>16528</td>\n",
       "      <td>15480</td>\n",
       "    </tr>\n",
       "    <tr>\n",
       "      <th>395054</th>\n",
       "      <td>16529</td>\n",
       "      <td>15480</td>\n",
       "    </tr>\n",
       "    <tr>\n",
       "      <th>395055</th>\n",
       "      <td>16530</td>\n",
       "      <td>15480</td>\n",
       "    </tr>\n",
       "  </tbody>\n",
       "</table>\n",
       "<p>395056 rows × 2 columns</p>\n",
       "</div>"
      ],
      "text/plain": [
       "        user_id  track_id\n",
       "0             0         0\n",
       "1            22         0\n",
       "2            47         0\n",
       "3            64         0\n",
       "4            64         0\n",
       "...         ...       ...\n",
       "395051    16184     15480\n",
       "395052    16414     15480\n",
       "395053    16528     15480\n",
       "395054    16529     15480\n",
       "395055    16530     15480\n",
       "\n",
       "[395056 rows x 2 columns]"
      ]
     },
     "execution_count": 15,
     "metadata": {},
     "output_type": "execute_result"
    }
   ],
   "source": [
    "interactions"
   ]
  },
  {
   "cell_type": "code",
   "execution_count": 13,
   "id": "3a0fdf37",
   "metadata": {},
   "outputs": [
    {
     "name": "stdout",
     "output_type": "stream",
     "text": [
      "n_items: 15753\n"
     ]
    }
   ],
   "source": [
    "\n",
    "unique_items = interactions[\"track_id\"].unique()\n",
    "print(f\"n_items: {len(unique_items)}\")\n",
    "item2token = pd.Series(unique_items)\n",
    "token2item = pd.Series(data=item2token.index, index=item2token.values)\n"
   ]
  },
  {
   "cell_type": "code",
   "execution_count": 4,
   "id": "d4f64582",
   "metadata": {},
   "outputs": [
    {
     "name": "stdout",
     "output_type": "stream",
     "text": [
      "n_items: 1544646\n"
     ]
    }
   ],
   "source": [
    "\n",
    "\n",
    "iids_dict = {k:token2item.loc[value].values  for k,value in interaction_dict.items()}\n",
    "uids_iids_array = pd.Series(iids_dict).explode().reset_index().to_numpy().astype(np.int32)\n",
    "n_users,n_items = len(interactions()),len(unique_items) \n",
    "data = np.ones(uids_iids_array.shape[0],dtype=np.int8)\n",
    "uids,iids = uids_iids_array[:,0],uids_iids_array[:,1]\n",
    "interaction_matrix = sp.csr_matrix((data, (uids, iids)), \n",
    "                                       (n_users, n_items))"
   ]
  },
  {
   "cell_type": "code",
   "execution_count": 12,
   "id": "31a478ec",
   "metadata": {},
   "outputs": [],
   "source": [
    "sp.save_npz(os.path.join(data_dir, \"interaction_matrix_personality.npz\"),interaction_matrix)"
   ]
  },
  {
   "cell_type": "code",
   "execution_count": 8,
   "id": "af9a28dc",
   "metadata": {
    "collapsed": false,
    "pycharm": {
     "name": "#%%\n"
    }
   },
   "outputs": [
    {
     "data": {
      "text/plain": [
       "<1470x100000 sparse matrix of type '<class 'numpy.int8'>'\n",
       "\twith 410280 stored elements in Compressed Sparse Row format>"
      ]
     },
     "execution_count": 8,
     "metadata": {},
     "output_type": "execute_result"
    }
   ],
   "source": [
    "n_sampled_items = 100_000\n",
    "np.random.seed(42)\n",
    "\n",
    "interaction_matrix = sp.load_npz(os.path.join(data_dir, \"interaction_matrix_personality.npz\"))\n",
    "n_users, n_items = interaction_matrix.shape\n",
    "\n",
    "sampled_items = sorted(np.random.choice(np.arange(n_items), n_sampled_items, replace=False))\n",
    "\n",
    "interaction_matrix_sampled = interaction_matrix[:, sampled_items]\n",
    "interaction_matrix_sampled"
   ]
  },
  {
   "cell_type": "markdown",
   "id": "dc3ba7b9",
   "metadata": {
    "collapsed": false,
    "pycharm": {
     "name": "#%% md\n"
    }
   },
   "source": [
    "### User information"
   ]
  },
  {
   "cell_type": "code",
   "execution_count": null,
   "id": "1dfd35fe",
   "metadata": {
    "collapsed": false,
    "pycharm": {
     "name": "#%%\n"
    }
   },
   "outputs": [],
   "source": [
    "# Moreover, as the didn't seem to be any input validation in place when collecting the data,\n",
    "# we will set the users' attributes to default if they \n",
    "#    - don't make sense (also in case of additional punctations, etc..),\n",
    "#    - belong to a group with only a few users (for nominal data)\n",
    "\n",
    "min_n_users_per_group = 200\n",
    "bad_location_groups = [k for k, v in df_users[\"Country\"].value_counts().items() if v < min_n_users_per_group]\n",
    "bad_location_groups += [\"\", \",\", np.nan]\n",
    "\n",
    "bad_location_users = df_users[\"Country\"].isin(bad_location_groups)\n",
    "print(f\"{bad_location_users.sum()} of {len(bad_location_users)} user countries reset to default\")\n",
    "\n",
    "df_users.loc[bad_location_users, \"Country\"] = \"\"\n",
    "df_users"
   ]
  },
  {
   "cell_type": "code",
   "execution_count": null,
   "id": "3f5cad34",
   "metadata": {
    "collapsed": false,
    "pycharm": {
     "name": "#%%\n"
    }
   },
   "outputs": [],
   "source": [
    "min_age = 10\n",
    "max_age = 100\n",
    "bad_age_users = (df_users[\"Age\"] < min_age) | (max_age < df_users[\"Age\"])\n",
    "\n",
    "print(f\"{bad_age_users.sum()} of {len(bad_age_users)} user ages reset to default\")\n",
    "df_users.loc[bad_age_users, \"Age\"] = np.NaN\n",
    "df_users"
   ]
  },
  {
   "cell_type": "code",
   "execution_count": null,
   "id": "ad209027",
   "metadata": {
    "collapsed": false,
    "pycharm": {
     "name": "#%%\n"
    }
   },
   "outputs": [],
   "source": [
    "# We group users in age categories to make the data easier to handle\n",
    "age_categories = [18, 25, 35, 45, 55]\n",
    "\n",
    "assigned_age_cat = np.zeros(shape=(len(df_users),) , dtype=int)\n",
    "for cat in age_categories:\n",
    "    assigned_age_cat += (df_users[\"Age\"] > cat).astype(int)\n",
    "\n",
    "assigned_age_cat[df_users[\"Age\"].isna()] = -1\n",
    "df_users[\"Age\"] = assigned_age_cat\n",
    "df_users[\"Age\"].value_counts()"
   ]
  },
  {
   "cell_type": "code",
   "execution_count": null,
   "id": "dfe943d4",
   "metadata": {
    "collapsed": false,
    "pycharm": {
     "name": "#%%\n"
    }
   },
   "outputs": [],
   "source": [
    "# Extracted the README file\n",
    "attribute_descriptions = {\n",
    "    \"gender\": {\n",
    "        \"m\": \"male\",\n",
    "        \"f\": \"female\"\n",
    "    },\n",
    "    \"age\": {\n",
    "        -1: \"unknown\",\n",
    "        0:  \"Under 18\",\n",
    "        1:  \"18-24\",\n",
    "        2:  \"25-34\",\n",
    "        3:  \"35-44\",\n",
    "        4:  \"45-54\",\n",
    "        5:  \"55+\"\n",
    "    },\n",
    "    # just in case scripts require for each attribute to have a description\n",
    "    \"country\": {d:d for d in df_users[\"Country\"].unique()}\n",
    "}\n",
    "attribute_descriptions[\"country\"][\"\"] = \"undefined\""
   ]
  },
  {
   "cell_type": "code",
   "execution_count": 9,
   "id": "a032a4b1",
   "metadata": {
    "collapsed": false,
    "pycharm": {
     "name": "#%%\n"
    }
   },
   "outputs": [
    {
     "name": "stdout",
     "output_type": "stream",
     "text": [
      "Number of users: 1470\n",
      "Number of items: 100000\n",
      "\n",
      "Number of interactions: 2023227\n",
      "Density: 0.000891\n"
     ]
    }
   ],
   "source": [
    "n_interactions = interaction_matrix_sampled.sum()\n",
    "density = n_interactions / (n_items * n_users)\n",
    "\n",
    "# Show some statistics about the dataset\n",
    "print(\"Number of users:\", interaction_matrix_sampled.shape[0])\n",
    "print(\"Number of items:\", interaction_matrix_sampled.shape[1])\n",
    "\n",
    "print(\"\\nNumber of interactions:\", n_interactions)\n",
    "print(f\"Density: {density:.6f}\")"
   ]
  },
  {
   "cell_type": "markdown",
   "id": "4c10be53",
   "metadata": {
    "collapsed": false,
    "pycharm": {
     "name": "#%% md\n"
    }
   },
   "source": [
    "### Data preparation\n",
    "For our use-case our end-result should be binary interaction matrix, where ```1``` denotes that a user\n",
    "interacted with an item, and ```0``` that they did not."
   ]
  },
  {
   "cell_type": "code",
   "execution_count": 10,
   "id": "6caee673",
   "metadata": {
    "collapsed": false,
    "pycharm": {
     "name": "#%%\n"
    }
   },
   "outputs": [],
   "source": [
    "# some items might be missing, let's therefore adjust / re-enumerate the indices\n",
    "item_ids = df_items[\"itemID\"].unique()\n",
    "item_rename_dict = token2item.to_dict()\n",
    "item_rename_dict_reverse = item2token.to_dict()\n",
    "\n",
    "df_items = df_items[df_items[\"itemID\"].isin(item_ids)]\n",
    "\n",
    "#df_items[\"itemID\"]= token2item.loc[df_items[\"itemID\"].values ]\n",
    "#print(token2item.loc[df_items[\"itemID\"].values]              )\n",
    "\n",
    "df_items[\"itemID_int\"] = token2item.loc[df_items[\"itemID\"]].values\n",
    "df_items.rename(columns={\"itemID\":\"itemID_str\"},inplace=True)\n",
    "df_items.rename(columns={\"itemID_int\":\"itemID\"},inplace=True)\n",
    "item_ids = list(range(len(sampled_items)))\n",
    "df_item_info = df_items[df_items[\"itemID\"].isin(sampled_items)]"
   ]
  },
  {
   "cell_type": "code",
   "execution_count": 11,
   "id": "620e40ad",
   "metadata": {},
   "outputs": [
    {
     "data": {
      "text/html": [
       "<div>\n",
       "<style scoped>\n",
       "    .dataframe tbody tr th:only-of-type {\n",
       "        vertical-align: middle;\n",
       "    }\n",
       "\n",
       "    .dataframe tbody tr th {\n",
       "        vertical-align: top;\n",
       "    }\n",
       "\n",
       "    .dataframe thead th {\n",
       "        text-align: right;\n",
       "    }\n",
       "</style>\n",
       "<table border=\"1\" class=\"dataframe\">\n",
       "  <thead>\n",
       "    <tr style=\"text-align: right;\">\n",
       "      <th></th>\n",
       "      <th>itemID_str</th>\n",
       "      <th>spotify_popularity</th>\n",
       "      <th>acousticness</th>\n",
       "      <th>danceability</th>\n",
       "      <th>duration_ms</th>\n",
       "      <th>energy</th>\n",
       "      <th>instrumentalness</th>\n",
       "      <th>key</th>\n",
       "      <th>liveness</th>\n",
       "      <th>loudness</th>\n",
       "      <th>mode</th>\n",
       "      <th>speechiness</th>\n",
       "      <th>tempo</th>\n",
       "      <th>time_signature</th>\n",
       "      <th>valence</th>\n",
       "      <th>itemID</th>\n",
       "    </tr>\n",
       "  </thead>\n",
       "  <tbody>\n",
       "    <tr>\n",
       "      <th>15</th>\n",
       "      <td>7zzbPkvxJ6iANIxcSz60rm</td>\n",
       "      <td>20.0</td>\n",
       "      <td>0.864000</td>\n",
       "      <td>0.638</td>\n",
       "      <td>161560.0</td>\n",
       "      <td>0.156</td>\n",
       "      <td>0.000000</td>\n",
       "      <td>8.0</td>\n",
       "      <td>0.1830</td>\n",
       "      <td>-17.372</td>\n",
       "      <td>1.0</td>\n",
       "      <td>0.0741</td>\n",
       "      <td>103.905</td>\n",
       "      <td>4.0</td>\n",
       "      <td>0.4430</td>\n",
       "      <td>1179763</td>\n",
       "    </tr>\n",
       "    <tr>\n",
       "      <th>20</th>\n",
       "      <td>7zzUVdPXpDr0o7Y2SzgWO8</td>\n",
       "      <td>25.0</td>\n",
       "      <td>0.007410</td>\n",
       "      <td>0.720</td>\n",
       "      <td>282000.0</td>\n",
       "      <td>0.494</td>\n",
       "      <td>0.836000</td>\n",
       "      <td>1.0</td>\n",
       "      <td>0.0786</td>\n",
       "      <td>-9.957</td>\n",
       "      <td>1.0</td>\n",
       "      <td>0.1590</td>\n",
       "      <td>176.955</td>\n",
       "      <td>4.0</td>\n",
       "      <td>0.9020</td>\n",
       "      <td>404914</td>\n",
       "    </tr>\n",
       "    <tr>\n",
       "      <th>35</th>\n",
       "      <td>7zzD8MpgOd9qd3i3fspKlf</td>\n",
       "      <td>8.0</td>\n",
       "      <td>0.037800</td>\n",
       "      <td>0.497</td>\n",
       "      <td>298878.0</td>\n",
       "      <td>0.580</td>\n",
       "      <td>0.000000</td>\n",
       "      <td>9.0</td>\n",
       "      <td>0.0943</td>\n",
       "      <td>-8.671</td>\n",
       "      <td>1.0</td>\n",
       "      <td>0.0287</td>\n",
       "      <td>147.024</td>\n",
       "      <td>4.0</td>\n",
       "      <td>0.3520</td>\n",
       "      <td>81011</td>\n",
       "    </tr>\n",
       "    <tr>\n",
       "      <th>37</th>\n",
       "      <td>7zzAU4EIuTPTUjiMUpmLbN</td>\n",
       "      <td>26.0</td>\n",
       "      <td>0.022500</td>\n",
       "      <td>0.572</td>\n",
       "      <td>158640.0</td>\n",
       "      <td>0.994</td>\n",
       "      <td>0.915000</td>\n",
       "      <td>5.0</td>\n",
       "      <td>0.1090</td>\n",
       "      <td>-5.855</td>\n",
       "      <td>0.0</td>\n",
       "      <td>0.0418</td>\n",
       "      <td>119.535</td>\n",
       "      <td>4.0</td>\n",
       "      <td>0.1270</td>\n",
       "      <td>350401</td>\n",
       "    </tr>\n",
       "    <tr>\n",
       "      <th>49</th>\n",
       "      <td>7zylvC67zTFvKLxSecOInv</td>\n",
       "      <td>20.0</td>\n",
       "      <td>0.002640</td>\n",
       "      <td>0.192</td>\n",
       "      <td>231360.0</td>\n",
       "      <td>0.936</td>\n",
       "      <td>0.054000</td>\n",
       "      <td>6.0</td>\n",
       "      <td>0.3080</td>\n",
       "      <td>-4.484</td>\n",
       "      <td>0.0</td>\n",
       "      <td>0.0749</td>\n",
       "      <td>167.153</td>\n",
       "      <td>4.0</td>\n",
       "      <td>0.4590</td>\n",
       "      <td>474268</td>\n",
       "    </tr>\n",
       "    <tr>\n",
       "      <th>...</th>\n",
       "      <td>...</td>\n",
       "      <td>...</td>\n",
       "      <td>...</td>\n",
       "      <td>...</td>\n",
       "      <td>...</td>\n",
       "      <td>...</td>\n",
       "      <td>...</td>\n",
       "      <td>...</td>\n",
       "      <td>...</td>\n",
       "      <td>...</td>\n",
       "      <td>...</td>\n",
       "      <td>...</td>\n",
       "      <td>...</td>\n",
       "      <td>...</td>\n",
       "      <td>...</td>\n",
       "      <td>...</td>\n",
       "    </tr>\n",
       "    <tr>\n",
       "      <th>1544594</th>\n",
       "      <td>0012gcMTLOeEr2UfflyGgh</td>\n",
       "      <td>9.0</td>\n",
       "      <td>0.133000</td>\n",
       "      <td>0.613</td>\n",
       "      <td>210733.0</td>\n",
       "      <td>0.487</td>\n",
       "      <td>0.811000</td>\n",
       "      <td>0.0</td>\n",
       "      <td>0.0711</td>\n",
       "      <td>-9.202</td>\n",
       "      <td>0.0</td>\n",
       "      <td>0.0603</td>\n",
       "      <td>76.519</td>\n",
       "      <td>4.0</td>\n",
       "      <td>0.1080</td>\n",
       "      <td>287007</td>\n",
       "    </tr>\n",
       "    <tr>\n",
       "      <th>1544603</th>\n",
       "      <td>000rdOe90OF65lgFIwPGHm</td>\n",
       "      <td>0.0</td>\n",
       "      <td>0.324000</td>\n",
       "      <td>0.481</td>\n",
       "      <td>203333.0</td>\n",
       "      <td>0.552</td>\n",
       "      <td>0.000399</td>\n",
       "      <td>9.0</td>\n",
       "      <td>0.1170</td>\n",
       "      <td>-6.874</td>\n",
       "      <td>1.0</td>\n",
       "      <td>0.0338</td>\n",
       "      <td>145.629</td>\n",
       "      <td>4.0</td>\n",
       "      <td>0.2460</td>\n",
       "      <td>1278576</td>\n",
       "    </tr>\n",
       "    <tr>\n",
       "      <th>1544611</th>\n",
       "      <td>000cAxMxUfuDlvPYIVrrZ4</td>\n",
       "      <td>28.0</td>\n",
       "      <td>0.000147</td>\n",
       "      <td>0.474</td>\n",
       "      <td>181345.0</td>\n",
       "      <td>0.966</td>\n",
       "      <td>0.000000</td>\n",
       "      <td>8.0</td>\n",
       "      <td>0.3740</td>\n",
       "      <td>-2.957</td>\n",
       "      <td>1.0</td>\n",
       "      <td>0.0931</td>\n",
       "      <td>156.993</td>\n",
       "      <td>4.0</td>\n",
       "      <td>0.6020</td>\n",
       "      <td>75032</td>\n",
       "    </tr>\n",
       "    <tr>\n",
       "      <th>1544616</th>\n",
       "      <td>000V2mp9CgAS1Er4eTzG3C</td>\n",
       "      <td>5.0</td>\n",
       "      <td>0.845000</td>\n",
       "      <td>0.151</td>\n",
       "      <td>286960.0</td>\n",
       "      <td>0.238</td>\n",
       "      <td>0.829000</td>\n",
       "      <td>0.0</td>\n",
       "      <td>0.0922</td>\n",
       "      <td>-13.381</td>\n",
       "      <td>1.0</td>\n",
       "      <td>0.0389</td>\n",
       "      <td>105.631</td>\n",
       "      <td>3.0</td>\n",
       "      <td>0.0286</td>\n",
       "      <td>742785</td>\n",
       "    </tr>\n",
       "    <tr>\n",
       "      <th>1544638</th>\n",
       "      <td>000Bpkj55Qzriw94DCpV1T</td>\n",
       "      <td>36.0</td>\n",
       "      <td>0.105000</td>\n",
       "      <td>0.749</td>\n",
       "      <td>253960.0</td>\n",
       "      <td>0.872</td>\n",
       "      <td>0.000000</td>\n",
       "      <td>10.0</td>\n",
       "      <td>0.1020</td>\n",
       "      <td>-2.985</td>\n",
       "      <td>0.0</td>\n",
       "      <td>0.2540</td>\n",
       "      <td>90.039</td>\n",
       "      <td>4.0</td>\n",
       "      <td>0.8060</td>\n",
       "      <td>1381021</td>\n",
       "    </tr>\n",
       "  </tbody>\n",
       "</table>\n",
       "<p>100000 rows × 16 columns</p>\n",
       "</div>"
      ],
      "text/plain": [
       "                     itemID_str  spotify_popularity  acousticness  \\\n",
       "15       7zzbPkvxJ6iANIxcSz60rm                20.0      0.864000   \n",
       "20       7zzUVdPXpDr0o7Y2SzgWO8                25.0      0.007410   \n",
       "35       7zzD8MpgOd9qd3i3fspKlf                 8.0      0.037800   \n",
       "37       7zzAU4EIuTPTUjiMUpmLbN                26.0      0.022500   \n",
       "49       7zylvC67zTFvKLxSecOInv                20.0      0.002640   \n",
       "...                         ...                 ...           ...   \n",
       "1544594  0012gcMTLOeEr2UfflyGgh                 9.0      0.133000   \n",
       "1544603  000rdOe90OF65lgFIwPGHm                 0.0      0.324000   \n",
       "1544611  000cAxMxUfuDlvPYIVrrZ4                28.0      0.000147   \n",
       "1544616  000V2mp9CgAS1Er4eTzG3C                 5.0      0.845000   \n",
       "1544638  000Bpkj55Qzriw94DCpV1T                36.0      0.105000   \n",
       "\n",
       "         danceability  duration_ms  energy  instrumentalness   key  liveness  \\\n",
       "15              0.638     161560.0   0.156          0.000000   8.0    0.1830   \n",
       "20              0.720     282000.0   0.494          0.836000   1.0    0.0786   \n",
       "35              0.497     298878.0   0.580          0.000000   9.0    0.0943   \n",
       "37              0.572     158640.0   0.994          0.915000   5.0    0.1090   \n",
       "49              0.192     231360.0   0.936          0.054000   6.0    0.3080   \n",
       "...               ...          ...     ...               ...   ...       ...   \n",
       "1544594         0.613     210733.0   0.487          0.811000   0.0    0.0711   \n",
       "1544603         0.481     203333.0   0.552          0.000399   9.0    0.1170   \n",
       "1544611         0.474     181345.0   0.966          0.000000   8.0    0.3740   \n",
       "1544616         0.151     286960.0   0.238          0.829000   0.0    0.0922   \n",
       "1544638         0.749     253960.0   0.872          0.000000  10.0    0.1020   \n",
       "\n",
       "         loudness  mode  speechiness    tempo  time_signature  valence  \\\n",
       "15        -17.372   1.0       0.0741  103.905             4.0   0.4430   \n",
       "20         -9.957   1.0       0.1590  176.955             4.0   0.9020   \n",
       "35         -8.671   1.0       0.0287  147.024             4.0   0.3520   \n",
       "37         -5.855   0.0       0.0418  119.535             4.0   0.1270   \n",
       "49         -4.484   0.0       0.0749  167.153             4.0   0.4590   \n",
       "...           ...   ...          ...      ...             ...      ...   \n",
       "1544594    -9.202   0.0       0.0603   76.519             4.0   0.1080   \n",
       "1544603    -6.874   1.0       0.0338  145.629             4.0   0.2460   \n",
       "1544611    -2.957   1.0       0.0931  156.993             4.0   0.6020   \n",
       "1544616   -13.381   1.0       0.0389  105.631             3.0   0.0286   \n",
       "1544638    -2.985   0.0       0.2540   90.039             4.0   0.8060   \n",
       "\n",
       "          itemID  \n",
       "15       1179763  \n",
       "20        404914  \n",
       "35         81011  \n",
       "37        350401  \n",
       "49        474268  \n",
       "...          ...  \n",
       "1544594   287007  \n",
       "1544603  1278576  \n",
       "1544611    75032  \n",
       "1544616   742785  \n",
       "1544638  1381021  \n",
       "\n",
       "[100000 rows x 16 columns]"
      ]
     },
     "execution_count": 11,
     "metadata": {},
     "output_type": "execute_result"
    }
   ],
   "source": [
    "df_item_info"
   ]
  },
  {
   "cell_type": "code",
   "execution_count": 12,
   "id": "80e7749b",
   "metadata": {
    "collapsed": false,
    "pycharm": {
     "name": "#%%\n"
    }
   },
   "outputs": [],
   "source": [
    "# create new user file for our usage\n",
    "df_user_info = df_users.copy()\n",
    "interaction_matrix = interaction_matrix_sampled\n",
    "\n",
    "# change column names to camel-case & drop hyphens\n",
    "rn = {cn: cn[0].lower() + cn[1:].replace(\"-\", \"\") for cn in df_user_info.columns}\n",
    "df_user_info.rename(rn, inplace=True, axis=1)\n",
    "\n",
    "sampled_suffix = f\"_{n_sampled_items}\""
   ]
  },
  {
   "cell_type": "code",
   "execution_count": 13,
   "id": "901efa3c",
   "metadata": {
    "collapsed": false,
    "pycharm": {
     "name": "#%%\n"
    }
   },
   "outputs": [],
   "source": [
    "# store results\n",
    "attribute_descriptions = {}\n",
    "storage_dir = os.path.join(data_dir, f\"full\" + sampled_suffix)\n",
    "utils.store_results(storage_dir, interaction_matrix, df_user_info, attribute_descriptions)"
   ]
  },
  {
   "cell_type": "code",
   "execution_count": 15,
   "id": "2f179c1f",
   "metadata": {
    "collapsed": false,
    "pycharm": {
     "name": "#%%\n"
    }
   },
   "outputs": [
    {
     "name": "stdout",
     "output_type": "stream",
     "text": [
      "Final shape of interactions matrix is (1284, 37929)\n",
      "==> 1284 users and 37929 items are remaining.\n",
      "\n",
      "Number of interactions is 1936313,\n",
      "which leads to a density of 0.0398.\n"
     ]
    }
   ],
   "source": [
    "# filter users & tracks with too less interaction\n",
    "min_interactions_user = 5\n",
    "min_interactions_item = 5\n",
    "\n",
    "im_all, umap_all, imap_all, uinfo_all, iinfo_all = utils.ensure_min_interactions(interaction_matrix, \n",
    "                                                      min_interactions_user, min_interactions_item,\n",
    "                                                      df_user_info, df_item_info)\n",
    "\n",
    "utils.print_stats(im_all)\n",
    "\n",
    "# account for previous adjustment of item indices\n",
    "#imap_all = imap_all.assign(old=imap_all[\"old\"].replace(item_rename_dict_reverse))\n",
    "imap_all[\"old_new\"] = item2token.loc[imap_all[\"old\"]].values\n",
    "imap_all.rename(columns={\"old\":\"old_prev\"},inplace=True)\n",
    "imap_all.rename(columns={\"old_new\":\"old\"},inplace=True)\n",
    "assert im_all.shape[0] == len(uinfo_all)\n",
    "\n",
    "# store results\n",
    "storage_dir = os.path.join(data_dir, f\"user_gte_{min_interactions_user}_item_gte_{min_interactions_item}\" + sampled_suffix)\n",
    "utils.store_results(storage_dir, im_all, uinfo_all, attribute_descriptions, iinfo_all, umap_all, imap_all)"
   ]
  },
  {
   "cell_type": "code",
   "execution_count": null,
   "metadata": {
    "collapsed": false,
    "pycharm": {
     "name": "#%%\n"
    }
   },
   "outputs": [],
   "source": [
    "# drop all data where no gender info is given\n",
    "mask_gender_given = df_user_info[\"gender\"].isin([\"f\", \"m\"])\n",
    "user_info_gen = df_user_info[mask_gender_given]\n",
    "im_gen = interaction_matrix[mask_gender_given, :]\n",
    "\n",
    "im_gen, umap_gen, imap_gen, uinfo_gen, iinfo_gen = utils.ensure_min_interactions(im_gen, \n",
    "                                                      min_interactions_user, min_interactions_item,\n",
    "                                                      user_info_gen, df_item_info)\n",
    "\n",
    "utils.print_stats(im_gen)\n",
    "\n",
    "# account for previous adjustment of item indices\n",
    "imap_gen = imap_gen.assign(old=imap_gen[\"old\"].replace(item_rename_dict_reverse))\n",
    "\n",
    "assert im_gen.shape[0] == len(uinfo_gen)\n",
    "\n",
    "# store results\n",
    "storage_dir = os.path.join(data_dir, f\"user_gte_{min_interactions_user}_item_gte_{min_interactions_item}_gender\" + sampled_suffix)\n",
    "utils.store_results(storage_dir, im_gen, uinfo_gen, attribute_descriptions, iinfo_gen, umap_gen, imap_gen)"
   ]
  },
  {
   "cell_type": "code",
   "execution_count": null,
   "metadata": {
    "collapsed": false,
    "pycharm": {
     "name": "#%%\n"
    }
   },
   "outputs": [],
   "source": [
    "# drop all data where no location info is given\n",
    "mask_country_given = df_user_info[\"country\"] != \"\"\n",
    "user_info_country = df_user_info[mask_country_given]\n",
    "im_country = interaction_matrix[mask_country_given, :]\n",
    "\n",
    "im_country, umap_country, imap_country, uinfo_country, iinfo_country = utils.ensure_min_interactions(im_country, \n",
    "                                                      min_interactions_user, min_interactions_item,\n",
    "                                                      user_info_country, df_item_info)\n",
    "\n",
    "utils.print_stats(im_country)\n",
    "\n",
    "# account for previous adjustment of item indices\n",
    "item_rename_dict_reverse = {v: k for k, v in item_rename_dict.items()}\n",
    "imap_country = imap_country.assign(old=imap_country[\"old\"].replace(item_rename_dict_reverse))\n",
    "\n",
    "assert im_country.shape[0] == len(uinfo_country)\n",
    "\n",
    "# store results\n",
    "storage_dir = os.path.join(data_dir, f\"user_gte_{min_interactions_user}_item_gte_{min_interactions_item}_loc\" + sampled_suffix)\n",
    "utils.store_results(storage_dir, im_country, uinfo_country, attribute_descriptions, iinfo_country, umap_country, imap_country)"
   ]
  },
  {
   "cell_type": "code",
   "execution_count": null,
   "metadata": {
    "collapsed": false,
    "pycharm": {
     "name": "#%%\n"
    }
   },
   "outputs": [],
   "source": [
    "# drop all data where no age info is given\n",
    "mask_age_given = df_user_info[\"age\"] != -1\n",
    "user_info_age = df_user_info[mask_age_given]\n",
    "im_age = interaction_matrix[mask_age_given, :]\n",
    "\n",
    "im_age, umap_age, imap_age, uinfo_age, iinfo_age = utils.ensure_min_interactions(im_age, \n",
    "                                                      min_interactions_user, min_interactions_item,\n",
    "                                                      user_info_age, df_item_info)\n",
    "\n",
    "utils.print_stats(im_age)\n",
    "\n",
    "# account for previous adjustment of item indices\n",
    "item_rename_dict_reverse = {v: k for k, v in item_rename_dict.items()}\n",
    "imap_age = imap_age.assign(old=imap_age[\"old\"].replace(item_rename_dict_reverse))\n",
    "\n",
    "assert im_age.shape[0] == len(uinfo_age)\n",
    "\n",
    "# store results\n",
    "storage_dir = os.path.join(data_dir, f\"user_gte_{min_interactions_user}_item_gte_{min_interactions_item}_age\" + sampled_suffix)\n",
    "utils.store_results(storage_dir, im_age, uinfo_age, attribute_descriptions, iinfo_age, umap_age, imap_age)"
   ]
  },
  {
   "cell_type": "code",
   "execution_count": null,
   "metadata": {
    "collapsed": false,
    "pycharm": {
     "name": "#%%\n"
    }
   },
   "outputs": [],
   "source": [
    "# drop all data where either age or loc is not given\n",
    "mask_given = mask_gender_given\n",
    "mask_given &= mask_country_given\n",
    "mask_given &= mask_age_given\n",
    "\n",
    "user_info = df_user_info[mask_given]\n",
    "im = interaction_matrix[mask_given, :]\n",
    "\n",
    "im, umap, imap, uinfo, iinfo = utils.ensure_min_interactions(im, \n",
    "                                                      min_interactions_user, min_interactions_item,\n",
    "                                                      user_info, df_item_info)\n",
    "\n",
    "utils.print_stats(im)\n",
    "\n",
    "# account for previous adjustment of item indices\n",
    "item_rename_dict_reverse = {v: k for k, v in item_rename_dict.items()}\n",
    "imap = imap.assign(old=imap[\"old\"].replace(item_rename_dict_reverse))\n",
    "\n",
    "assert im.shape[0] == len(uinfo)\n",
    "\n",
    "# store results\n",
    "storage_dir = os.path.join(data_dir, f\"user_gte_{min_interactions_user}_item_gte_{min_interactions_item}_gender_age_loc\" + sampled_suffix)\n",
    "utils.store_results(storage_dir, im, uinfo, attribute_descriptions, iinfo, umap, imap)"
   ]
  },
  {
   "cell_type": "code",
   "execution_count": 18,
   "id": "1dbf906c",
   "metadata": {
    "pycharm": {
     "name": "#%%\n"
    }
   },
   "outputs": [
    {
     "name": "stdout",
     "output_type": "stream",
     "text": [
      "Final shape of interactions matrix is (7603, 62617)\n",
      "==> 7603 users and 62617 items are remaining.\n",
      "\n",
      "Number of interactions is 1845963,\n",
      "which leads to a density of 0.0039.\n"
     ]
    }
   ],
   "source": [
    "# drop all data where either age or loc is not given\n",
    "mask_given = mask_gender_given\n",
    "mask_given &= mask_country_given\n",
    "mask_given &= mask_age_given\n",
    "\n",
    "user_info = df_user_info[mask_given]\n",
    "im = interaction_matrix[mask_given, :]\n",
    "\n",
    "im, umap, imap, uinfo, iinfo = utils.ensure_min_interactions(im, \n",
    "                                                      min_interactions_user, min_interactions_item,\n",
    "                                                      user_info, df_item_info)\n",
    "\n",
    "utils.print_stats(im)\n",
    "\n",
    "# account for previous adjustment of item indices\n",
    "item_rename_dict_reverse = {v: k for k, v in item_rename_dict.items()}\n",
    "imap = imap.assign(old=imap[\"old\"].replace(item_rename_dict_reverse))\n",
    "\n",
    "assert im.shape[0] == len(uinfo)\n",
    "\n",
    "# store results\n",
    "storage_dir = os.path.join(data_dir, f\"user_gte_{min_interactions_user}_item_gte_{min_interactions_item}_gender_age_loc\" + sampled_suffix)\n",
    "utils.store_results(storage_dir, im, uinfo, attribute_descriptions, iinfo, umap, imap)"
   ]
  },
  {
   "cell_type": "code",
   "execution_count": null,
   "id": "05b45120",
   "metadata": {},
   "outputs": [],
   "source": []
  }
 ],
 "metadata": {
  "kernelspec": {
   "display_name": "Python 3 (ipykernel)",
   "language": "python",
   "name": "python3"
  },
  "language_info": {
   "codemirror_mode": {
    "name": "ipython",
    "version": 3
   },
   "file_extension": ".py",
   "mimetype": "text/x-python",
   "name": "python",
   "nbconvert_exporter": "python",
   "pygments_lexer": "ipython3",
   "version": "3.8.13"
  }
 },
 "nbformat": 4,
 "nbformat_minor": 5
}
