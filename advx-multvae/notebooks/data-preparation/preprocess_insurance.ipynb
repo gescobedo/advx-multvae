{
 "cells": [
  {
   "cell_type": "markdown",
   "id": "a5f93ab9",
   "metadata": {},
   "source": [
    "# Notebook to preprocess the Insurance Recommendation Dataset\n",
    "https://www.kaggle.com/mrmorj/insurance-recommendation"
   ]
  },
  {
   "cell_type": "code",
   "execution_count": 1,
   "id": "0e0181f5",
   "metadata": {},
   "outputs": [],
   "source": [
    "import os\n",
    "import json\n",
    "import utils\n",
    "import numpy as np\n",
    "import pandas as pd\n",
    "from scipy import sparse as sp"
   ]
  },
  {
   "cell_type": "code",
   "execution_count": 2,
   "id": "edc4c6fa",
   "metadata": {},
   "outputs": [],
   "source": [
    "data_dir = \"/media/data/Datasets/insurance-recommendation\""
   ]
  },
  {
   "cell_type": "code",
   "execution_count": 3,
   "metadata": {},
   "outputs": [
    {
     "data": {
      "text/html": [
       "<div>\n",
       "<style scoped>\n",
       "    .dataframe tbody tr th:only-of-type {\n",
       "        vertical-align: middle;\n",
       "    }\n",
       "\n",
       "    .dataframe tbody tr th {\n",
       "        vertical-align: top;\n",
       "    }\n",
       "\n",
       "    .dataframe thead th {\n",
       "        text-align: right;\n",
       "    }\n",
       "</style>\n",
       "<table border=\"1\" class=\"dataframe\">\n",
       "  <thead>\n",
       "    <tr style=\"text-align: right;\">\n",
       "      <th></th>\n",
       "      <th>ID</th>\n",
       "      <th>join_date</th>\n",
       "      <th>sex</th>\n",
       "      <th>marital_status</th>\n",
       "      <th>birth_year</th>\n",
       "      <th>branch_code</th>\n",
       "      <th>occupation_code</th>\n",
       "      <th>occupation_category_code</th>\n",
       "      <th>P5DA</th>\n",
       "      <th>RIBP</th>\n",
       "      <th>...</th>\n",
       "      <th>AHXO</th>\n",
       "      <th>BSTQ</th>\n",
       "      <th>FM3X</th>\n",
       "      <th>K6QO</th>\n",
       "      <th>QBOL</th>\n",
       "      <th>JWFN</th>\n",
       "      <th>JZ9D</th>\n",
       "      <th>J9JW</th>\n",
       "      <th>GHYX</th>\n",
       "      <th>ECY3</th>\n",
       "    </tr>\n",
       "  </thead>\n",
       "  <tbody>\n",
       "    <tr>\n",
       "      <th>0</th>\n",
       "      <td>0</td>\n",
       "      <td>1/2/2019</td>\n",
       "      <td>F</td>\n",
       "      <td>M</td>\n",
       "      <td>1987</td>\n",
       "      <td>1X1H</td>\n",
       "      <td>2A7I</td>\n",
       "      <td>T4MS</td>\n",
       "      <td>0</td>\n",
       "      <td>0</td>\n",
       "      <td>...</td>\n",
       "      <td>0</td>\n",
       "      <td>0</td>\n",
       "      <td>0</td>\n",
       "      <td>1</td>\n",
       "      <td>0</td>\n",
       "      <td>0</td>\n",
       "      <td>0</td>\n",
       "      <td>0</td>\n",
       "      <td>0</td>\n",
       "      <td>0</td>\n",
       "    </tr>\n",
       "    <tr>\n",
       "      <th>1</th>\n",
       "      <td>1</td>\n",
       "      <td>1/6/2019</td>\n",
       "      <td>F</td>\n",
       "      <td>M</td>\n",
       "      <td>1981</td>\n",
       "      <td>UAOD</td>\n",
       "      <td>2A7I</td>\n",
       "      <td>T4MS</td>\n",
       "      <td>0</td>\n",
       "      <td>0</td>\n",
       "      <td>...</td>\n",
       "      <td>0</td>\n",
       "      <td>0</td>\n",
       "      <td>0</td>\n",
       "      <td>1</td>\n",
       "      <td>0</td>\n",
       "      <td>0</td>\n",
       "      <td>0</td>\n",
       "      <td>0</td>\n",
       "      <td>0</td>\n",
       "      <td>0</td>\n",
       "    </tr>\n",
       "    <tr>\n",
       "      <th>2</th>\n",
       "      <td>2</td>\n",
       "      <td>1/6/2013</td>\n",
       "      <td>M</td>\n",
       "      <td>U</td>\n",
       "      <td>1991</td>\n",
       "      <td>748L</td>\n",
       "      <td>QZYX</td>\n",
       "      <td>90QI</td>\n",
       "      <td>0</td>\n",
       "      <td>0</td>\n",
       "      <td>...</td>\n",
       "      <td>0</td>\n",
       "      <td>0</td>\n",
       "      <td>0</td>\n",
       "      <td>0</td>\n",
       "      <td>0</td>\n",
       "      <td>0</td>\n",
       "      <td>0</td>\n",
       "      <td>0</td>\n",
       "      <td>0</td>\n",
       "      <td>1</td>\n",
       "    </tr>\n",
       "    <tr>\n",
       "      <th>3</th>\n",
       "      <td>3</td>\n",
       "      <td>1/8/2019</td>\n",
       "      <td>M</td>\n",
       "      <td>M</td>\n",
       "      <td>1990</td>\n",
       "      <td>1X1H</td>\n",
       "      <td>BP09</td>\n",
       "      <td>56SI</td>\n",
       "      <td>0</td>\n",
       "      <td>0</td>\n",
       "      <td>...</td>\n",
       "      <td>0</td>\n",
       "      <td>0</td>\n",
       "      <td>0</td>\n",
       "      <td>1</td>\n",
       "      <td>0</td>\n",
       "      <td>0</td>\n",
       "      <td>0</td>\n",
       "      <td>0</td>\n",
       "      <td>0</td>\n",
       "      <td>0</td>\n",
       "    </tr>\n",
       "    <tr>\n",
       "      <th>4</th>\n",
       "      <td>4</td>\n",
       "      <td>1/8/2019</td>\n",
       "      <td>M</td>\n",
       "      <td>M</td>\n",
       "      <td>1990</td>\n",
       "      <td>748L</td>\n",
       "      <td>NO3L</td>\n",
       "      <td>T4MS</td>\n",
       "      <td>0</td>\n",
       "      <td>0</td>\n",
       "      <td>...</td>\n",
       "      <td>0</td>\n",
       "      <td>0</td>\n",
       "      <td>0</td>\n",
       "      <td>0</td>\n",
       "      <td>0</td>\n",
       "      <td>0</td>\n",
       "      <td>1</td>\n",
       "      <td>1</td>\n",
       "      <td>0</td>\n",
       "      <td>0</td>\n",
       "    </tr>\n",
       "  </tbody>\n",
       "</table>\n",
       "<p>5 rows × 29 columns</p>\n",
       "</div>"
      ],
      "text/plain": [
       "   ID join_date sex marital_status  birth_year branch_code occupation_code  \\\n",
       "0   0  1/2/2019   F              M        1987        1X1H            2A7I   \n",
       "1   1  1/6/2019   F              M        1981        UAOD            2A7I   \n",
       "2   2  1/6/2013   M              U        1991        748L            QZYX   \n",
       "3   3  1/8/2019   M              M        1990        1X1H            BP09   \n",
       "4   4  1/8/2019   M              M        1990        748L            NO3L   \n",
       "\n",
       "  occupation_category_code  P5DA  RIBP  ...  AHXO  BSTQ  FM3X  K6QO  QBOL  \\\n",
       "0                     T4MS     0     0  ...     0     0     0     1     0   \n",
       "1                     T4MS     0     0  ...     0     0     0     1     0   \n",
       "2                     90QI     0     0  ...     0     0     0     0     0   \n",
       "3                     56SI     0     0  ...     0     0     0     1     0   \n",
       "4                     T4MS     0     0  ...     0     0     0     0     0   \n",
       "\n",
       "   JWFN  JZ9D  J9JW  GHYX  ECY3  \n",
       "0     0     0     0     0     0  \n",
       "1     0     0     0     0     0  \n",
       "2     0     0     0     0     1  \n",
       "3     0     0     0     0     0  \n",
       "4     0     1     1     0     0  \n",
       "\n",
       "[5 rows x 29 columns]"
      ]
     },
     "execution_count": 3,
     "metadata": {},
     "output_type": "execute_result"
    }
   ],
   "source": [
    "# Dataset is a single table combining all attributes\n",
    "# Note: We ignore the Test.csv as it contains missing interactions\n",
    "df = pd.read_csv(os.path.join(data_dir, \"Train.csv\"), engine=\"python\", sep=\",\", encoding=\"latin-1\")\n",
    "df = df.assign(ID=df.index)\n",
    "df.head()"
   ]
  },
  {
   "cell_type": "code",
   "execution_count": 4,
   "metadata": {},
   "outputs": [
    {
     "data": {
      "text/plain": [
       "(29132, 21)"
      ]
     },
     "execution_count": 4,
     "metadata": {},
     "output_type": "execute_result"
    }
   ],
   "source": [
    "# extract which columns represent interacted items\n",
    "with open(os.path.join(data_dir, \"VariableDefinitions.txt\")) as fh:\n",
    "    item_columns = [line.split(\" -\")[0] for line in fh if \"- product code\" in line]\n",
    "    \n",
    "# ... and use these columns for the interaction matrix\n",
    "interaction_matrix = df[item_columns].to_numpy()\n",
    "interaction_matrix.shape"
   ]
  },
  {
   "cell_type": "code",
   "execution_count": 5,
   "metadata": {},
   "outputs": [
    {
     "data": {
      "text/html": [
       "<div>\n",
       "<style scoped>\n",
       "    .dataframe tbody tr th:only-of-type {\n",
       "        vertical-align: middle;\n",
       "    }\n",
       "\n",
       "    .dataframe tbody tr th {\n",
       "        vertical-align: top;\n",
       "    }\n",
       "\n",
       "    .dataframe thead th {\n",
       "        text-align: right;\n",
       "    }\n",
       "</style>\n",
       "<table border=\"1\" class=\"dataframe\">\n",
       "  <thead>\n",
       "    <tr style=\"text-align: right;\">\n",
       "      <th></th>\n",
       "      <th>UserID</th>\n",
       "      <th>Gender</th>\n",
       "      <th>Age</th>\n",
       "      <th>Occupation</th>\n",
       "    </tr>\n",
       "  </thead>\n",
       "  <tbody>\n",
       "    <tr>\n",
       "      <th>0</th>\n",
       "      <td>0</td>\n",
       "      <td>f</td>\n",
       "      <td>33</td>\n",
       "      <td>2A7I</td>\n",
       "    </tr>\n",
       "    <tr>\n",
       "      <th>1</th>\n",
       "      <td>1</td>\n",
       "      <td>f</td>\n",
       "      <td>39</td>\n",
       "      <td>2A7I</td>\n",
       "    </tr>\n",
       "    <tr>\n",
       "      <th>2</th>\n",
       "      <td>2</td>\n",
       "      <td>m</td>\n",
       "      <td>29</td>\n",
       "      <td>QZYX</td>\n",
       "    </tr>\n",
       "    <tr>\n",
       "      <th>3</th>\n",
       "      <td>3</td>\n",
       "      <td>m</td>\n",
       "      <td>30</td>\n",
       "      <td>BP09</td>\n",
       "    </tr>\n",
       "    <tr>\n",
       "      <th>4</th>\n",
       "      <td>4</td>\n",
       "      <td>m</td>\n",
       "      <td>30</td>\n",
       "      <td>NO3L</td>\n",
       "    </tr>\n",
       "  </tbody>\n",
       "</table>\n",
       "</div>"
      ],
      "text/plain": [
       "   UserID Gender  Age Occupation\n",
       "0       0      f   33       2A7I\n",
       "1       1      f   39       2A7I\n",
       "2       2      m   29       QZYX\n",
       "3       3      m   30       BP09\n",
       "4       4      m   30       NO3L"
      ]
     },
     "execution_count": 5,
     "metadata": {},
     "output_type": "execute_result"
    }
   ],
   "source": [
    "user_data = {\n",
    "    \"UserID\": df[\"ID\"],\n",
    "    \"Gender\": [s.lower() for s in df[\"sex\"]],\n",
    "    # year when dataset was published\n",
    "    \"Age\": 2020 - df[\"birth_year\"],\n",
    "    \"Occupation\": df[\"occupation_code\"]\n",
    "}\n",
    "\n",
    "df_users = pd.DataFrame(user_data)\n",
    "df_users.head()"
   ]
  },
  {
   "cell_type": "code",
   "execution_count": 6,
   "metadata": {},
   "outputs": [
    {
     "data": {
      "text/plain": [
       "3    10766\n",
       "2     8249\n",
       "4     7028\n",
       "5     1876\n",
       "1     1209\n",
       "0        4\n",
       "Name: Age, dtype: int64"
      ]
     },
     "execution_count": 6,
     "metadata": {},
     "output_type": "execute_result"
    }
   ],
   "source": [
    "# We group users in age categories to make the data easier to handle\n",
    "age_categories = [18, 25, 35, 45, 55, 100]\n",
    "\n",
    "assigned_age_cat = np.zeros(shape=(len(df_users),) , dtype=int)\n",
    "for cat in age_categories:\n",
    "    assigned_age_cat += (df_users[\"Age\"] > cat).astype(int)\n",
    "\n",
    "assigned_age_cat[df_users[\"Age\"].isna()] = -1\n",
    "df_users[\"Age\"] = assigned_age_cat\n",
    "df_users[\"Age\"].value_counts()"
   ]
  },
  {
   "cell_type": "code",
   "execution_count": 7,
   "metadata": {},
   "outputs": [
    {
     "name": "stdout",
     "output_type": "stream",
     "text": [
      "Dropped 2610 users due to lack in their user groups, 26522 users remain\n"
     ]
    }
   ],
   "source": [
    "min_users_per_group = 100\n",
    "\n",
    "# drop users of minority groups\n",
    "groups_to_keep = [k for k, v in df_users[\"Age\"].value_counts().items() if v >= min_users_per_group]\n",
    "valid_users_age = df_users[\"Age\"].isin(groups_to_keep)\n",
    "\n",
    "groups_to_keep = [k for k, v in df_users[\"Occupation\"].value_counts().items() if v >= min_users_per_group]\n",
    "valid_users_occ = df_users[\"Occupation\"].isin(groups_to_keep)\n",
    "\n",
    "valid_users_mask = valid_users_age & valid_users_occ\n",
    "\n",
    "# filter users\n",
    "n_prev_users = len(df_users)\n",
    "df_users = df_users.loc[valid_users_mask, :]\n",
    "\n",
    "# adjust indices\n",
    "df_users.reset_index(drop=True, inplace=True)\n",
    "df_users.assign(UserID=df_users.index)\n",
    "\n",
    "interaction_matrix = interaction_matrix[valid_users_mask, :]\n",
    "\n",
    "n_users = len(df_users)\n",
    "print(f\"Dropped {n_prev_users - n_users} users due to lack in their user groups, {n_users} users remain\")"
   ]
  },
  {
   "cell_type": "code",
   "execution_count": 8,
   "id": "7f240ff4",
   "metadata": {},
   "outputs": [],
   "source": [
    "# Extracted the README file\n",
    "attribute_descriptions = {\n",
    "    \"gender\": {\n",
    "        \"m\": \"male\",\n",
    "        \"f\": \"female\"\n",
    "    },\n",
    "    \"age\": {\n",
    "        0:  \"Under 18\",\n",
    "        1:  \"18-24\",\n",
    "        2:  \"25-34\",\n",
    "        3:  \"35-44\",\n",
    "        4:  \"45-54\",\n",
    "        5:  \"55+\"\n",
    "    },\n",
    "    # just in case scripts require for each attribute to have a description\n",
    "    \"occupation\": {d:d for d in df_users[\"Occupation\"].unique()}\n",
    "}"
   ]
  },
  {
   "cell_type": "code",
   "execution_count": 9,
   "id": "2f4bc156",
   "metadata": {},
   "outputs": [
    {
     "name": "stdout",
     "output_type": "stream",
     "text": [
      "Number of users: 26522\n",
      "Number of items: 21\n",
      "\n",
      "Counts of users per gender:\n",
      "m    18294\n",
      "f     8228\n",
      "Name: Gender, dtype: int64\n",
      "\n",
      "Number of interactions: 60127\n",
      "Density: 0.1080\n"
     ]
    }
   ],
   "source": [
    "n_users = len(df_users)\n",
    "n_items = interaction_matrix.shape[1]\n",
    "n_ratings = interaction_matrix.sum()\n",
    "density = n_ratings / (n_items * n_users)\n",
    "\n",
    "# Show some statistics about the dataset\n",
    "print(\"Number of users:\", n_users)\n",
    "print(\"Number of items:\", n_items)\n",
    "print(\"\\nCounts of users per gender:\")\n",
    "print(df_users[\"Gender\"].value_counts())\n",
    "\n",
    "print(\"\\nNumber of interactions:\", n_ratings)\n",
    "print(f\"Density: {density:.4f}\")"
   ]
  },
  {
   "cell_type": "markdown",
   "id": "a561c00a",
   "metadata": {},
   "source": [
    "### Data preparation\n",
    "For our use-case our end-result should be binary interaction matrix, where ```1``` denotes that a user\n",
    "interacted with an item, and ```0``` that they did not."
   ]
  },
  {
   "cell_type": "code",
   "execution_count": 10,
   "metadata": {},
   "outputs": [
    {
     "data": {
      "text/plain": [
       "(26522, 21)"
      ]
     },
     "metadata": {},
     "output_type": "display_data"
    },
    {
     "name": "stdout",
     "output_type": "stream",
     "text": [
      "Number of interactions (again): 60127\n"
     ]
    }
   ],
   "source": [
    "interaction_matrix = sp.csr_matrix(interaction_matrix)\n",
    "display(interaction_matrix.shape)\n",
    "\n",
    "# store results\n",
    "storage_dir = os.path.join(data_dir, \"full\")\n",
    "os.makedirs(storage_dir, exist_ok=True)\n",
    "sp.save_npz(os.path.join(storage_dir, \"interactions.npz\"), interaction_matrix)\n",
    "\n",
    "# check whether all interactions were actually kept\n",
    "print(\"Number of interactions (again):\", interaction_matrix.sum())"
   ]
  },
  {
   "cell_type": "code",
   "execution_count": 11,
   "id": "79ae39f9",
   "metadata": {},
   "outputs": [],
   "source": [
    "# create new user file for our usage\n",
    "df_user_info = df_users.copy()\n",
    "\n",
    "# change column names to camel-case\n",
    "rn = {cn: cn[0].lower() + cn[1:] for cn in df_user_info.columns}\n",
    "df_user_info.rename(rn, inplace=True, axis=1)\n",
    "\n",
    "df_user_info.to_csv(os.path.join(storage_dir, \"user_info.csv\"), index=False)\n",
    "df_user_info.head()\n",
    "\n",
    "with open(os.path.join(storage_dir, \"attribute_descriptions.json\"), \"w\") as fh:\n",
    "    json.dump(attribute_descriptions, fh, indent=\"\\t\")"
   ]
  },
  {
   "cell_type": "code",
   "execution_count": 12,
   "metadata": {},
   "outputs": [
    {
     "name": "stdout",
     "output_type": "stream",
     "text": [
      "Final shape of interactions matrix is (26519, 20)\n",
      "==> 26519 users and 20 items are remaining.\n",
      "\n",
      "Number of interactions is 60120,\n",
      "which leads to a density of 0.1134.\n"
     ]
    }
   ],
   "source": [
    "# filter users & tracks with too less interaction\n",
    "min_interactions_user = 2\n",
    "min_interactions_item = 5\n",
    "\n",
    "im_all, user_info_all = utils.ensure_min_interactions(interaction_matrix, df_user_info, \n",
    "                                                      min_interactions_user, min_interactions_item)\n",
    "\n",
    "utils.print_stats(im_all)\n",
    "\n",
    "# store results\n",
    "storage_dir = os.path.join(data_dir, f\"user_gte_{min_interactions_user}_item_gte_{min_interactions_item}\")\n",
    "utils.store_results(storage_dir, im_all, user_info_all, attribute_descriptions)"
   ]
  },
  {
   "cell_type": "code",
   "execution_count": null,
   "id": "47fc4224",
   "metadata": {},
   "outputs": [],
   "source": []
  }
 ],
 "metadata": {
  "kernelspec": {
   "display_name": "Python 3 (ipykernel)",
   "language": "python",
   "name": "python3"
  },
  "language_info": {
   "codemirror_mode": {
    "name": "ipython",
    "version": 3
   },
   "file_extension": ".py",
   "mimetype": "text/x-python",
   "name": "python",
   "nbconvert_exporter": "python",
   "pygments_lexer": "ipython3",
   "version": "3.9.7"
  }
 },
 "nbformat": 4,
 "nbformat_minor": 5
}
