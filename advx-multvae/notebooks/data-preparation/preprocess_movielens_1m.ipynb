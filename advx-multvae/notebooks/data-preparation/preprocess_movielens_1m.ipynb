{
 "cells": [
  {
   "cell_type": "markdown",
   "id": "a5f93ab9",
   "metadata": {
    "pycharm": {
     "name": "#%% md\n"
    }
   },
   "source": [
    "# Notebook to preprocess the MovieLens1M dataset\n",
    "https://grouplens.org/datasets/movielens/1m/\n",
    "\n",
    "Note that this notebook serves as a good basis for preprocessing datasets where **all demographic information** for all users is available."
   ]
  },
  {
   "cell_type": "code",
   "execution_count": 1,
   "id": "0e0181f5",
   "metadata": {
    "pycharm": {
     "name": "#%%\n"
    }
   },
   "outputs": [],
   "source": [
    "import os\n",
    "import json\n",
    "import utils\n",
    "import numpy as np\n",
    "import pandas as pd\n",
    "from scipy import sparse as sp"
   ]
  },
  {
   "cell_type": "code",
   "execution_count": 2,
   "id": "edc4c6fa",
   "metadata": {
    "pycharm": {
     "name": "#%%\n"
    }
   },
   "outputs": [],
   "source": [
    "# data_dir = \"/media/chiru/Ext/data/Bias Research/movielens_1m\"\n",
    "# data_dir = r\"D:\\data\\datasets\\ml-1m\"\n",
    "# data_dir = \"/media/data/Datasets/ml-1m\"\n",
    "data_dir = r\"/media/data/Studium/CP_Institut/FairnessDatasets/ml-1m\""
   ]
  },
  {
   "cell_type": "code",
   "execution_count": 3,
   "id": "be0dc3d0",
   "metadata": {
    "pycharm": {
     "name": "#%%\n"
    }
   },
   "outputs": [
    {
     "data": {
      "text/html": [
       "<div>\n",
       "<style scoped>\n",
       "    .dataframe tbody tr th:only-of-type {\n",
       "        vertical-align: middle;\n",
       "    }\n",
       "\n",
       "    .dataframe tbody tr th {\n",
       "        vertical-align: top;\n",
       "    }\n",
       "\n",
       "    .dataframe thead th {\n",
       "        text-align: right;\n",
       "    }\n",
       "</style>\n",
       "<table border=\"1\" class=\"dataframe\">\n",
       "  <thead>\n",
       "    <tr style=\"text-align: right;\">\n",
       "      <th></th>\n",
       "      <th>UserID</th>\n",
       "      <th>ItemID</th>\n",
       "      <th>Rating</th>\n",
       "      <th>Timestamp</th>\n",
       "    </tr>\n",
       "  </thead>\n",
       "  <tbody>\n",
       "    <tr>\n",
       "      <th>0</th>\n",
       "      <td>1</td>\n",
       "      <td>1193</td>\n",
       "      <td>5</td>\n",
       "      <td>978300760</td>\n",
       "    </tr>\n",
       "    <tr>\n",
       "      <th>1</th>\n",
       "      <td>1</td>\n",
       "      <td>661</td>\n",
       "      <td>3</td>\n",
       "      <td>978302109</td>\n",
       "    </tr>\n",
       "    <tr>\n",
       "      <th>2</th>\n",
       "      <td>1</td>\n",
       "      <td>914</td>\n",
       "      <td>3</td>\n",
       "      <td>978301968</td>\n",
       "    </tr>\n",
       "    <tr>\n",
       "      <th>3</th>\n",
       "      <td>1</td>\n",
       "      <td>3408</td>\n",
       "      <td>4</td>\n",
       "      <td>978300275</td>\n",
       "    </tr>\n",
       "    <tr>\n",
       "      <th>4</th>\n",
       "      <td>1</td>\n",
       "      <td>2355</td>\n",
       "      <td>5</td>\n",
       "      <td>978824291</td>\n",
       "    </tr>\n",
       "  </tbody>\n",
       "</table>\n",
       "</div>"
      ],
      "text/plain": [
       "   UserID  ItemID  Rating  Timestamp\n",
       "0       1    1193       5  978300760\n",
       "1       1     661       3  978302109\n",
       "2       1     914       3  978301968\n",
       "3       1    3408       4  978300275\n",
       "4       1    2355       5  978824291"
      ]
     },
     "execution_count": 3,
     "metadata": {},
     "output_type": "execute_result"
    }
   ],
   "source": [
    "df_ratings = pd.read_csv(os.path.join(data_dir, \"ratings.dat\"), \n",
    "                        sep=\"::\", engine=\"python\", encoding='latin-1',\n",
    "                        names=[\"UserID\", \"ItemID\", \"Rating\", \"Timestamp\"])\n",
    "df_ratings.head()"
   ]
  },
  {
   "cell_type": "code",
   "execution_count": 4,
   "id": "fafe1966",
   "metadata": {
    "pycharm": {
     "name": "#%%\n"
    }
   },
   "outputs": [
    {
     "data": {
      "text/plain": [
       "4    348971\n",
       "3    261197\n",
       "5    226310\n",
       "2    107557\n",
       "1     56174\n",
       "Name: Rating, dtype: int64"
      ]
     },
     "execution_count": 4,
     "metadata": {},
     "output_type": "execute_result"
    }
   ],
   "source": [
    "df_ratings[\"Rating\"].value_counts()"
   ]
  },
  {
   "cell_type": "code",
   "execution_count": 5,
   "id": "591d2aa4",
   "metadata": {
    "pycharm": {
     "name": "#%%\n"
    }
   },
   "outputs": [
    {
     "data": {
      "text/html": [
       "<div>\n",
       "<style scoped>\n",
       "    .dataframe tbody tr th:only-of-type {\n",
       "        vertical-align: middle;\n",
       "    }\n",
       "\n",
       "    .dataframe tbody tr th {\n",
       "        vertical-align: top;\n",
       "    }\n",
       "\n",
       "    .dataframe thead th {\n",
       "        text-align: right;\n",
       "    }\n",
       "</style>\n",
       "<table border=\"1\" class=\"dataframe\">\n",
       "  <thead>\n",
       "    <tr style=\"text-align: right;\">\n",
       "      <th></th>\n",
       "      <th>UserID</th>\n",
       "      <th>Gender</th>\n",
       "      <th>Age</th>\n",
       "      <th>Occupation</th>\n",
       "      <th>Zip-code</th>\n",
       "    </tr>\n",
       "  </thead>\n",
       "  <tbody>\n",
       "    <tr>\n",
       "      <th>0</th>\n",
       "      <td>1</td>\n",
       "      <td>F</td>\n",
       "      <td>1</td>\n",
       "      <td>10</td>\n",
       "      <td>48067</td>\n",
       "    </tr>\n",
       "    <tr>\n",
       "      <th>1</th>\n",
       "      <td>2</td>\n",
       "      <td>M</td>\n",
       "      <td>56</td>\n",
       "      <td>16</td>\n",
       "      <td>70072</td>\n",
       "    </tr>\n",
       "    <tr>\n",
       "      <th>2</th>\n",
       "      <td>3</td>\n",
       "      <td>M</td>\n",
       "      <td>25</td>\n",
       "      <td>15</td>\n",
       "      <td>55117</td>\n",
       "    </tr>\n",
       "    <tr>\n",
       "      <th>3</th>\n",
       "      <td>4</td>\n",
       "      <td>M</td>\n",
       "      <td>45</td>\n",
       "      <td>7</td>\n",
       "      <td>02460</td>\n",
       "    </tr>\n",
       "    <tr>\n",
       "      <th>4</th>\n",
       "      <td>5</td>\n",
       "      <td>M</td>\n",
       "      <td>25</td>\n",
       "      <td>20</td>\n",
       "      <td>55455</td>\n",
       "    </tr>\n",
       "  </tbody>\n",
       "</table>\n",
       "</div>"
      ],
      "text/plain": [
       "   UserID Gender  Age  Occupation Zip-code\n",
       "0       1      F    1          10    48067\n",
       "1       2      M   56          16    70072\n",
       "2       3      M   25          15    55117\n",
       "3       4      M   45           7    02460\n",
       "4       5      M   25          20    55455"
      ]
     },
     "execution_count": 5,
     "metadata": {},
     "output_type": "execute_result"
    }
   ],
   "source": [
    "df_users = pd.read_csv(os.path.join(data_dir, \"users.dat\"), \n",
    "                        sep=\"::\", engine=\"python\", encoding='latin-1',\n",
    "                        names=[\"UserID\", \"Gender\", \"Age\", \"Occupation\", \"Zip-code\"])\n",
    "df_users.head()"
   ]
  },
  {
   "cell_type": "code",
   "execution_count": 6,
   "id": "7f240ff4",
   "metadata": {
    "pycharm": {
     "name": "#%%\n"
    }
   },
   "outputs": [],
   "source": [
    "# Extracted the README file\n",
    "attribute_descriptions = {\n",
    "    \"gender\": {\n",
    "        \"m\": \"male\",\n",
    "        \"f\": \"female\"\n",
    "    },\n",
    "    \"age\": {\n",
    "        1:  \"Under 18\",\n",
    "        18:  \"18-24\",\n",
    "        25:  \"25-34\",\n",
    "        35:  \"35-44\",\n",
    "        45:  \"45-49\",\n",
    "        50:  \"50-55\",\n",
    "        56:  \"56+\"\n",
    "    },\n",
    "    \"occupation\": {\n",
    "        0:  \"other / not specified\",\n",
    "        1:  \"academic/educator\",\n",
    "        2:  \"artist\",\n",
    "        3:  \"clerical/admin\",\n",
    "        4:  \"college/grad student\",\n",
    "        5:  \"customer service\",\n",
    "        6:  \"doctor/health care\",\n",
    "        7:  \"executive/managerial\",\n",
    "        8:  \"farmer\",\n",
    "        9:  \"homemaker\",\n",
    "        10:  \"K-12 student\",\n",
    "        11:  \"lawyer\",\n",
    "        12:  \"programmer\",\n",
    "        13:  \"retired\",\n",
    "        14:  \"sales/marketing\",\n",
    "        15:  \"scientist\",\n",
    "        16:  \"self-employed\",\n",
    "        17:  \"technician/engineer\",\n",
    "        18:  \"tradesman/craftsman\",\n",
    "        19:  \"unemployed\",\n",
    "        20:  \"writer\"\n",
    "    }\n",
    "}"
   ]
  },
  {
   "cell_type": "code",
   "execution_count": 7,
   "id": "3aaa5763",
   "metadata": {
    "pycharm": {
     "name": "#%%\n"
    }
   },
   "outputs": [
    {
     "data": {
      "text/html": [
       "<div>\n",
       "<style scoped>\n",
       "    .dataframe tbody tr th:only-of-type {\n",
       "        vertical-align: middle;\n",
       "    }\n",
       "\n",
       "    .dataframe tbody tr th {\n",
       "        vertical-align: top;\n",
       "    }\n",
       "\n",
       "    .dataframe thead th {\n",
       "        text-align: right;\n",
       "    }\n",
       "</style>\n",
       "<table border=\"1\" class=\"dataframe\">\n",
       "  <thead>\n",
       "    <tr style=\"text-align: right;\">\n",
       "      <th></th>\n",
       "      <th>ItemID</th>\n",
       "      <th>Title</th>\n",
       "      <th>Genres</th>\n",
       "    </tr>\n",
       "  </thead>\n",
       "  <tbody>\n",
       "    <tr>\n",
       "      <th>0</th>\n",
       "      <td>1</td>\n",
       "      <td>Toy Story (1995)</td>\n",
       "      <td>Animation|Children's|Comedy</td>\n",
       "    </tr>\n",
       "    <tr>\n",
       "      <th>1</th>\n",
       "      <td>2</td>\n",
       "      <td>Jumanji (1995)</td>\n",
       "      <td>Adventure|Children's|Fantasy</td>\n",
       "    </tr>\n",
       "    <tr>\n",
       "      <th>2</th>\n",
       "      <td>3</td>\n",
       "      <td>Grumpier Old Men (1995)</td>\n",
       "      <td>Comedy|Romance</td>\n",
       "    </tr>\n",
       "    <tr>\n",
       "      <th>3</th>\n",
       "      <td>4</td>\n",
       "      <td>Waiting to Exhale (1995)</td>\n",
       "      <td>Comedy|Drama</td>\n",
       "    </tr>\n",
       "    <tr>\n",
       "      <th>4</th>\n",
       "      <td>5</td>\n",
       "      <td>Father of the Bride Part II (1995)</td>\n",
       "      <td>Comedy</td>\n",
       "    </tr>\n",
       "  </tbody>\n",
       "</table>\n",
       "</div>"
      ],
      "text/plain": [
       "   ItemID                               Title                        Genres\n",
       "0       1                    Toy Story (1995)   Animation|Children's|Comedy\n",
       "1       2                      Jumanji (1995)  Adventure|Children's|Fantasy\n",
       "2       3             Grumpier Old Men (1995)                Comedy|Romance\n",
       "3       4            Waiting to Exhale (1995)                  Comedy|Drama\n",
       "4       5  Father of the Bride Part II (1995)                        Comedy"
      ]
     },
     "execution_count": 7,
     "metadata": {},
     "output_type": "execute_result"
    }
   ],
   "source": [
    "df_items = pd.read_csv(os.path.join(data_dir, \"movies.dat\"), \n",
    "                        sep=\"::\", engine=\"python\", encoding='latin-1',\n",
    "                        names=[\"ItemID\", \"Title\", \"Genres\"])\n",
    "df_items.head()"
   ]
  },
  {
   "cell_type": "code",
   "execution_count": 8,
   "id": "2f4bc156",
   "metadata": {
    "pycharm": {
     "name": "#%%\n"
    }
   },
   "outputs": [
    {
     "name": "stdout",
     "output_type": "stream",
     "text": [
      "Number of users: 6040\n",
      "Number of items: 3706\n",
      "\n",
      "Counts of users per gender:\n",
      "M    4331\n",
      "F    1709\n",
      "Name: Gender, dtype: int64\n",
      "\n",
      "Number of interactions: 1000209\n",
      "Density: 0.0447\n"
     ]
    }
   ],
   "source": [
    "item_ids = df_ratings[\"ItemID\"].unique()\n",
    "\n",
    "n_users = len(df_users)\n",
    "n_items = len(item_ids)\n",
    "n_ratings = len(df_ratings)\n",
    "density = n_ratings / (n_items * n_users)\n",
    "\n",
    "# Show some statistics about the dataset\n",
    "print(\"Number of users:\", n_users)\n",
    "print(\"Number of items:\", n_items)\n",
    "print(\"\\nCounts of users per gender:\")\n",
    "print(df_users[\"Gender\"].value_counts())\n",
    "\n",
    "print(\"\\nNumber of interactions:\", n_ratings)\n",
    "print(f\"Density: {density:.4f}\")"
   ]
  },
  {
   "cell_type": "markdown",
   "id": "a561c00a",
   "metadata": {
    "pycharm": {
     "name": "#%% md\n"
    }
   },
   "source": [
    "### Data preparation\n",
    "For our use-case our end-result should be binary interaction matrix, where ```1``` denotes that a user\n",
    "rated an item, and ```0``` that they did not."
   ]
  },
  {
   "cell_type": "code",
   "execution_count": 9,
   "id": "99b42afb",
   "metadata": {
    "pycharm": {
     "name": "#%%\n"
    }
   },
   "outputs": [
    {
     "data": {
      "text/plain": [
       "4    348971\n",
       "5    226310\n",
       "Name: Rating, dtype: int64"
      ]
     },
     "execution_count": 9,
     "metadata": {},
     "output_type": "execute_result"
    }
   ],
   "source": [
    "# only keep ratings >=4, i.e., the ones users really liked\n",
    "df_ratings = df_ratings[df_ratings[\"Rating\"] >= 4].reset_index(drop=True)\n",
    "df_ratings[\"Rating\"].value_counts()"
   ]
  },
  {
   "cell_type": "code",
   "execution_count": 10,
   "id": "f6dda256",
   "metadata": {
    "pycharm": {
     "name": "#%%\n"
    }
   },
   "outputs": [],
   "source": [
    "# some items might be missing, let's therefore adjust / re-enumerate the indices\n",
    "item_rename_dict = {iid: i for i, iid in enumerate(sorted(item_ids))}\n",
    "\n",
    "df_ratings = df_ratings.assign(ItemID = df_ratings[\"ItemID\"].replace(item_rename_dict))\n",
    "                  \n",
    "df_items = df_items[df_items[\"ItemID\"].isin(set(item_ids))]\n",
    "df_items = df_items.assign(ItemID = df_items[\"ItemID\"].replace(item_rename_dict))\n",
    "                  \n",
    "item_ids = list(range(len(item_ids)))"
   ]
  },
  {
   "cell_type": "code",
   "execution_count": 11,
   "id": "bd7fd54c",
   "metadata": {
    "pycharm": {
     "name": "#%%\n"
    }
   },
   "outputs": [
    {
     "data": {
      "text/plain": [
       "(6040, 3706)"
      ]
     },
     "metadata": {},
     "output_type": "display_data"
    },
    {
     "name": "stdout",
     "output_type": "stream",
     "text": [
      "Number of interactions (again): 575281.0\n"
     ]
    }
   ],
   "source": [
    "# get user and item ids from ratings df, -1 as the first user originally received the id 1\n",
    "user_ids = df_ratings[\"UserID\"] - 1\n",
    "item_ids = df_ratings[\"ItemID\"]\n",
    "values = np.ones(len(user_ids))\n",
    "\n",
    "interaction_matrix = sp.csr_matrix((values, (user_ids, item_ids)), shape=(n_users, n_items))\n",
    "display(interaction_matrix.shape)\n",
    "\n",
    "# store results\n",
    "storage_dir = os.path.join(data_dir, \"full\")\n",
    "os.makedirs(storage_dir, exist_ok=True)\n",
    "sp.save_npz(os.path.join(storage_dir, \"interactions.npz\"), interaction_matrix)\n",
    "\n",
    "# check whether all interactions were actually kept\n",
    "print(\"Number of interactions (again):\", interaction_matrix.toarray().sum())"
   ]
  },
  {
   "cell_type": "code",
   "execution_count": 12,
   "id": "79ae39f9",
   "metadata": {
    "pycharm": {
     "name": "#%%\n"
    }
   },
   "outputs": [],
   "source": [
    "# create new user file for our usage\n",
    "df_user_info = df_users[[\"UserID\", \"Gender\", \"Age\", \"Occupation\"]].copy()\n",
    "df_user_info[\"UserID\"] -= 1 # move start index from 1 to 0\n",
    "df_user_info[\"Gender\"] = df_user_info[\"Gender\"].apply(lambda item: item.lower())\n",
    "\n",
    "# change column names to camel-case\n",
    "rn = {cn: cn[0].lower() + cn[1:] for cn in df_user_info.columns}\n",
    "df_user_info.rename(rn, inplace=True, axis=1)\n",
    "\n",
    "df_user_info.to_csv(os.path.join(storage_dir, \"user_info.csv\"), index=False)\n",
    "df_user_info.head()\n",
    "\n",
    "with open(os.path.join(storage_dir, \"attribute_descriptions.json\"), \"w\") as fh:\n",
    "    json.dump(attribute_descriptions, fh, indent=\"\\t\")"
   ]
  },
  {
   "cell_type": "code",
   "execution_count": 13,
   "id": "f087de43",
   "metadata": {
    "pycharm": {
     "name": "#%%\n"
    }
   },
   "outputs": [
    {
     "data": {
      "text/html": [
       "<div>\n",
       "<style scoped>\n",
       "    .dataframe tbody tr th:only-of-type {\n",
       "        vertical-align: middle;\n",
       "    }\n",
       "\n",
       "    .dataframe tbody tr th {\n",
       "        vertical-align: top;\n",
       "    }\n",
       "\n",
       "    .dataframe thead th {\n",
       "        text-align: right;\n",
       "    }\n",
       "</style>\n",
       "<table border=\"1\" class=\"dataframe\">\n",
       "  <thead>\n",
       "    <tr style=\"text-align: right;\">\n",
       "      <th></th>\n",
       "      <th>itemID</th>\n",
       "      <th>title</th>\n",
       "      <th>genres</th>\n",
       "    </tr>\n",
       "  </thead>\n",
       "  <tbody>\n",
       "    <tr>\n",
       "      <th>0</th>\n",
       "      <td>0</td>\n",
       "      <td>Toy Story (1995)</td>\n",
       "      <td>Animation|Children's|Comedy</td>\n",
       "    </tr>\n",
       "    <tr>\n",
       "      <th>1</th>\n",
       "      <td>1</td>\n",
       "      <td>Jumanji (1995)</td>\n",
       "      <td>Adventure|Children's|Fantasy</td>\n",
       "    </tr>\n",
       "    <tr>\n",
       "      <th>2</th>\n",
       "      <td>2</td>\n",
       "      <td>Grumpier Old Men (1995)</td>\n",
       "      <td>Comedy|Romance</td>\n",
       "    </tr>\n",
       "    <tr>\n",
       "      <th>3</th>\n",
       "      <td>3</td>\n",
       "      <td>Waiting to Exhale (1995)</td>\n",
       "      <td>Comedy|Drama</td>\n",
       "    </tr>\n",
       "    <tr>\n",
       "      <th>4</th>\n",
       "      <td>4</td>\n",
       "      <td>Father of the Bride Part II (1995)</td>\n",
       "      <td>Comedy</td>\n",
       "    </tr>\n",
       "  </tbody>\n",
       "</table>\n",
       "</div>"
      ],
      "text/plain": [
       "   itemID                               title                        genres\n",
       "0       0                    Toy Story (1995)   Animation|Children's|Comedy\n",
       "1       1                      Jumanji (1995)  Adventure|Children's|Fantasy\n",
       "2       2             Grumpier Old Men (1995)                Comedy|Romance\n",
       "3       3            Waiting to Exhale (1995)                  Comedy|Drama\n",
       "4       4  Father of the Bride Part II (1995)                        Comedy"
      ]
     },
     "execution_count": 13,
     "metadata": {},
     "output_type": "execute_result"
    }
   ],
   "source": [
    "# create new user file for our usage\n",
    "df_item_info = df_items.copy()\n",
    "\n",
    "# change column names to camel-case\n",
    "rn = {cn: cn[0].lower() + cn[1:] for cn in df_item_info.columns}\n",
    "df_item_info.rename(rn, inplace=True, axis=1)\n",
    "\n",
    "df_item_info.to_csv(os.path.join(storage_dir, \"item_info.csv\"), index=False)\n",
    "df_item_info.head()"
   ]
  },
  {
   "cell_type": "code",
   "execution_count": 14,
   "id": "9f9d56a8",
   "metadata": {
    "pycharm": {
     "name": "#%%\n"
    }
   },
   "outputs": [
    {
     "data": {
      "text/html": [
       "<div>\n",
       "<style scoped>\n",
       "    .dataframe tbody tr th:only-of-type {\n",
       "        vertical-align: middle;\n",
       "    }\n",
       "\n",
       "    .dataframe tbody tr th {\n",
       "        vertical-align: top;\n",
       "    }\n",
       "\n",
       "    .dataframe thead th {\n",
       "        text-align: right;\n",
       "    }\n",
       "</style>\n",
       "<table border=\"1\" class=\"dataframe\">\n",
       "  <thead>\n",
       "    <tr style=\"text-align: right;\">\n",
       "      <th></th>\n",
       "      <th>old</th>\n",
       "      <th>new</th>\n",
       "    </tr>\n",
       "  </thead>\n",
       "  <tbody>\n",
       "    <tr>\n",
       "      <th>0</th>\n",
       "      <td>1</td>\n",
       "      <td>0</td>\n",
       "    </tr>\n",
       "    <tr>\n",
       "      <th>1</th>\n",
       "      <td>2</td>\n",
       "      <td>1</td>\n",
       "    </tr>\n",
       "    <tr>\n",
       "      <th>2</th>\n",
       "      <td>3</td>\n",
       "      <td>2</td>\n",
       "    </tr>\n",
       "    <tr>\n",
       "      <th>3</th>\n",
       "      <td>4</td>\n",
       "      <td>3</td>\n",
       "    </tr>\n",
       "    <tr>\n",
       "      <th>4</th>\n",
       "      <td>5</td>\n",
       "      <td>4</td>\n",
       "    </tr>\n",
       "  </tbody>\n",
       "</table>\n",
       "</div>"
      ],
      "text/plain": [
       "   old  new\n",
       "0    1    0\n",
       "1    2    1\n",
       "2    3    2\n",
       "3    4    3\n",
       "4    5    4"
      ]
     },
     "execution_count": 14,
     "metadata": {},
     "output_type": "execute_result"
    }
   ],
   "source": [
    "old, new = zip(*item_rename_dict.items())\n",
    "df_item_mapping = pd.DataFrame.from_dict({\"old\": old, \"new\": new})\n",
    "df_item_mapping.to_csv(os.path.join(storage_dir, \"item_mapping.csv\"), index=False)\n",
    "df_item_mapping.head()"
   ]
  },
  {
   "cell_type": "code",
   "execution_count": 15,
   "id": "8c1bab8e",
   "metadata": {
    "pycharm": {
     "name": "#%%\n"
    }
   },
   "outputs": [
    {
     "name": "stdout",
     "output_type": "stream",
     "text": [
      "Final shape of interactions matrix is (6034, 3125)\n",
      "==> 6034 users and 3125 items are remaining.\n",
      "\n",
      "Number of interactions is 574376,\n",
      "which leads to a density of 0.0305.\n"
     ]
    }
   ],
   "source": [
    "# filter users & tracks with too less interaction\n",
    "min_interactions_user = 5\n",
    "min_interactions_item = 5\n",
    "\n",
    "im_all, umap_all, imap_all, uinfo_all, iinfo_all = utils.ensure_min_interactions(interaction_matrix, \n",
    "                                                      min_interactions_user, min_interactions_item,\n",
    "                                                      df_user_info, df_item_info)\n",
    "\n",
    "utils.print_stats(im_all)\n",
    "\n",
    "# account for previous adjustment of item indices\n",
    "item_rename_dict_reverse = {v: k for k, v in item_rename_dict.items()}\n",
    "imap_all = imap_all.assign(old=imap_all[\"old\"].replace(item_rename_dict_reverse))\n",
    "\n",
    "# store results\n",
    "storage_dir = os.path.join(data_dir, f\"user_gte_{min_interactions_user}_item_gte_{min_interactions_item}\")\n",
    "utils.store_results(storage_dir, im_all, uinfo_all, attribute_descriptions, iinfo_all, umap_all, imap_all)"
   ]
  }
 ],
 "metadata": {
  "kernelspec": {
   "display_name": "Python 3 (ipykernel)",
   "language": "python",
   "name": "python3"
  },
  "language_info": {
   "codemirror_mode": {
    "name": "ipython",
    "version": 3
   },
   "file_extension": ".py",
   "mimetype": "text/x-python",
   "name": "python",
   "nbconvert_exporter": "python",
   "pygments_lexer": "ipython3",
   "version": "3.9.12"
  }
 },
 "nbformat": 4,
 "nbformat_minor": 5
}