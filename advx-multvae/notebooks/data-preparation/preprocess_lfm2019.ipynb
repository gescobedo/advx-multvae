{
 "cells": [
  {
   "cell_type": "markdown",
   "id": "a5f93ab9",
   "metadata": {
    "pycharm": {
     "name": "#%% md\n"
    }
   },
   "source": [
    "# Notebook to preprocess the LFM2019 dataset\n",
    "Please run the preceeding notebook, \"filter_lfm2019.ipynb\" before running this notebook."
   ]
  },
  {
   "cell_type": "code",
   "execution_count": 1,
   "id": "0e0181f5",
   "metadata": {
    "pycharm": {
     "name": "#%%\n"
    }
   },
   "outputs": [],
   "source": [
    "import os\n",
    "import csv\n",
    "import json\n",
    "import glob\n",
    "import utils\n",
    "import numpy as np\n",
    "import pandas as pd\n",
    "import pickle as pkl\n",
    "from tqdm import tqdm\n",
    "from scipy import sparse as sp\n",
    "import matplotlib.pyplot as plt\n",
    "from collections import defaultdict"
   ]
  },
  {
   "cell_type": "code",
   "execution_count": null,
   "outputs": [],
   "source": [
    "data_dir = \"/media/data/Studium/CP_Institut/FairnessDatasets/lfm\"\n",
    "# data_dir = r\"F:\\Temp\\lfm2b data\""
   ],
   "metadata": {
    "collapsed": false,
    "pycharm": {
     "name": "#%%\n"
    }
   }
  },
  {
   "cell_type": "markdown",
   "source": [
    "### User data"
   ],
   "metadata": {
    "collapsed": false,
    "pycharm": {
     "name": "#%% md\n"
    }
   }
  },
  {
   "cell_type": "code",
   "execution_count": null,
   "outputs": [],
   "source": [
    "# Load user data\n",
    "df_users = pd.read_csv(os.path.join(data_dir, \"users_demo_filtered.tsv\"), sep=\"\\t\", index_col=None)\n",
    "df_users"
   ],
   "metadata": {
    "collapsed": false,
    "pycharm": {
     "name": "#%%\n"
    }
   }
  },
  {
   "cell_type": "code",
   "execution_count": null,
   "outputs": [],
   "source": [
    "df_items = pd.read_csv(os.path.join(data_dir, \"tracks_filtered.tsv\"), sep=\"\\t\", index_col=None)\n",
    "df_items.columns = [\"itemID\", \"artistName\", \"trackName\"]\n",
    "df_items"
   ],
   "metadata": {
    "collapsed": false,
    "pycharm": {
     "name": "#%%\n"
    }
   }
  },
  {
   "cell_type": "markdown",
   "source": [
    "### Interaction matrix"
   ],
   "metadata": {
    "collapsed": false,
    "pycharm": {
     "name": "#%% md\n"
    }
   }
  },
  {
   "cell_type": "markdown",
   "source": [
    "As there are by any means too much items, we will randomly select some items and put them in a sparse matrix."
   ],
   "metadata": {
    "collapsed": false,
    "pycharm": {
     "name": "#%% md\n"
    }
   }
  },
  {
   "cell_type": "code",
   "execution_count": null,
   "outputs": [],
   "source": [
    "n_sampled_items = 100_000\n",
    "np.random.seed(42)\n",
    "\n",
    "interaction_matrix = sp.load_npz(os.path.join(data_dir, \"interaction_matrix_filtered.npz\"))\n",
    "n_users, n_items = interaction_matrix.shape\n",
    "\n",
    "sampled_items = sorted(np.random.choice(np.arange(n_items), n_sampled_items, replace=False))\n",
    "df_items = df_items.iloc[sampled_items]\n",
    "\n",
    "interaction_matrix_sampled = interaction_matrix[:, sampled_items]\n",
    "interaction_matrix_sampled"
   ],
   "metadata": {
    "collapsed": false,
    "pycharm": {
     "name": "#%%\n"
    }
   }
  },
  {
   "cell_type": "markdown",
   "source": [
    "### User information"
   ],
   "metadata": {
    "collapsed": false,
    "pycharm": {
     "name": "#%% md\n"
    }
   }
  },
  {
   "cell_type": "code",
   "execution_count": null,
   "outputs": [],
   "source": [
    "# Moreover, as the didn't seem to be any input validation in place when collecting the data,\n",
    "# we will set the users' attributes to default if they \n",
    "#    - don't make sense (also in case of additional punctations, etc..),\n",
    "#    - belong to a group with only a few users (for nominal data)\n",
    "\n",
    "min_n_users_per_group = 200\n",
    "bad_location_groups = [k for k, v in df_users[\"Country\"].value_counts().items() if v < min_n_users_per_group]\n",
    "bad_location_groups += [\"\", \",\", np.nan]\n",
    "\n",
    "bad_location_users = df_users[\"Country\"].isin(bad_location_groups)\n",
    "print(f\"{bad_location_users.sum()} of {len(bad_location_users)} user countries reset to default\")\n",
    "\n",
    "df_users.loc[bad_location_users, \"Country\"] = \"\"\n",
    "df_users"
   ],
   "metadata": {
    "collapsed": false,
    "pycharm": {
     "name": "#%%\n"
    }
   }
  },
  {
   "cell_type": "code",
   "execution_count": null,
   "outputs": [],
   "source": [
    "min_age = 10\n",
    "max_age = 100\n",
    "bad_age_users = (df_users[\"Age\"] < min_age) | (max_age < df_users[\"Age\"])\n",
    "\n",
    "print(f\"{bad_age_users.sum()} of {len(bad_age_users)} user ages reset to default\")\n",
    "df_users.loc[bad_age_users, \"Age\"] = np.NaN\n",
    "df_users"
   ],
   "metadata": {
    "collapsed": false,
    "pycharm": {
     "name": "#%%\n"
    }
   }
  },
  {
   "cell_type": "code",
   "execution_count": null,
   "outputs": [],
   "source": [
    "# We group users in age categories to make the data easier to handle\n",
    "age_categories = [18, 25, 35, 45, 55]\n",
    "\n",
    "assigned_age_cat = np.zeros(shape=(len(df_users),) , dtype=int)\n",
    "for cat in age_categories:\n",
    "    assigned_age_cat += (df_users[\"Age\"] > cat).astype(int)\n",
    "\n",
    "assigned_age_cat[df_users[\"Age\"].isna()] = -1\n",
    "df_users[\"Age\"] = assigned_age_cat\n",
    "df_users[\"Age\"].value_counts()"
   ],
   "metadata": {
    "collapsed": false,
    "pycharm": {
     "name": "#%%\n"
    }
   }
  },
  {
   "cell_type": "code",
   "execution_count": null,
   "outputs": [],
   "source": [
    "# Extracted the README file\n",
    "attribute_descriptions = {\n",
    "    \"gender\": {\n",
    "        \"m\": \"male\",\n",
    "        \"f\": \"female\"\n",
    "    },\n",
    "    \"age\": {\n",
    "        -1: \"unknown\",\n",
    "        0:  \"Under 18\",\n",
    "        1:  \"18-24\",\n",
    "        2:  \"25-34\",\n",
    "        3:  \"35-44\",\n",
    "        4:  \"45-54\",\n",
    "        5:  \"55+\"\n",
    "    },\n",
    "    # just in case scripts require for each attribute to have a description\n",
    "    \"country\": {d:d for d in df_users[\"Country\"].unique()}\n",
    "}\n",
    "attribute_descriptions[\"country\"][\"\"] = \"undefined\""
   ],
   "metadata": {
    "collapsed": false,
    "pycharm": {
     "name": "#%%\n"
    }
   }
  },
  {
   "cell_type": "code",
   "execution_count": null,
   "outputs": [],
   "source": [
    "n_interactions = interaction_matrix_sampled.sum()\n",
    "density = n_interactions / (n_items * n_users)\n",
    "\n",
    "# Show some statistics about the dataset\n",
    "print(\"Number of users:\", n_users)\n",
    "print(\"Number of items:\", n_items)\n",
    "\n",
    "print(\"\\nNumber of interactions:\", n_interactions)\n",
    "print(f\"Density: {density:.6f}\")"
   ],
   "metadata": {
    "collapsed": false,
    "pycharm": {
     "name": "#%%\n"
    }
   }
  },
  {
   "cell_type": "markdown",
   "source": [
    "### Data preparation\n",
    "For our use-case our end-result should be binary interaction matrix, where ```1``` denotes that a user\n",
    "interacted with an item, and ```0``` that they did not."
   ],
   "metadata": {
    "collapsed": false,
    "pycharm": {
     "name": "#%% md\n"
    }
   }
  },
  {
   "cell_type": "code",
   "execution_count": null,
   "outputs": [],
   "source": [
    "# some items might be missing, let's therefore adjust / re-enumerate the indices\n",
    "item_ids = df_items[\"itemID\"].unique()\n",
    "item_rename_dict = {iid: i for i, iid in enumerate(sorted(item_ids))}\n",
    "item_rename_dict_reverse = {v: k for k, v in item_rename_dict.items()}\n",
    "                  \n",
    "df_items = df_items[df_items[\"itemID\"].isin(set(item_ids))]\n",
    "df_items = df_items.assign(itemID = df_items[\"itemID\"].replace(item_rename_dict))\n",
    "                  \n",
    "item_ids = list(range(len(item_ids)))\n",
    "df_item_info = df_items"
   ],
   "metadata": {
    "collapsed": false,
    "pycharm": {
     "name": "#%%\n"
    }
   }
  },
  {
   "cell_type": "code",
   "execution_count": null,
   "outputs": [],
   "source": [
    "# create new user file for our usage\n",
    "df_user_info = df_users.copy()\n",
    "interaction_matrix = interaction_matrix_sampled\n",
    "\n",
    "# change column names to camel-case & drop hyphons\n",
    "rn = {cn: cn[0].lower() + cn[1:].replace(\"-\", \"\") for cn in df_user_info.columns}\n",
    "df_user_info.rename(rn, inplace=True, axis=1)\n",
    "\n",
    "sampled_suffix = f\"_{n_sampled_items}\""
   ],
   "metadata": {
    "collapsed": false,
    "pycharm": {
     "name": "#%%\n"
    }
   }
  },
  {
   "cell_type": "code",
   "execution_count": null,
   "outputs": [],
   "source": [
    "# store results\n",
    "storage_dir = os.path.join(data_dir, f\"full\" + sampled_suffix)\n",
    "utils.store_results(storage_dir, interaction_matrix, df_user_info, attribute_descriptions)"
   ],
   "metadata": {
    "collapsed": false,
    "pycharm": {
     "name": "#%%\n"
    }
   }
  },
  {
   "cell_type": "code",
   "execution_count": null,
   "outputs": [],
   "source": [
    "# filter users & tracks with too less interaction\n",
    "min_interactions_user = 10\n",
    "min_interactions_item = 10\n",
    "\n",
    "im_all, umap_all, imap_all, uinfo_all, iinfo_all = utils.ensure_min_interactions(interaction_matrix, \n",
    "                                                      min_interactions_user, min_interactions_item,\n",
    "                                                      df_user_info, df_item_info)\n",
    "\n",
    "utils.print_stats(im_all)\n",
    "\n",
    "# account for previous adjustment of item indices\n",
    "imap_all = imap_all.assign(old=imap_all[\"old\"].replace(item_rename_dict_reverse))\n",
    "\n",
    "assert im_all.shape[0] == len(uinfo_all)\n",
    "\n",
    "# store results\n",
    "storage_dir = os.path.join(data_dir, f\"user_gte_{min_interactions_user}_item_gte_{min_interactions_item}\" + sampled_suffix)\n",
    "utils.store_results(storage_dir, im_all, uinfo_all, attribute_descriptions, iinfo_all, umap_all, imap_all)"
   ],
   "metadata": {
    "collapsed": false,
    "pycharm": {
     "name": "#%%\n"
    }
   }
  },
  {
   "cell_type": "code",
   "execution_count": null,
   "outputs": [],
   "source": [
    "# drop all data where no gender info is given\n",
    "mask_gender_given = df_user_info[\"gender\"].isin([\"f\", \"m\"])\n",
    "user_info_gen = df_user_info[mask_gender_given]\n",
    "im_gen = interaction_matrix[mask_gender_given, :]\n",
    "\n",
    "im_gen, umap_gen, imap_gen, uinfo_gen, iinfo_gen = utils.ensure_min_interactions(im_gen, \n",
    "                                                      min_interactions_user, min_interactions_item,\n",
    "                                                      user_info_gen, df_item_info)\n",
    "\n",
    "utils.print_stats(im_gen)\n",
    "\n",
    "# account for previous adjustment of item indices\n",
    "imap_gen = imap_gen.assign(old=imap_gen[\"old\"].replace(item_rename_dict_reverse))\n",
    "\n",
    "assert im_gen.shape[0] == len(uinfo_gen)\n",
    "\n",
    "# store results\n",
    "storage_dir = os.path.join(data_dir, f\"user_gte_{min_interactions_user}_item_gte_{min_interactions_item}_gender\" + sampled_suffix)\n",
    "utils.store_results(storage_dir, im_gen, uinfo_gen, attribute_descriptions, iinfo_gen, umap_gen, imap_gen)"
   ],
   "metadata": {
    "collapsed": false,
    "pycharm": {
     "name": "#%%\n"
    }
   }
  },
  {
   "cell_type": "code",
   "execution_count": null,
   "outputs": [],
   "source": [
    "# drop all data where no location info is given\n",
    "mask_country_given = df_user_info[\"country\"] != \"\"\n",
    "user_info_country = df_user_info[mask_country_given]\n",
    "im_country = interaction_matrix[mask_country_given, :]\n",
    "\n",
    "im_country, umap_country, imap_country, uinfo_country, iinfo_country = utils.ensure_min_interactions(im_country, \n",
    "                                                      min_interactions_user, min_interactions_item,\n",
    "                                                      user_info_country, df_item_info)\n",
    "\n",
    "utils.print_stats(im_country)\n",
    "\n",
    "# account for previous adjustment of item indices\n",
    "item_rename_dict_reverse = {v: k for k, v in item_rename_dict.items()}\n",
    "imap_country = imap_country.assign(old=imap_country[\"old\"].replace(item_rename_dict_reverse))\n",
    "\n",
    "assert im_country.shape[0] == len(uinfo_country)\n",
    "\n",
    "# store results\n",
    "storage_dir = os.path.join(data_dir, f\"user_gte_{min_interactions_user}_item_gte_{min_interactions_item}_loc\" + sampled_suffix)\n",
    "utils.store_results(storage_dir, im_country, uinfo_country, attribute_descriptions, iinfo_country, umap_country, imap_country)"
   ],
   "metadata": {
    "collapsed": false,
    "pycharm": {
     "name": "#%%\n"
    }
   }
  },
  {
   "cell_type": "code",
   "execution_count": null,
   "outputs": [],
   "source": [
    "# drop all data where no age info is given\n",
    "mask_age_given = df_user_info[\"age\"] != -1\n",
    "user_info_age = df_user_info[mask_age_given]\n",
    "im_age = interaction_matrix[mask_age_given, :]\n",
    "\n",
    "im_age, umap_age, imap_age, uinfo_age, iinfo_age = utils.ensure_min_interactions(im_age, \n",
    "                                                      min_interactions_user, min_interactions_item,\n",
    "                                                      user_info_age, df_item_info)\n",
    "\n",
    "utils.print_stats(im_age)\n",
    "\n",
    "# account for previous adjustment of item indices\n",
    "item_rename_dict_reverse = {v: k for k, v in item_rename_dict.items()}\n",
    "imap_age = imap_age.assign(old=imap_age[\"old\"].replace(item_rename_dict_reverse))\n",
    "\n",
    "assert im_age.shape[0] == len(uinfo_age)\n",
    "\n",
    "# store results\n",
    "storage_dir = os.path.join(data_dir, f\"user_gte_{min_interactions_user}_item_gte_{min_interactions_item}_age\" + sampled_suffix)\n",
    "utils.store_results(storage_dir, im_age, uinfo_age, attribute_descriptions, iinfo_age, umap_age, imap_age)"
   ],
   "metadata": {
    "collapsed": false,
    "pycharm": {
     "name": "#%%\n"
    }
   }
  },
  {
   "cell_type": "code",
   "execution_count": null,
   "outputs": [],
   "source": [
    "# drop all data where either age or loc is not given\n",
    "mask_given = mask_gender_given\n",
    "mask_given &= mask_country_given\n",
    "mask_given &= mask_age_given\n",
    "\n",
    "user_info = df_user_info[mask_given]\n",
    "im = interaction_matrix[mask_given, :]\n",
    "\n",
    "im, umap, imap, uinfo, iinfo = utils.ensure_min_interactions(im, \n",
    "                                                      min_interactions_user, min_interactions_item,\n",
    "                                                      user_info, df_item_info)\n",
    "\n",
    "utils.print_stats(im)\n",
    "\n",
    "# account for previous adjustment of item indices\n",
    "item_rename_dict_reverse = {v: k for k, v in item_rename_dict.items()}\n",
    "imap = imap.assign(old=imap[\"old\"].replace(item_rename_dict_reverse))\n",
    "\n",
    "assert im.shape[0] == len(uinfo)\n",
    "\n",
    "# store results\n",
    "storage_dir = os.path.join(data_dir, f\"user_gte_{min_interactions_user}_item_gte_{min_interactions_item}_gender_age_loc\" + sampled_suffix)\n",
    "utils.store_results(storage_dir, im, uinfo, attribute_descriptions, iinfo, umap, imap)"
   ],
   "metadata": {
    "collapsed": false,
    "pycharm": {
     "name": "#%%\n"
    }
   }
  },
  {
   "cell_type": "code",
   "execution_count": 18,
   "id": "1dbf906c",
   "metadata": {
    "pycharm": {
     "name": "#%%\n"
    }
   },
   "outputs": [
    {
     "name": "stdout",
     "output_type": "stream",
     "text": [
      "Final shape of interactions matrix is (7603, 62617)\n",
      "==> 7603 users and 62617 items are remaining.\n",
      "\n",
      "Number of interactions is 1845963,\n",
      "which leads to a density of 0.0039.\n"
     ]
    }
   ],
   "source": [
    "# drop all data where either age or loc is not given\n",
    "mask_given = mask_gender_given\n",
    "mask_given &= mask_country_given\n",
    "mask_given &= mask_age_given\n",
    "\n",
    "user_info = df_user_info[mask_given]\n",
    "im = interaction_matrix[mask_given, :]\n",
    "\n",
    "im, umap, imap, uinfo, iinfo = utils.ensure_min_interactions(im, \n",
    "                                                      min_interactions_user, min_interactions_item,\n",
    "                                                      user_info, df_item_info)\n",
    "\n",
    "utils.print_stats(im)\n",
    "\n",
    "# account for previous adjustment of item indices\n",
    "item_rename_dict_reverse = {v: k for k, v in item_rename_dict.items()}\n",
    "imap = imap.assign(old=imap[\"old\"].replace(item_rename_dict_reverse))\n",
    "\n",
    "assert im.shape[0] == len(uinfo)\n",
    "\n",
    "# store results\n",
    "storage_dir = os.path.join(data_dir, f\"user_gte_{min_interactions_user}_item_gte_{min_interactions_item}_gender_age_loc\" + sampled_suffix)\n",
    "utils.store_results(storage_dir, im, uinfo, attribute_descriptions, iinfo, umap, imap)"
   ]
  },
  {
   "cell_type": "code",
   "execution_count": null,
   "id": "05b45120",
   "metadata": {},
   "outputs": [],
   "source": []
  }
 ],
 "metadata": {
  "kernelspec": {
   "display_name": "Python 3 (ipykernel)",
   "language": "python",
   "name": "python3"
  },
  "language_info": {
   "codemirror_mode": {
    "name": "ipython",
    "version": 3
   },
   "file_extension": ".py",
   "mimetype": "text/x-python",
   "name": "python",
   "nbconvert_exporter": "python",
   "pygments_lexer": "ipython3",
   "version": "3.9.12"
  }
 },
 "nbformat": 4,
 "nbformat_minor": 5
}