{
 "cells": [
  {
   "cell_type": "markdown",
   "source": [
    "# Notebook to preprocess the PostRec dataset\n",
    "https://www.kaggle.com/datasets/vatsalparsaniya/post-pecommendation"
   ],
   "metadata": {
    "collapsed": false,
    "pycharm": {
     "name": "#%% md\n"
    }
   }
  },
  {
   "cell_type": "code",
   "execution_count": null,
   "outputs": [],
   "source": [
    "import os\n",
    "import json\n",
    "import utils\n",
    "import numpy as np\n",
    "import pandas as pd\n",
    "from scipy import sparse as sp"
   ],
   "metadata": {
    "collapsed": false,
    "pycharm": {
     "name": "#%%\n"
    }
   }
  },
  {
   "cell_type": "code",
   "execution_count": null,
   "outputs": [],
   "source": [
    "# data_dir = r\"D:\\data\\datasets\"\n",
    "# data_dir = \"/media/data/Datasets\"\n",
    "# data_dir = r\"/media/data/Studium/CP_Institut/FairnessDatasets\"\n",
    "data_dir = r\"F:\\Studium\\CP_Institut\\FairnessDatasets\"\n",
    "data_dir = os.path.join(data_dir, \"postrec\")"
   ],
   "metadata": {
    "collapsed": false,
    "pycharm": {
     "name": "#%%\n"
    }
   }
  },
  {
   "cell_type": "code",
   "execution_count": null,
   "outputs": [],
   "source": [
    "df_interactions = pd.read_csv(os.path.join(data_dir, \"view_data.csv\"), sep=\",\")\n",
    "df_interactions.head()"
   ],
   "metadata": {
    "collapsed": false,
    "pycharm": {
     "name": "#%%\n"
    }
   }
  },
  {
   "cell_type": "code",
   "execution_count": null,
   "outputs": [],
   "source": [
    "df_users = pd.read_csv(os.path.join(data_dir, \"user_data.csv\"), sep=\",\")\n",
    "df_users.head()"
   ],
   "metadata": {
    "collapsed": false,
    "pycharm": {
     "name": "#%%\n"
    }
   }
  },
  {
   "cell_type": "code",
   "execution_count": null,
   "outputs": [],
   "source": [
    "user_id_map = {u[\"user_id\"]: i for i, u in df_users.iterrows()}\n",
    "df_users[\"user_id\"] = df_users[\"user_id\"].replace(user_id_map)\n",
    "df_users.head()"
   ],
   "metadata": {
    "collapsed": false,
    "pycharm": {
     "name": "#%%\n"
    }
   }
  },
  {
   "cell_type": "code",
   "execution_count": null,
   "outputs": [],
   "source": [
    "df_interactions[\"user_id\"] = df_interactions[\"user_id\"].replace(user_id_map) \n",
    "df_interactions.head()"
   ],
   "metadata": {
    "collapsed": false,
    "pycharm": {
     "name": "#%%\n"
    }
   }
  },
  {
   "cell_type": "code",
   "execution_count": null,
   "outputs": [],
   "source": [
    "# Extracted the README file\n",
    "attribute_descriptions = {\n",
    "    \"gender\": {\n",
    "        \"m\": \"male\",\n",
    "        \"f\": \"female\"\n",
    "    }\n",
    "}"
   ],
   "metadata": {
    "collapsed": false,
    "pycharm": {
     "name": "#%%\n"
    }
   }
  },
  {
   "cell_type": "code",
   "execution_count": null,
   "outputs": [],
   "source": [
    "df_items = pd.read_csv(os.path.join(data_dir, \"post_data.csv\"), sep=\",\")\n",
    "df_items.columns = [\"Title\", \"Category\", \"ItemID\"]\n",
    "df_items.head()"
   ],
   "metadata": {
    "collapsed": false,
    "pycharm": {
     "name": "#%%\n"
    }
   }
  },
  {
   "cell_type": "code",
   "execution_count": null,
   "outputs": [],
   "source": [
    "df_interactions.columns = [\"UserID\", \"ItemID\", \"TimeStamp\"]\n",
    "item_ids = df_interactions[\"ItemID\"].unique()\n",
    "\n",
    "n_users = len(df_users)\n",
    "n_items = len(item_ids)\n",
    "n_ratings = len(df_interactions)\n",
    "density = n_ratings / (n_items * n_users)\n",
    "\n",
    "# Show some statistics about the dataset\n",
    "print(\"Number of users:\", n_users)\n",
    "print(\"Number of items:\", n_items)\n",
    "print(\"\\nCounts of users per gender:\")\n",
    "print(df_users[\"gender\"].value_counts())\n",
    "\n",
    "print(\"\\nNumber of interactions:\", n_ratings)\n",
    "print(f\"Density: {density:.4f}\")"
   ],
   "metadata": {
    "collapsed": false,
    "pycharm": {
     "name": "#%%\n"
    }
   }
  },
  {
   "cell_type": "markdown",
   "source": [
    "### Data preparation\n",
    "For our use-case our end-result should be binary interaction matrix, where ```1``` denotes that a user\n",
    "rated an item, and ```0``` that they did not."
   ],
   "metadata": {
    "collapsed": false,
    "pycharm": {
     "name": "#%% md\n"
    }
   }
  },
  {
   "cell_type": "code",
   "execution_count": null,
   "outputs": [],
   "source": [
    "# some items might be missing, let's therefore adjust / re-enumerate the indices\n",
    "item_rename_dict = {iid: i for i, iid in enumerate(sorted(item_ids))}\n",
    "\n",
    "df_interactions = df_interactions.assign(ItemID = df_interactions[\"ItemID\"].replace(item_rename_dict))\n",
    "                  \n",
    "df_items = df_items[df_items[\"ItemID\"].isin(set(item_ids))]\n",
    "df_items = df_items.assign(ItemID = df_items[\"ItemID\"].replace(item_rename_dict))\n",
    "                  \n",
    "item_ids = list(range(len(item_ids)))"
   ],
   "metadata": {
    "collapsed": false,
    "pycharm": {
     "name": "#%%\n"
    }
   }
  },
  {
   "cell_type": "code",
   "execution_count": null,
   "outputs": [],
   "source": [
    "# get user and item ids from ratings df, -1 as the first user originally received the id 1\n",
    "user_ids = df_interactions[\"UserID\"]\n",
    "item_ids = df_interactions[\"ItemID\"]\n",
    "values = np.ones(len(user_ids))\n",
    "\n",
    "interaction_matrix = sp.csr_matrix((values, (user_ids, item_ids)), shape=(n_users, n_items))\n",
    "display(interaction_matrix.shape)\n",
    "\n",
    "# store results\n",
    "storage_dir = os.path.join(data_dir, \"full\")\n",
    "os.makedirs(storage_dir, exist_ok=True)\n",
    "sp.save_npz(os.path.join(storage_dir, \"interactions.npz\"), interaction_matrix)\n",
    "\n",
    "# check whether all interactions were actually kept\n",
    "print(\"Number of interactions (again):\", interaction_matrix.toarray().sum())"
   ],
   "metadata": {
    "collapsed": false,
    "pycharm": {
     "name": "#%%\n"
    }
   }
  },
  {
   "cell_type": "code",
   "execution_count": null,
   "outputs": [],
   "source": [
    "# create new user file for our usage\n",
    "df_user_info = df_users[[\"user_id\", \"gender\"]].copy()\n",
    "df_user_info.columns = [\"UserID\", \"Gender\"]\n",
    "df_user_info[\"UserID\"] -= 1 # move start index from 1 to 0\n",
    "df_user_info[\"Gender\"] = df_user_info[\"Gender\"].apply(lambda item: item.lower())\n",
    "\n",
    "# change column names to camel-case\n",
    "rn = {cn: cn[0].lower() + cn[1:] for cn in df_user_info.columns}\n",
    "df_user_info.rename(rn, inplace=True, axis=1)\n",
    "\n",
    "df_user_info.to_csv(os.path.join(storage_dir, \"user_info.csv\"), index=False)\n",
    "df_user_info.head()\n",
    "\n",
    "with open(os.path.join(storage_dir, \"attribute_descriptions.json\"), \"w\") as fh:\n",
    "    json.dump(attribute_descriptions, fh, indent=\"\\t\")"
   ],
   "metadata": {
    "collapsed": false,
    "pycharm": {
     "name": "#%%\n"
    }
   }
  },
  {
   "cell_type": "code",
   "execution_count": null,
   "outputs": [],
   "source": [
    "# create new user file for our usage\n",
    "df_item_info = df_items.copy()\n",
    "\n",
    "# change column names to camel-case\n",
    "rn = {cn: cn[0].lower() + cn[1:] for cn in df_item_info.columns}\n",
    "df_item_info.rename(rn, inplace=True, axis=1)\n",
    "\n",
    "df_item_info.to_csv(os.path.join(storage_dir, \"item_info.csv\"), index=False)\n",
    "df_item_info.head()"
   ],
   "metadata": {
    "collapsed": false,
    "pycharm": {
     "name": "#%%\n"
    }
   }
  },
  {
   "cell_type": "code",
   "execution_count": null,
   "outputs": [],
   "source": [
    "old, new = zip(*item_rename_dict.items())\n",
    "df_item_mapping = pd.DataFrame.from_dict({\"old\": old, \"new\": new})\n",
    "df_item_mapping.to_csv(os.path.join(storage_dir, \"item_mapping.csv\"), index=False)\n",
    "df_item_mapping.head()"
   ],
   "metadata": {
    "collapsed": false,
    "pycharm": {
     "name": "#%%\n"
    }
   }
  },
  {
   "cell_type": "code",
   "execution_count": null,
   "outputs": [],
   "source": [
    "# filter users & tracks with too less interaction\n",
    "min_interactions_user = 5\n",
    "min_interactions_item = 5\n",
    "\n",
    "im_all, umap_all, imap_all, uinfo_all, iinfo_all = utils.ensure_min_interactions(interaction_matrix, \n",
    "                                                      min_interactions_user, min_interactions_item,\n",
    "                                                      df_user_info, df_item_info)\n",
    "\n",
    "utils.print_stats(im_all)\n",
    "\n",
    "# account for previous adjustment of item indices\n",
    "item_rename_dict_reverse = {v: k for k, v in item_rename_dict.items()}\n",
    "imap_all = imap_all.assign(old=imap_all[\"old\"].replace(item_rename_dict_reverse))\n",
    "\n",
    "# store results\n",
    "storage_dir = os.path.join(data_dir, f\"user_gte_{min_interactions_user}_item_gte_{min_interactions_item}\")\n",
    "utils.store_results(storage_dir, im_all, uinfo_all, attribute_descriptions, iinfo_all, umap_all, imap_all)"
   ],
   "metadata": {
    "collapsed": false,
    "pycharm": {
     "name": "#%%\n"
    }
   }
  },
  {
   "cell_type": "code",
   "execution_count": null,
   "outputs": [],
   "source": [],
   "metadata": {
    "collapsed": false,
    "pycharm": {
     "name": "#%%\n"
    }
   }
  },
  {
   "cell_type": "code",
   "execution_count": 15,
   "id": "8c1bab8e",
   "metadata": {
    "pycharm": {
     "name": "#%%\n"
    }
   },
   "outputs": [
    {
     "name": "stdout",
     "output_type": "stream",
     "text": [
      "Final shape of interactions matrix is (482, 5964)\n",
      "==> 482 users and 5964 items are remaining.\n",
      "\n",
      "Number of interactions is 71625,\n",
      "which leads to a density of 0.0249.\n"
     ]
    }
   ],
   "source": [
    "# filter users & tracks with too less interaction\n",
    "min_interactions_user = 5\n",
    "min_interactions_item = 5\n",
    "\n",
    "im_all, umap_all, imap_all, uinfo_all, iinfo_all = utils.ensure_min_interactions(interaction_matrix, \n",
    "                                                      min_interactions_user, min_interactions_item,\n",
    "                                                      df_user_info, df_item_info)\n",
    "\n",
    "utils.print_stats(im_all)\n",
    "\n",
    "# account for previous adjustment of item indices\n",
    "item_rename_dict_reverse = {v: k for k, v in item_rename_dict.items()}\n",
    "imap_all = imap_all.assign(old=imap_all[\"old\"].replace(item_rename_dict_reverse))\n",
    "\n",
    "# store results\n",
    "storage_dir = os.path.join(data_dir, f\"user_gte_{min_interactions_user}_item_gte_{min_interactions_item}\")\n",
    "utils.store_results(storage_dir, im_all, uinfo_all, attribute_descriptions, iinfo_all, umap_all, imap_all)"
   ]
  },
  {
   "cell_type": "code",
   "execution_count": null,
   "id": "e86a61f1",
   "metadata": {},
   "outputs": [],
   "source": []
  }
 ],
 "metadata": {
  "kernelspec": {
   "display_name": "Python 3 (ipykernel)",
   "language": "python",
   "name": "python3"
  },
  "language_info": {
   "codemirror_mode": {
    "name": "ipython",
    "version": 3
   },
   "file_extension": ".py",
   "mimetype": "text/x-python",
   "name": "python",
   "nbconvert_exporter": "python",
   "pygments_lexer": "ipython3",
   "version": "3.9.12"
  }
 },
 "nbformat": 4,
 "nbformat_minor": 5
}